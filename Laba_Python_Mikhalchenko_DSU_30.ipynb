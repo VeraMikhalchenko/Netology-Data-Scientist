{
  "cells": [
    {
      "cell_type": "markdown",
      "metadata": {
        "id": "view-in-github",
        "colab_type": "text"
      },
      "source": [
        "<a href=\"https://colab.research.google.com/github/VeraMikhalchenko/Study/blob/main/Laba_Python_Mikhalchenko_DSU_30.ipynb\" target=\"_parent\"><img src=\"https://colab.research.google.com/assets/colab-badge.svg\" alt=\"Open In Colab\"/></a>"
      ]
    },
    {
      "cell_type": "markdown",
      "metadata": {
        "id": "in_HFzNq2xGC"
      },
      "source": [
        "## Лабораторная работа по курсу «Python для анализа данных»"
      ]
    },
    {
      "cell_type": "markdown",
      "metadata": {
        "id": "ZCdNlYLB2xGH"
      },
      "source": [
        "### При выполнении работы допускается использование любых внешних модулей и пакетов."
      ]
    },
    {
      "cell_type": "markdown",
      "metadata": {
        "id": "oJbL8VNv2xGI"
      },
      "source": [
        "#### Задача 1"
      ]
    },
    {
      "cell_type": "markdown",
      "metadata": {
        "id": "yFDH6TGJ2xGI"
      },
      "source": [
        "Дана строка:"
      ]
    },
    {
      "cell_type": "code",
      "execution_count": 36,
      "metadata": {
        "id": "5wa4bhzu2xGJ"
      },
      "outputs": [],
      "source": [
        "string_01 = \"History is always written by the winners. When two cultures clash, the loser is obliterated, and the winner writes the history books - books which glorify their own cause and disparage the conquered foe. As Napoleon once said, 'What is history, but a fable agreed upon?'\""
      ]
    },
    {
      "cell_type": "markdown",
      "metadata": {
        "id": "LxBOOe4a2xGK"
      },
      "source": [
        "1. Посчитайте, сколько в строке символов, исключая пробелы:"
      ]
    },
    {
      "cell_type": "code",
      "execution_count": 37,
      "metadata": {
        "colab": {
          "base_uri": "https://localhost:8080/"
        },
        "id": "B5gqxwA62xGL",
        "outputId": "b101cc57-eee8-4e26-8d56-cd39a53df9ed"
      },
      "outputs": [
        {
          "output_type": "stream",
          "name": "stdout",
          "text": [
            "225\n"
          ]
        }
      ],
      "source": [
        "import re\n",
        "\n",
        "count_symbols = len(re.findall(r'\\S',string_01))\n",
        "\n",
        "print(count_symbols)\n"
      ]
    },
    {
      "cell_type": "markdown",
      "metadata": {
        "id": "B_1EKc5V2xGL"
      },
      "source": [
        "2. Посчитайте, сколько в строке слов."
      ]
    },
    {
      "cell_type": "code",
      "execution_count": 39,
      "metadata": {
        "colab": {
          "base_uri": "https://localhost:8080/"
        },
        "id": "Sa4wKZVH2xGL",
        "outputId": "28e31d6c-452c-4264-b196-9f4478908d5d"
      },
      "outputs": [
        {
          "output_type": "stream",
          "name": "stdout",
          "text": [
            "45\n"
          ]
        }
      ],
      "source": [
        "print(len(re.findall(r'\\w+', string_01)))\n"
      ]
    },
    {
      "cell_type": "markdown",
      "metadata": {
        "id": "MwJMTlRO2xGM"
      },
      "source": [
        "3. Напишите функцию, которая будет принимать в качестве аргумента букву и выводить все слова из строки, начинающиеся на эту букву (например, “w”)."
      ]
    },
    {
      "cell_type": "code",
      "execution_count": 66,
      "metadata": {
        "colab": {
          "base_uri": "https://localhost:8080/"
        },
        "id": "3nzJLuDj2xGM",
        "outputId": "04acf1bc-aa73-4977-91c7-58044b237aa0"
      },
      "outputs": [
        {
          "output_type": "stream",
          "name": "stdout",
          "text": [
            "['written', 'winners', 'When', 'winner', 'writes', 'which', 'What']\n"
          ]
        }
      ],
      "source": [
        "def word_on(letter):\n",
        "        import re\n",
        "        word_on_letter = []   \n",
        "        pattern = r'\\b' + letter + r'\\w*'\n",
        "        word_on_letter += re.findall(pattern, string_01, flags = re.I)\n",
        "        print(word_on_letter)\n",
        "\n",
        "word_on('w')"
      ]
    },
    {
      "cell_type": "markdown",
      "metadata": {
        "id": "dq_P5JYM2xGM"
      },
      "source": [
        "#### Задача 2"
      ]
    },
    {
      "cell_type": "markdown",
      "metadata": {
        "id": "b-WEecoz2xGM"
      },
      "source": [
        "Напишите код, который будет генерировать случайную последовательность из 6 цифр, одна из которых должна быть 3. Позиция цифры 3 должна\n",
        "определяться случайным образом. Результат должен быть строкой. Например: \"456309\" или \"330127\"."
      ]
    },
    {
      "cell_type": "code",
      "execution_count": 35,
      "metadata": {
        "colab": {
          "base_uri": "https://localhost:8080/"
        },
        "id": "2RW7B3ZT2xGN",
        "outputId": "a437cdca-db8d-470d-8568-ae82f60550e7"
      },
      "outputs": [
        {
          "output_type": "stream",
          "name": "stdout",
          "text": [
            "138857\n"
          ]
        }
      ],
      "source": [
        "import random\n",
        "number = ''\n",
        "\n",
        "while '3' not in number:\n",
        "        number = ''.join(str(random.randint (0, 9)) for x in range(6))\n",
        "\n",
        "print(number)"
      ]
    },
    {
      "cell_type": "markdown",
      "metadata": {
        "id": "bwD_TR-92xGN"
      },
      "source": [
        "#### Задача 3"
      ]
    },
    {
      "cell_type": "markdown",
      "metadata": {
        "id": "vj70WSZi2xGO"
      },
      "source": [
        "Дан список:"
      ]
    },
    {
      "cell_type": "code",
      "execution_count": 21,
      "metadata": {
        "id": "IagEOPYp2xGP"
      },
      "outputs": [],
      "source": [
        "list_01 = [1, 1, 2, 3, 5, 8, 13, 21, 34, 55, 89, 144, 233, 377, 610, 14, 46, 273, 22, 99, 15, 1000]"
      ]
    },
    {
      "cell_type": "markdown",
      "metadata": {
        "id": "r6znZ2O42xGP"
      },
      "source": [
        "Напишите алгоритм, который выводит число, равное сумме элементов списка, которые больше 10, но меньше 100, и которые больше 200, но меньше 500."
      ]
    },
    {
      "cell_type": "code",
      "execution_count": 25,
      "metadata": {
        "colab": {
          "base_uri": "https://localhost:8080/"
        },
        "id": "GanYPlm42xGQ",
        "outputId": "6ddee249-d3bf-4f9b-9c0d-0bd39b175e4a"
      },
      "outputs": [
        {
          "output_type": "stream",
          "name": "stdout",
          "text": [
            "1291\n"
          ]
        }
      ],
      "source": [
        "sum_el = 0\n",
        "for el in list_01:\n",
        "        if (10 < el < 100) or (200 < el < 500):\n",
        "                sum_el += el\n",
        "\n",
        "print(sum_el)\n"
      ]
    },
    {
      "cell_type": "markdown",
      "metadata": {
        "id": "w0deI67U2xGQ"
      },
      "source": [
        "#### Задача 4"
      ]
    },
    {
      "cell_type": "markdown",
      "metadata": {
        "id": "3zHLDDhv2xGQ"
      },
      "source": [
        "Данные студентов представлены в виде списка списков:"
      ]
    },
    {
      "cell_type": "code",
      "execution_count": 26,
      "metadata": {
        "id": "PkorkMWH2xGR"
      },
      "outputs": [],
      "source": [
        "students = [\n",
        "[\"0001\", \"Антонов\", \"Антон\", \"Игоревич\", \"20.08.2009\",\"БСТ161\"],\n",
        "[\"1102\", \"Богов\", \"Артем\", \"Игоревич\", \"25.01.2010\",\"БСТ162\"],\n",
        "[\"0333\", \"Глаголева\", \"Анастасия\", \"Николаевна\", \"11.07.2009\", \"БСТ163\"],\n",
        "[\"4004\", \"Степанова\", \"Наталья\", \"Александровна\", \"13.02.2008\", \"БСТ161\"],\n",
        "[\"0045\", \"Боков\", \"Игорь\", \"Харитонович\", \"02.06.2009\", \"БСТ161\"],\n",
        "[\"0096\", \"Васильков\", \"Валентин\", \"Сергеевич\", \"20.03.2009\", \"БСТ164\"],\n",
        "[\"0607\", \"Сиропова\", \"Виолетта\", \"Эдуардовна\", \"28.05.2010\", \"БСТ162\"]\n",
        "    ]"
      ]
    },
    {
      "cell_type": "markdown",
      "metadata": {
        "id": "abmLYJIV2xGR"
      },
      "source": [
        "1. Преобразуйте данные таким образом, чтобы они были представлены в виде словаря, в котором ключами являются номера студентов, а значениями — список из других данных о студентах."
      ]
    },
    {
      "cell_type": "code",
      "execution_count": 42,
      "metadata": {
        "colab": {
          "base_uri": "https://localhost:8080/"
        },
        "id": "AyhPu1qq2xGS",
        "outputId": "b86dc79c-c132-41bd-fd87-da3b80a93d79"
      },
      "outputs": [
        {
          "output_type": "stream",
          "name": "stdout",
          "text": [
            "{'0001': ['Антонов', 'Антон', 'Игоревич', '20.08.2009', 'БСТ161'], '1102': ['Богов', 'Артем', 'Игоревич', '25.01.2010', 'БСТ162'], '0333': ['Глаголева', 'Анастасия', 'Николаевна', '11.07.2009', 'БСТ163'], '4004': ['Степанова', 'Наталья', 'Александровна', '13.02.2008', 'БСТ161'], '0045': ['Боков', 'Игорь', 'Харитонович', '02.06.2009', 'БСТ161'], '0096': ['Васильков', 'Валентин', 'Сергеевич', '20.03.2009', 'БСТ164'], '0607': ['Сиропова', 'Виолетта', 'Эдуардовна', '28.05.2010', 'БСТ162']}\n"
          ]
        }
      ],
      "source": [
        "students_dict = {}\n",
        "\n",
        "for el in students:\n",
        "        students_dict[el[0]] = el[1:]\n",
        "\n",
        "print(students_dict)"
      ]
    },
    {
      "cell_type": "markdown",
      "metadata": {
        "id": "WCR-mG542xGS"
      },
      "source": [
        "2. Напишите функцию, которая принимает в качестве аргумента номер студента и новый номер группы и позволяет изменить номер группы этого студента на новый внутри созданного словаря."
      ]
    },
    {
      "cell_type": "code",
      "execution_count": 43,
      "metadata": {
        "colab": {
          "base_uri": "https://localhost:8080/"
        },
        "id": "SdBqQKvM2xGT",
        "outputId": "c68673bc-6ec9-4e3e-dd82-71c210fff2bd"
      },
      "outputs": [
        {
          "output_type": "stream",
          "name": "stdout",
          "text": [
            "{'1102': ['Богов', 'Артем', 'Игоревич', '25.01.2010', 'БСТ162'], '0333': ['Глаголева', 'Анастасия', 'Николаевна', '11.07.2009', 'БСТ163'], '4004': ['Степанова', 'Наталья', 'Александровна', '13.02.2008', 'БСТ161'], '0045': ['Боков', 'Игорь', 'Харитонович', '02.06.2009', 'БСТ161'], '0096': ['Васильков', 'Валентин', 'Сергеевич', '20.03.2009', 'БСТ164'], '0607': ['Сиропова', 'Виолетта', 'Эдуардовна', '28.05.2010', 'БСТ162'], '0002': ['Антонов', 'Антон', 'Игоревич', '20.08.2009', 'БСТ161']}\n"
          ]
        }
      ],
      "source": [
        "def change_student_number(num_old, num_new):\n",
        "        # for key in students_dict.keys():\n",
        "        #   if k == num_old:\n",
        "        students_dict[num_new] = students_dict[num_old]\n",
        "        del students_dict[num_old]\n",
        "        print(students_dict)\n",
        "\n",
        "change_student_number('0001', '0002')"
      ]
    },
    {
      "cell_type": "markdown",
      "metadata": {
        "id": "I2-A-4yO2xGT"
      },
      "source": [
        "3. Напишите функцию, которая принимает номер группы и выводит список (фамилии, имена, отчества) всех студентов этой группы. Необходимо обращаться к словарю."
      ]
    },
    {
      "cell_type": "code",
      "execution_count": 60,
      "metadata": {
        "colab": {
          "base_uri": "https://localhost:8080/"
        },
        "id": "7-sN2GNW2xGT",
        "outputId": "2f7db242-3fec-448b-d884-a4b9dec903aa"
      },
      "outputs": [
        {
          "output_type": "stream",
          "name": "stdout",
          "text": [
            "['Степанова Наталья Александровна', 'Боков Игорь Харитонович', 'Антонов Антон Игоревич']\n"
          ]
        }
      ],
      "source": [
        "group = 'БСТ161'\n",
        "\n",
        "def classmates(group_num):\n",
        "        group_list = []\n",
        "      \n",
        "        for key, value in students_dict.items():\n",
        "              for el in value:  \n",
        "                      if  el == group_num:\n",
        "                              names = ' '.join (students_dict[key][0:3])\n",
        "                              group_list.append(names)\n",
        "              \n",
        "        print(group_list)\n",
        "\n",
        "classmates(group)"
      ]
    },
    {
      "cell_type": "markdown",
      "metadata": {
        "id": "eQer6c8M2xGU"
      },
      "source": [
        "#### Задача 5"
      ]
    },
    {
      "cell_type": "markdown",
      "metadata": {
        "id": "3pi-38FM2xGU"
      },
      "source": [
        "Дана матрица:"
      ]
    },
    {
      "cell_type": "code",
      "execution_count": 2,
      "metadata": {
        "id": "SXaqNwBq2xGU"
      },
      "outputs": [],
      "source": [
        "matrix = [ \n",
        "    [0,1,2,4,8], \n",
        "    [6,2,2,1,9], \n",
        "    [3,3,3,3,3], \n",
        "    [4,6,7,1,2], \n",
        "    [5,7,3,4,0] \n",
        "]"
      ]
    },
    {
      "cell_type": "markdown",
      "metadata": {
        "id": "x9cUdksy2xGV"
      },
      "source": [
        "1. Выведите результат сложения всех элементов матрицы."
      ]
    },
    {
      "cell_type": "code",
      "execution_count": 3,
      "metadata": {
        "colab": {
          "base_uri": "https://localhost:8080/"
        },
        "id": "Vs0tSoq52xGW",
        "outputId": "be2f168b-4e99-4f93-dc8e-939e901756fd"
      },
      "outputs": [
        {
          "output_type": "execute_result",
          "data": {
            "text/plain": [
              "89"
            ]
          },
          "metadata": {},
          "execution_count": 3
        }
      ],
      "source": [
        "sum(sum(x) for x in matrix)"
      ]
    },
    {
      "cell_type": "markdown",
      "metadata": {
        "id": "7F8Rn5Zi2xGX"
      },
      "source": [
        "2. Напишите алгоритм вычисления максимума из сумм элементов каждого столбца."
      ]
    },
    {
      "cell_type": "code",
      "execution_count": 4,
      "metadata": {
        "colab": {
          "base_uri": "https://localhost:8080/"
        },
        "id": "tCiSNNcX2xGZ",
        "outputId": "3c933b99-0c98-4e8a-ae73-a33af75c5d7a"
      },
      "outputs": [
        {
          "output_type": "execute_result",
          "data": {
            "text/plain": [
              "22"
            ]
          },
          "metadata": {},
          "execution_count": 4
        }
      ],
      "source": [
        "max(sum(x) for x in zip(*matrix))"
      ]
    }
  ],
  "metadata": {
    "kernelspec": {
      "display_name": "Python 3",
      "language": "python",
      "name": "python3"
    },
    "language_info": {
      "codemirror_mode": {
        "name": "ipython",
        "version": 3
      },
      "file_extension": ".py",
      "mimetype": "text/x-python",
      "name": "python",
      "nbconvert_exporter": "python",
      "pygments_lexer": "ipython3",
      "version": "3.7.0"
    },
    "colab": {
      "provenance": [],
      "include_colab_link": true
    }
  },
  "nbformat": 4,
  "nbformat_minor": 0
}