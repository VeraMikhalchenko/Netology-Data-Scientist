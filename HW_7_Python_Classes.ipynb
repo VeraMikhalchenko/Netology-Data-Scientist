{
  "nbformat": 4,
  "nbformat_minor": 0,
  "metadata": {
    "colab": {
      "provenance": [],
      "authorship_tag": "ABX9TyPaDCQG44fPtl+/WtPxcoFj",
      "include_colab_link": true
    },
    "kernelspec": {
      "name": "python3",
      "display_name": "Python 3"
    },
    "language_info": {
      "name": "python"
    }
  },
  "cells": [
    {
      "cell_type": "markdown",
      "metadata": {
        "id": "view-in-github",
        "colab_type": "text"
      },
      "source": [
        "<a href=\"https://colab.research.google.com/github/VeraMikhalchenko/Study/blob/main/HW_7_Python_Classes.ipynb\" target=\"_parent\"><img src=\"https://colab.research.google.com/assets/colab-badge.svg\" alt=\"Open In Colab\"/></a>"
      ]
    },
    {
      "cell_type": "markdown",
      "source": [
        "**Домашнее задание к лекции «Понятие класса»**"
      ],
      "metadata": {
        "id": "SDSTfAzUbel_"
      }
    },
    {
      "cell_type": "markdown",
      "source": [
        "Преподаватель: Константин Башевой"
      ],
      "metadata": {
        "id": "a1j-F2n3bmRO"
      }
    },
    {
      "cell_type": "markdown",
      "source": [
        "**Задание 1**"
      ],
      "metadata": {
        "id": "QkiufqFdbgMo"
      }
    },
    {
      "cell_type": "markdown",
      "source": [
        "Напишите функцию, которая возвращает название валюты (поле ‘Name’) с максимальным значением курса с помощью сервиса"
      ],
      "metadata": {
        "id": "h5c2BeUzh1sK"
      }
    },
    {
      "cell_type": "code",
      "source": [
        "import requests"
      ],
      "metadata": {
        "id": "da_6wCBGXhOo"
      },
      "execution_count": 6,
      "outputs": []
    },
    {
      "cell_type": "code",
      "source": [
        "def max_rate_value ():\n",
        "        \"\"\"Функция с помощью внешнего сервиса \\\n",
        "        находит валюту, у которой максимальное значение курса\"\"\"\n",
        "\n",
        "        values = []\n",
        "        r = requests.get('https://www.cbr-xml-daily.ru/daily_json.js')\n",
        "        \n",
        "        for currency in r.json()['Valute'].values():\n",
        "                  values.append(currency['Value'])\n",
        "        \n",
        "        for currency in r.json()['Valute'].values():  \n",
        "                  if currency['Value'] == max(values):\n",
        "                          return (currency)\n",
        "                          # return (currency['Name'])\n",
        "          "
      ],
      "metadata": {
        "id": "sh0RTPliNAse"
      },
      "execution_count": 7,
      "outputs": []
    },
    {
      "cell_type": "code",
      "source": [
        "max_rate_value()"
      ],
      "metadata": {
        "colab": {
          "base_uri": "https://localhost:8080/"
        },
        "id": "GrTP4C78NGQt",
        "outputId": "efd943b3-03c5-4bf3-88dc-4fd41877b110"
      },
      "execution_count": 8,
      "outputs": [
        {
          "output_type": "execute_result",
          "data": {
            "text/plain": [
              "{'ID': 'R01375',\n",
              " 'NumCode': '156',\n",
              " 'CharCode': 'CNY',\n",
              " 'Nominal': 10,\n",
              " 'Name': 'Китайских юаней',\n",
              " 'Value': 87.5241,\n",
              " 'Previous': 86.1548}"
            ]
          },
          "metadata": {},
          "execution_count": 8
        }
      ]
    },
    {
      "cell_type": "markdown",
      "source": [
        "**Задание 1 (2 вариант решения через класс Rate)**"
      ],
      "metadata": {
        "id": "Tjsyo7ywQ4C7"
      }
    },
    {
      "cell_type": "code",
      "source": [
        "from exchange import Rate"
      ],
      "metadata": {
        "id": "9uSPDtYbM5xv"
      },
      "execution_count": 10,
      "outputs": []
    },
    {
      "cell_type": "code",
      "source": [
        "class MaxCurrency(Rate):\n",
        "    def __init__(self):\n",
        "        super().__init__(format='full')\n",
        "    \n",
        "    def max_value(self):\n",
        "        \"\"\"Метод выводит информацию о валюте с максимальным курсом\"\"\"\n",
        "        \n",
        "        response = self.exchange_rates()\n",
        "        values = []\n",
        "\n",
        "        for currency in response.values():\n",
        "                  values.append(currency['Value'])\n",
        "        \n",
        "        for currency in response.values():  \n",
        "                  if currency['Value'] == max(values):\n",
        "                          return (currency)\n",
        "                          "
      ],
      "metadata": {
        "id": "vxP7pktzM9wC"
      },
      "execution_count": 11,
      "outputs": []
    },
    {
      "cell_type": "code",
      "source": [
        "a = MaxCurrency()"
      ],
      "metadata": {
        "id": "0-Df2E38Xh8i"
      },
      "execution_count": 12,
      "outputs": []
    },
    {
      "cell_type": "code",
      "source": [
        "a.max_value()"
      ],
      "metadata": {
        "colab": {
          "base_uri": "https://localhost:8080/"
        },
        "id": "u_JNgfDEU5PQ",
        "outputId": "096c570c-90d0-4ad8-b5d5-f36a9508fea3"
      },
      "execution_count": 13,
      "outputs": [
        {
          "output_type": "execute_result",
          "data": {
            "text/plain": [
              "{'ID': 'R01375',\n",
              " 'NumCode': '156',\n",
              " 'CharCode': 'CNY',\n",
              " 'Nominal': 10,\n",
              " 'Name': 'Китайских юаней',\n",
              " 'Value': 87.5241,\n",
              " 'Previous': 86.1548}"
            ]
          },
          "metadata": {},
          "execution_count": 13
        }
      ]
    },
    {
      "cell_type": "markdown",
      "source": [
        "**Задание 2**"
      ],
      "metadata": {
        "id": "wkl2iujMb6bH"
      }
    },
    {
      "cell_type": "markdown",
      "source": [
        "Добавьте в класс Rate параметр diff (со значениями True или False), который в случае значения True в методах курсов валют (eur, usd итд) будет возвращать не курс валюты, а изменение по сравнению в прошлым значением. Считайте, self.diff будет принимать значение True только при возврате значения курса. При отображении всей информации о валюте он не используется."
      ],
      "metadata": {
        "id": "w9rdQ8gzb7Ro"
      }
    },
    {
      "cell_type": "code",
      "source": [
        "class Rates:\n",
        "        def __init__(self, format_):\n",
        "                self.format = format_\n",
        "                self.diff = bool\n",
        "        \n",
        "        def exchange_rates(self):\n",
        "                \"\"\"\n",
        "                Возвращает ответ сервиса с информацией о валютах в виде:\n",
        "                \n",
        "                {\n",
        "                    'AMD': {\n",
        "                        'CharCode': 'AMD',\n",
        "                        'ID': 'R01060',\n",
        "                        'Name': 'Армянских драмов',\n",
        "                        'Nominal': 100,\n",
        "                        'NumCode': '051',\n",
        "                        'Previous': 14.103,\n",
        "                        'Value': 14.0879\n",
        "                        },\n",
        "                    ...\n",
        "                }\n",
        "                \"\"\"\n",
        "                self.r = requests.get('https://www.cbr-xml-daily.ru/daily_json.js')\n",
        "                return self.r.json()['Valute']\n",
        "        \n",
        "        def make_format(self, currency):\n",
        "                \"\"\"\n",
        "                Возвращает информацию о валюте currency в двух вариантах:\n",
        "                - полная информация о валюте при self.format = 'full':\n",
        "                Rate('full').make_format('EUR')\n",
        "                {\n",
        "                    'CharCode': 'EUR',\n",
        "                    'ID': 'R01239',\n",
        "                    'Name': 'Евро',\n",
        "                    'Nominal': 1,\n",
        "                    'NumCode': '978',\n",
        "                    'Previous': 79.6765,\n",
        "                    'Value': 79.4966\n",
        "                }\n",
        "                \n",
        "                - возвращает разницу между актуальным значением курса и предыдущим:\n",
        "                Rate('diff_value').make_format('EUR')\n",
        "                1.546199999999999\n",
        "                \"\"\"\n",
        "                response = self.exchange_rates()\n",
        "                \n",
        "                if currency in response:\n",
        "                        if self.format == 'full':\n",
        "                                self.diff = False\n",
        "                                return response[currency]\n",
        "                        \n",
        "                        if self.format == 'diff_value':\n",
        "                                self.diff == True\n",
        "                                return response[currency]['Value'] - response[currency]['Previous']\n",
        "\n",
        "                return 'Error'\n",
        "        \n",
        "        def eur(self):\n",
        "                \"\"\"Возвращает курс евро на сегодня в формате self.format\"\"\"\n",
        "                return self.make_format('EUR')\n",
        "            \n",
        "        def usd(self):\n",
        "                \"\"\"Возвращает курс доллара на сегодня в формате self.format\"\"\"\n",
        "                return self.make_format('USD')\n",
        "        \n",
        "        def brl(self):\n",
        "                \"\"\"Возвращает курс бразильского реала на сегодня в формате self.format\"\"\"\n",
        "                return self.make_format('BRL')\n"
      ],
      "metadata": {
        "id": "R86k9Ic2Xicx"
      },
      "execution_count": 98,
      "outputs": []
    },
    {
      "cell_type": "code",
      "source": [
        "a = Rates(format_ = 'diff_value')"
      ],
      "metadata": {
        "id": "MYAeqFifgj3D"
      },
      "execution_count": 99,
      "outputs": []
    },
    {
      "cell_type": "code",
      "source": [
        "a.make_format('EUR')"
      ],
      "metadata": {
        "colab": {
          "base_uri": "https://localhost:8080/"
        },
        "id": "P0n41GkKgw4u",
        "outputId": "2f02cd61-e3c6-4a4f-a97b-7d7bf9a113ab"
      },
      "execution_count": 100,
      "outputs": [
        {
          "output_type": "execute_result",
          "data": {
            "text/plain": [
              "1.546199999999999"
            ]
          },
          "metadata": {},
          "execution_count": 100
        }
      ]
    },
    {
      "cell_type": "code",
      "source": [
        "a.usd()"
      ],
      "metadata": {
        "colab": {
          "base_uri": "https://localhost:8080/"
        },
        "id": "m5PscD7ThBay",
        "outputId": "0888439b-d294-4486-9875-f33c151222e6"
      },
      "execution_count": 101,
      "outputs": [
        {
          "output_type": "execute_result",
          "data": {
            "text/plain": [
              "1.3713999999999942"
            ]
          },
          "metadata": {},
          "execution_count": 101
        }
      ]
    },
    {
      "cell_type": "markdown",
      "source": [
        "**Задание 3**"
      ],
      "metadata": {
        "id": "4qEECosccB-T"
      }
    },
    {
      "cell_type": "markdown",
      "source": [
        "Напишите класс Designer, который учитывает количество международных премий. Подсказки в коде занятия в разделе “Домашнее задание задача 3”."
      ],
      "metadata": {
        "id": "ZgnW1JDTcC2s"
      }
    },
    {
      "cell_type": "markdown",
      "source": [
        "Напишите класс Designer, который учитывает количество международных премий для дизайнеров (из презентации: “Повышение на 1 грейд за каждые 7 баллов. Получение международной премии – это +2 балла”). Считайте, что при выходе на работу сотрудник уже имеет две премии и их количество не меняется со стажем (конечно если хотите это можно вручную менять)."
      ],
      "metadata": {
        "id": "R_i0lTLT0h8H"
      }
    },
    {
      "cell_type": "code",
      "source": [
        "class Employee:\n",
        "    def __init__(self, name, seniority):\n",
        "        self.name = name\n",
        "        self.seniority = seniority\n",
        "        \n",
        "        self.grade = 1\n",
        "    \n",
        "    def grade_up(self):\n",
        "        \"\"\"Повышает уровень сотрудника\"\"\"\n",
        "        self.grade += 1\n",
        "    \n",
        "    def publish_grade(self):\n",
        "        \"\"\"Публикация результатов аккредитации сотрудников\"\"\"\n",
        "        print(self.name, self.grade)\n",
        "    \n",
        "    def check_if_it_is_time_for_upgrade(self):\n",
        "        pass\n"
      ],
      "metadata": {
        "id": "-3UYTIIJXi6l"
      },
      "execution_count": 1,
      "outputs": []
    },
    {
      "cell_type": "code",
      "source": [
        "class Designer(Employee):\n",
        "        def __init__(self, name, seniority, awards = 2): # создаём параметры, awards со значением по умолчанию 2\n",
        "                super().__init__(name, seniority + awards * 2) # забираем параметры из родительского класса \n",
        "                self.awards = awards\n",
        "                # self.seniority += awards * 2 # задаём количество изначальных баллов на основе имеющихся наград (можно это сделать в super() - не понимаю пока, как это работает)\n",
        "                self.grade += self.seniority // 7 # определяем грейд дизайнера\n",
        "                print(f'баллы: {self.seniority}, награды: {self.awards}, грейд: {self.grade}')\n",
        "            \n",
        "        def check_if_it_is_time_for_upgrade(self):\n",
        "                # для каждой аккредитации увеличиваем счетчик на 1\n",
        "                # пока считаем, что все дизайнеры проходят аккредитацию\n",
        "                \n",
        "                self.seniority += 1\n",
        "                      \n",
        "                # условие повышения сотрудника из презентации\n",
        "                if self.seniority % 7 == 0:\n",
        "                    self.grade_up()\n",
        "                    print (self.seniority)\n",
        "                \n",
        "                # публикация результатов\n",
        "                return self.publish_grade()"
      ],
      "metadata": {
        "id": "PwAwOq7ap6-K"
      },
      "execution_count": 87,
      "outputs": []
    },
    {
      "cell_type": "code",
      "source": [
        "v = Designer('Vera', seniority = 0, awards = 5)"
      ],
      "metadata": {
        "colab": {
          "base_uri": "https://localhost:8080/"
        },
        "id": "6TBHnfufyRtW",
        "outputId": "20261cac-a3fc-4629-e545-1013495f9201"
      },
      "execution_count": 88,
      "outputs": [
        {
          "output_type": "stream",
          "name": "stdout",
          "text": [
            "баллы: 10, награды: 5, грейд: 2\n"
          ]
        }
      ]
    },
    {
      "cell_type": "code",
      "source": [
        "v.publish_grade()"
      ],
      "metadata": {
        "colab": {
          "base_uri": "https://localhost:8080/"
        },
        "id": "oZSpt0N7wAUw",
        "outputId": "c9672a48-a0c2-4de8-8d66-a0622737afb4"
      },
      "execution_count": 89,
      "outputs": [
        {
          "output_type": "stream",
          "name": "stdout",
          "text": [
            "Vera 2\n"
          ]
        }
      ]
    },
    {
      "cell_type": "code",
      "source": [
        "for i in range(20):\n",
        "    v.check_if_it_is_time_for_upgrade()"
      ],
      "metadata": {
        "colab": {
          "base_uri": "https://localhost:8080/"
        },
        "id": "5-1DNd_k30VC",
        "outputId": "1f91d952-a7c0-47a0-f91f-7af88a4e2d2f"
      },
      "execution_count": 90,
      "outputs": [
        {
          "output_type": "stream",
          "name": "stdout",
          "text": [
            "Vera 2\n",
            "Vera 2\n",
            "Vera 2\n",
            "14\n",
            "Vera 3\n",
            "Vera 3\n",
            "Vera 3\n",
            "Vera 3\n",
            "Vera 3\n",
            "Vera 3\n",
            "Vera 3\n",
            "21\n",
            "Vera 4\n",
            "Vera 4\n",
            "Vera 4\n",
            "Vera 4\n",
            "Vera 4\n",
            "Vera 4\n",
            "Vera 4\n",
            "28\n",
            "Vera 5\n",
            "Vera 5\n",
            "Vera 5\n"
          ]
        }
      ]
    }
  ]
}