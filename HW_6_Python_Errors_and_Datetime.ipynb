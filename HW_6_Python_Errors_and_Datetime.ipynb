{
  "nbformat": 4,
  "nbformat_minor": 0,
  "metadata": {
    "colab": {
      "provenance": [],
      "authorship_tag": "ABX9TyNE+3bte62zIQ5HqjrHD37W",
      "include_colab_link": true
    },
    "kernelspec": {
      "name": "python3",
      "display_name": "Python 3"
    },
    "language_info": {
      "name": "python"
    }
  },
  "cells": [
    {
      "cell_type": "markdown",
      "metadata": {
        "id": "view-in-github",
        "colab_type": "text"
      },
      "source": [
        "<a href=\"https://colab.research.google.com/github/VeraMikhalchenko/Study/blob/main/HW_6_Python_Errors_and_Datetime.ipynb\" target=\"_parent\"><img src=\"https://colab.research.google.com/assets/colab-badge.svg\" alt=\"Open In Colab\"/></a>"
      ]
    },
    {
      "cell_type": "markdown",
      "source": [
        "**Домашнее задание к лекции «Исключения и обработка ошибок»**"
      ],
      "metadata": {
        "id": "SDSTfAzUbel_"
      }
    },
    {
      "cell_type": "markdown",
      "source": [
        "Преподаватель: Константин Башевой"
      ],
      "metadata": {
        "id": "a1j-F2n3bmRO"
      }
    },
    {
      "cell_type": "markdown",
      "source": [
        "**Задание 1**"
      ],
      "metadata": {
        "id": "QkiufqFdbgMo"
      }
    },
    {
      "cell_type": "markdown",
      "source": [
        "Печатные газеты использовали свой формат дат для каждого выпуска. Для каждой газеты из списка напишите формат указанной даты для перевода в объект datetime:\n",
        "The Moscow Times - Wednesday, October 2, 2002\n",
        "The Guardian - Friday, 11.10.13\n",
        "Daily News - Thursday, 18 August 1977"
      ],
      "metadata": {
        "id": "KaF04ih7brpv"
      }
    },
    {
      "cell_type": "code",
      "source": [
        "from datetime import datetime\n",
        "\n",
        "# Московское издание\n",
        "the_moscow_times_date = datetime.strptime('Wednesday, October 2, 2002', '%A, %B %d, %Y')\n",
        "\n",
        "# Обозначения даты и времени в Соединенном Королевстве записывают дату в формате день–месяц–год\n",
        "the_guardian_date = datetime.strptime('Friday, 11.10.13', '%A, %d.%m.%y')\n",
        "\n",
        "# Газета Нью-Йорка\n",
        "daily_news_date = datetime.strptime('Thursday, 18 August 1977', '%A, %d %B %Y')\n",
        "\n",
        "print('The Moscow Times:', the_moscow_times_date)\n",
        "print('The Guardian:', the_guardian_date)\n",
        "print('Daily News:', daily_news_date)"
      ],
      "metadata": {
        "colab": {
          "base_uri": "https://localhost:8080/"
        },
        "id": "FpHpTYfKbfuE",
        "outputId": "63941729-c5f6-4a56-8495-0413de9f875e"
      },
      "execution_count": 3,
      "outputs": [
        {
          "output_type": "stream",
          "name": "stdout",
          "text": [
            "The Moscow Times: 2002-10-02 00:00:00\n",
            "The Guardian: 2013-10-11 00:00:00\n",
            "Daily News: 1977-08-18 00:00:00\n"
          ]
        }
      ]
    },
    {
      "cell_type": "markdown",
      "source": [
        "**Задание 2**"
      ],
      "metadata": {
        "id": "wkl2iujMb6bH"
      }
    },
    {
      "cell_type": "markdown",
      "source": [
        "Дан поток дат в формате YYYY-MM-DD, в которых встречаются некорректные значения:\n",
        "stream = [‘2018-04-02’, ‘2018-02-29’, ‘2018-19-02’]\n",
        "\n",
        "Напишите функцию, которая проверяет эти даты на корректность. Т. е. для каждой даты возвращает True (дата корректна) или False (некорректная дата)."
      ],
      "metadata": {
        "id": "w9rdQ8gzb7Ro"
      }
    },
    {
      "cell_type": "code",
      "execution_count": 8,
      "metadata": {
        "colab": {
          "base_uri": "https://localhost:8080/"
        },
        "id": "hdsMyUaebZc3",
        "outputId": "d7e57a9e-e91f-4487-c563-b1e65d52c5c8"
      },
      "outputs": [
        {
          "output_type": "stream",
          "name": "stdout",
          "text": [
            "{0: ('2018-04-02', True), 1: ('2018-02-29', False), 2: ('2018-19-02', False)}\n"
          ]
        }
      ],
      "source": [
        "stream = ['2018-04-02', '2018-02-29', '2018-19-02']\n",
        "\n",
        "def check_data (date):\n",
        "        try:\n",
        "                result = bool(datetime.strptime(date, '%Y-%m-%d'))\n",
        "        except:\n",
        "                result = False\n",
        "        return result\n",
        "\n",
        "stream_date_check = {} #создаю словарь, в котором будут находится даты и результат проверки\n",
        "i = 0 #создаю переменную для ключа, можно было бы ключом сделать дату, но вдруг, в какой-то ситуации она окажется не уникальной\n",
        "\n",
        "for el in stream:             \n",
        "        stream_date_check[i] = el, check_data(el) \n",
        "        i += 1\n",
        "\n",
        "print(stream_date_check)\n"
      ]
    },
    {
      "cell_type": "markdown",
      "source": [
        "**Задание 3**"
      ],
      "metadata": {
        "id": "4qEECosccB-T"
      }
    },
    {
      "cell_type": "markdown",
      "source": [
        "Напишите функцию date_range, которая возвращает список дат за период от start_date до end_date. Даты должны вводиться в формате YYYY-MM-DD. В случае неверного формата или при start_date > end_date должен возвращаться пустой список."
      ],
      "metadata": {
        "id": "ZgnW1JDTcC2s"
      }
    },
    {
      "cell_type": "code",
      "source": [
        "from datetime import timedelta\n",
        "\n",
        "def date_range(start_date, end_date):\n",
        "        dates_period = [] # будущий список дат за период от start_date до end_date\n",
        "\n",
        "        if check_data(start_date) == True and check_data(end_date) == True and start_date < end_date: \n",
        "                start_date_daytime = datetime.strptime (start_date, '%Y-%m-%d')           \n",
        "                end_date_daytime = datetime.strptime (end_date, '%Y-%m-%d')\n",
        "                date = start_date_daytime #создаю переменную, которой будут присваиваться даты из нужного периода\n",
        "                \n",
        "                while date != end_date_daytime:\n",
        "                        date += timedelta(days = 1)\n",
        "                        dates_period.append (date.strftime('%Y-%m-%d'))\n",
        "\n",
        "        return dates_period\n",
        "\n",
        "date_range ('2001-02-14','2001-02-01')\n"
      ],
      "metadata": {
        "colab": {
          "base_uri": "https://localhost:8080/"
        },
        "id": "MpVKseMBcGCX",
        "outputId": "c3f1daff-179d-4866-c928-6e0a15dfe8d9"
      },
      "execution_count": 9,
      "outputs": [
        {
          "output_type": "execute_result",
          "data": {
            "text/plain": [
              "[]"
            ]
          },
          "metadata": {},
          "execution_count": 9
        }
      ]
    },
    {
      "cell_type": "markdown",
      "source": [
        "**Задание 4 (необязательное)**"
      ],
      "metadata": {
        "id": "0j9LUoO5cGif"
      }
    },
    {
      "cell_type": "markdown",
      "source": [
        "Ваш коллега прислал код функции:\n",
        "\n",
        "DEFAULT_USER_COUNT = 3\n",
        "\n",
        "def delete_and_return_last_user(region, default_list=[‘A100’, ‘A101’, ‘A102’]):\n",
        "\"\"“\n",
        "Удаляет из списка default_list последнего пользователя\n",
        "и возвращает ID нового последнего пользователя.\n",
        "”\"\"\n",
        "element_to_delete = default_list[-1]\n",
        "default_list.remove(element_to_delete)\n",
        "\n",
        "1\n",
        "return default_list[DEFAULT_USER_COUNT-2]\n",
        "При однократном вызове этой функции все работает корректно:\n",
        "delete_and_return_last_user(1)\n",
        "‘A101’\n",
        "\n",
        "Однако, при повторном вызове получается ошибка IndexError: list index out of range.\n",
        "\n",
        "Задание:\n",
        "\n",
        "Что значит ошибка list index out of range?\n",
        "Почему при первом запуске функция работает корректно, а при втором - нет?"
      ],
      "metadata": {
        "id": "VzzT1sXxcIy1"
      }
    },
    {
      "cell_type": "markdown",
      "source": [
        "**Ответ:**"
      ],
      "metadata": {
        "id": "5vTYZCiESi4B"
      }
    },
    {
      "cell_type": "markdown",
      "source": [
        "\n",
        "\n",
        "> Ошибка list index out of range означает, что индекс, который указан в выводе, ничему не принадлежит (поскольку этот элемент был удален при втором запуске функции). Поэтому сначала индекс находит значение, а при втором запуске уже нет. В списке осталось значение только с индексом 0.\n",
        "\n"
      ],
      "metadata": {
        "id": "VoxcxOGbcRd4"
      }
    }
  ]
}