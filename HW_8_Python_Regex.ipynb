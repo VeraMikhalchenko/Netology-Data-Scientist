{
  "nbformat": 4,
  "nbformat_minor": 0,
  "metadata": {
    "colab": {
      "provenance": [],
      "authorship_tag": "ABX9TyPcndrHiwJ3yJIRLzvRrLis",
      "include_colab_link": true
    },
    "kernelspec": {
      "name": "python3",
      "display_name": "Python 3"
    },
    "language_info": {
      "name": "python"
    }
  },
  "cells": [
    {
      "cell_type": "markdown",
      "metadata": {
        "id": "view-in-github",
        "colab_type": "text"
      },
      "source": [
        "<a href=\"https://colab.research.google.com/github/VeraMikhalchenko/Study/blob/main/HW_8_Python_Regex.ipynb\" target=\"_parent\"><img src=\"https://colab.research.google.com/assets/colab-badge.svg\" alt=\"Open In Colab\"/></a>"
      ]
    },
    {
      "cell_type": "markdown",
      "source": [
        "**Домашнее задание к лекции \"Регулярные выражения\"**"
      ],
      "metadata": {
        "id": "PKC4YKi-iCYE"
      }
    },
    {
      "cell_type": "markdown",
      "source": [
        "**Задание 1**"
      ],
      "metadata": {
        "id": "qeW_b27viIaK"
      }
    },
    {
      "cell_type": "markdown",
      "source": [
        "Напишите функцию, которая принимает на вход строку и проверяет является ли она валидным транспортным номером (1 буква, 3 цифры, 2 буквы, 2-3 цифры). Обратите внимание, что не все буквы кириллического алфавита используются в транспортных номерах.\n",
        "\n",
        "Если номер валиден, то функция должна возвращать отдельно номер и регион."
      ],
      "metadata": {
        "id": "eG4tckdfiM37"
      }
    },
    {
      "cell_type": "code",
      "execution_count": null,
      "metadata": {
        "id": "125-M_-8h6cL"
      },
      "outputs": [],
      "source": [
        "# car_id = 'A222BC96'\n",
        "# car_id = 'АБ22ВВ193'\n",
        "\n",
        "# ГОСТом для использования на знаках разрешены 12 букв кириллицы: А, В, Е, К, М, Н, О, Р, С, Т, У и Х.\n",
        "\n",
        "def car_val (car_id):\n",
        "        \"\"\" Функция, которая принимает на вход строку и проверяет является ли она \\\n",
        "        валидным транспортным номером (1 буква, 3 цифры, 2 буквы, 2-3 цифры). \\\n",
        "        Если номер валиден, то функция должна возвращать отдельно номер и регион.\n",
        "        \"\"\"\n",
        "        import re\n",
        "        \n",
        "        result = re.findall(r'[A-ZАВЕКМНОРСТУХ]\\d{3}[A-ZАВЕКМНОРСТУХ]{2}\\d{2,3}', car_id)\n",
        "\n",
        "        if result:\n",
        "                region = re.findall(r'\\d{2,3}$', car_id)[0]\n",
        "                return print(f'Номер {car_id} валиден. Регион: {region}')\n",
        "        else:\n",
        "                return print('Номер невалиден')"
      ]
    },
    {
      "cell_type": "code",
      "source": [
        "car_val('A222BC96')"
      ],
      "metadata": {
        "colab": {
          "base_uri": "https://localhost:8080/"
        },
        "id": "pkIEWOLqkk8N",
        "outputId": "c65d1e8a-812e-42e2-dd0d-4715b046ce92"
      },
      "execution_count": null,
      "outputs": [
        {
          "output_type": "stream",
          "name": "stdout",
          "text": [
            "Номер A222BC96 валиден. Регион: 96\n"
          ]
        }
      ]
    },
    {
      "cell_type": "markdown",
      "source": [
        "**Задание 2**"
      ],
      "metadata": {
        "id": "CqX1ZnNmrmrq"
      }
    },
    {
      "cell_type": "markdown",
      "source": [
        "Напишите функцию, которая будет удалять все последовательные повторы слов из заданной строки при помощи регулярных выражений."
      ],
      "metadata": {
        "id": "1Z4eEkgqrrYD"
      }
    },
    {
      "cell_type": "code",
      "source": [
        "some_string = 'Напишите функцию функцию, которая будет будет будет будет удалять все все все все последовательные повторы слов из из из из заданной строки строки при помощи регулярных выражений.'\n",
        "\n",
        "def del_repeats (text):\n",
        "        \"\"\"Функция, которая будет удалять все последовательные повторы слов из заданной строки \\\n",
        "        при помощи регулярных выражений.\n",
        "        \"\"\"\n",
        "        import re\n",
        "        \n",
        "        del_rep = re.sub(r'(\\w+\\s)\\1+', r'\\1', text)\n",
        "        \n",
        "        return print(del_rep)"
      ],
      "metadata": {
        "id": "yErk39pDrvgL"
      },
      "execution_count": null,
      "outputs": []
    },
    {
      "cell_type": "code",
      "source": [
        "del_repeats(some_string)"
      ],
      "metadata": {
        "colab": {
          "base_uri": "https://localhost:8080/"
        },
        "id": "5nklZwRktFBe",
        "outputId": "a1a3e038-09ac-4214-fbd9-30ae4a52a32f"
      },
      "execution_count": null,
      "outputs": [
        {
          "output_type": "stream",
          "name": "stdout",
          "text": [
            "Напишите функцию функцию, которая будет удалять все последовательные повторы слов из заданной строки при помощи регулярных выражений.\n"
          ]
        }
      ]
    },
    {
      "cell_type": "markdown",
      "source": [
        "**Задание 3**"
      ],
      "metadata": {
        "id": "DztxrAY6t3aS"
      }
    },
    {
      "cell_type": "markdown",
      "source": [
        "Напишите функцию, которая будет возвращать акроним по переданной в нее строке со словами."
      ],
      "metadata": {
        "id": "h63ikF6_t8BL"
      }
    },
    {
      "cell_type": "code",
      "source": [
        "some_words = 'Информационные технологии'\n",
        "some_words_2 = 'Near Field Communication'\n",
        "\n",
        "def acronym(text):\n",
        "        \"\"\"Функция, которая будет возвращать акроним по переданной в нее строке со словами.\n",
        "        \"\"\"\n",
        "        import re\n",
        "        first_letter = re.findall(r'([a-zа-яё])\\w*', text, flags=re.I) # нахожу первую букву (в скобочной группе), * - потому что слово может состоять из 1 буквы\n",
        "        \n",
        "        acr = ''\n",
        "        \n",
        "        for l in first_letter:\n",
        "                acr = acr + l\n",
        "     \n",
        "        print(acr.upper())\n"
      ],
      "metadata": {
        "id": "WCodrv-YQkWo"
      },
      "execution_count": null,
      "outputs": []
    },
    {
      "cell_type": "code",
      "source": [
        "acronym(some_words)"
      ],
      "metadata": {
        "colab": {
          "base_uri": "https://localhost:8080/"
        },
        "id": "1OpnJSOuQ2Hp",
        "outputId": "bc2f0a6f-a17e-4790-9d7e-1a24bf9ec65e"
      },
      "execution_count": null,
      "outputs": [
        {
          "output_type": "stream",
          "name": "stdout",
          "text": [
            "ИТ\n"
          ]
        }
      ]
    },
    {
      "cell_type": "markdown",
      "source": [
        "**Задание 4**"
      ],
      "metadata": {
        "id": "iZVC_1n0Tvrb"
      }
    },
    {
      "cell_type": "markdown",
      "source": [
        "Напишите функцию, которая будет принимать на вход список email-адресов и выводить их распределение по доменным зонам."
      ],
      "metadata": {
        "id": "fDrTfMCZT1L8"
      }
    },
    {
      "cell_type": "code",
      "source": [
        "emails = ['test@gmail.com', 'xyz@test.in', 'test@ya.ru', 'xyz@mail.ru', 'xyz@ya.ru', 'xyz@gmail.com']\n",
        "\n",
        "def count_domens(emails_list):\n",
        "        \"\"\"Функция, которая будет принимать на вход список email-адресов \\\n",
        "        и выводить их распределение по доменным зонам.\n",
        "        \"\"\"\n",
        "        import re\n",
        "        result = []\n",
        "        \n",
        "        for el in emails_list:                \n",
        "                domen = r'\\w+@(\\w+.\\w+)'\n",
        "                result += re.findall(domen, el)\n",
        "                \n",
        "        from collections import Counter    \n",
        "\n",
        "        for number, count in Counter(result).items():\n",
        "                print(f'{number}:{count}')\n"
      ],
      "metadata": {
        "id": "CTFzoHwYT2eT"
      },
      "execution_count": null,
      "outputs": []
    },
    {
      "cell_type": "code",
      "source": [
        "count_domens(emails)"
      ],
      "metadata": {
        "colab": {
          "base_uri": "https://localhost:8080/"
        },
        "id": "yUSwONHTXbkm",
        "outputId": "7d69cdb9-2af2-4faf-8443-8461e4886755"
      },
      "execution_count": null,
      "outputs": [
        {
          "output_type": "stream",
          "name": "stdout",
          "text": [
            "gmail.com:2\n",
            "test.in:1\n",
            "ya.ru:2\n",
            "mail.ru:1\n"
          ]
        }
      ]
    },
    {
      "cell_type": "markdown",
      "source": [
        "**Задание 5 (необязательное)**"
      ],
      "metadata": {
        "id": "LddHKnTMiBka"
      }
    },
    {
      "cell_type": "markdown",
      "source": [
        "Напишите функцию, которая будет подсчитывать сколько слов начинается на гласные, а сколько на согласные буквы в тексте (текст может быть написан как с использованием букв кириллицы, так и латиницы).\n",
        "\n",
        "Пример работы программы:\n",
        "\n",
        "some_text = 'Эталонной реализацией Python является интерпретатор CPython, поддерживающий большинство активно используемых платформ. Он распространяется под свободной лицензией Python Software Foundation License, позволяющей использовать его без ограничений в любых приложениях, включая проприетарные.'\n",
        "\n",
        "Результат:\n",
        "\n",
        "Слов на гласные буквы: 9\n",
        "Слов на согласные буквы: 21"
      ],
      "metadata": {
        "id": "rcpJyWrkiEx0"
      }
    },
    {
      "cell_type": "code",
      "source": [
        "some_text = 'Эталонной реализацией Python является интерпретатор CPython, поддерживающий большинство \\\n",
        "            активно используемых платформ. Он распространяется под свободной лицензией Python Software Foundation License, \\\n",
        "            позволяющей использовать его без ограничений в любых приложениях, включая проприетарные.'\n",
        "\n",
        "def vow_con(text):\n",
        "        \"\"\" Функция, которая будет подсчитывать сколько слов начинается на гласные, \\\n",
        "        а сколько на согласные буквы в тексте (текст может быть написан как с \\\n",
        "        использованием букв кириллицы, так и латиницы).\"\"\"\n",
        "\n",
        "        import re\n",
        "        first_letter_list = re.findall(r'([a-zа-яё])\\w*', text, flags=re.I)\n",
        "        \n",
        "        vowels = ['а', 'е', 'ё', 'и', 'о', 'у', 'ы', 'э', 'ю', 'я', 'a', 'e', 'i', 'o', 'u', 'y']\n",
        "        vowels_count = 0\n",
        "        consonant_count = 0\n",
        "\n",
        "        for letter in first_letter_list:\n",
        "                if letter.lower() in vowels:\n",
        "                        vowels_count += 1\n",
        "                else:\n",
        "                        consonant_count += 1\n",
        "        print('Слов на гласные буквы: ', vowels_count)\n",
        "        print('Слов на согласные буквы: ', consonant_count)\n",
        "                \n",
        "                "
      ],
      "metadata": {
        "id": "pvarh37SiH9Z"
      },
      "execution_count": null,
      "outputs": []
    },
    {
      "cell_type": "code",
      "source": [
        "vow_con(some_text)"
      ],
      "metadata": {
        "colab": {
          "base_uri": "https://localhost:8080/"
        },
        "id": "ce17YtncjkUM",
        "outputId": "28e2c4a9-a515-4af6-9e91-2cee51b2e942"
      },
      "execution_count": null,
      "outputs": [
        {
          "output_type": "stream",
          "name": "stdout",
          "text": [
            "Слов на гласные буквы:  9\n",
            "Слов на согласные буквы:  21\n"
          ]
        }
      ]
    },
    {
      "cell_type": "markdown",
      "source": [
        "**Задание 6 (необязательное)**"
      ],
      "metadata": {
        "id": "mOVVVGXRmaCR"
      }
    },
    {
      "cell_type": "markdown",
      "source": [
        "Напишите функцию, которая будет проверять номер сотового телефона на валидность (только для российского формата), если он валиден, то переводить его в формат:\n",
        "+7-xxx-xxx-xx-xx\n",
        "Постарайтесь предусмотреть как можно больше адекватных форматов изначального ввода номера. Примеры работы программы:"
      ],
      "metadata": {
        "id": "z02BYgoembdh"
      }
    },
    {
      "cell_type": "code",
      "source": [
        "phone = '8(955)555-55-55'\n",
        "\n",
        "def check_phone (number):\n",
        "        \"\"\"Функция, которая будет проверять номер сотового телефона на валидность \\\n",
        "        (только для российского формата), если он валиден, то переводить его в формат: +7-xxx-xxx-xx-xx\n",
        "        \"\"\"\n",
        "        \n",
        "        import re\n",
        "        \n",
        "        check_number = re.findall(r'.*\\d.*\\d{3}.*\\d{3}.*\\d\\d.*\\d\\d.*', number)\n",
        "        print(check_number)\n",
        "        \n",
        "        if number not in check_number:\n",
        "                print('Номер не валиден')\n",
        "        else:\n",
        "                val_phone = re.sub(r'.*\\d.*(\\d{3}).*(\\d{3}).*(\\d\\d).*(\\d\\d).*', r'+7-\\1-\\2-\\3-\\4', number)\n",
        "                print(val_phone)\n"
      ],
      "metadata": {
        "id": "d62I4WvXmiw4"
      },
      "execution_count": null,
      "outputs": []
    },
    {
      "cell_type": "code",
      "source": [
        "check_phone(phone)"
      ],
      "metadata": {
        "colab": {
          "base_uri": "https://localhost:8080/"
        },
        "id": "YeNJe9lvqK6_",
        "outputId": "baf7e46c-58c5-454e-f551-86c52ed6b254"
      },
      "execution_count": null,
      "outputs": [
        {
          "output_type": "stream",
          "name": "stdout",
          "text": [
            "['8(955)555-55-55']\n",
            "+7-955-555-55-55\n"
          ]
        }
      ]
    }
  ]
}