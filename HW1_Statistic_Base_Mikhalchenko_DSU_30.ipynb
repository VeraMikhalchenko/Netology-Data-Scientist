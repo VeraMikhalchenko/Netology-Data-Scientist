{
  "nbformat": 4,
  "nbformat_minor": 0,
  "metadata": {
    "colab": {
      "provenance": [],
      "authorship_tag": "ABX9TyOpenTeV3aAlLhhuQAn7MrQ",
      "include_colab_link": true
    },
    "kernelspec": {
      "name": "python3",
      "display_name": "Python 3"
    },
    "language_info": {
      "name": "python"
    }
  },
  "cells": [
    {
      "cell_type": "markdown",
      "metadata": {
        "id": "view-in-github",
        "colab_type": "text"
      },
      "source": [
        "<a href=\"https://colab.research.google.com/github/VeraMikhalchenko/Study/blob/main/HW1_Statistic_Base_Mikhalchenko_DSU_30.ipynb\" target=\"_parent\"><img src=\"https://colab.research.google.com/assets/colab-badge.svg\" alt=\"Open In Colab\"/></a>"
      ]
    },
    {
      "cell_type": "markdown",
      "source": [
        "**Домашнее задание к лекции \"Базовые понятия статистики\"**"
      ],
      "metadata": {
        "id": "rwI-Z1tNThym"
      }
    },
    {
      "cell_type": "markdown",
      "source": [
        "**Задание 1. Загрузка данных**\\\n",
        "Изучить представленный набор данных на основе описания его столбцов, загрузить его и оставить 8 столбцов для дальнейшего изучения: \\\n",
        "surgery?,\n",
        "Age, rectal temperature, pulse, respiratory rate, temperature of extremities, pain, outcome."
      ],
      "metadata": {
        "id": "jylqHbtHTaq_"
      }
    },
    {
      "cell_type": "code",
      "execution_count": null,
      "metadata": {
        "id": "xpAHHLScNqGB"
      },
      "outputs": [],
      "source": [
        "import pandas as pd"
      ]
    },
    {
      "cell_type": "code",
      "source": [
        "df_horses = pd.read_csv('horse_data.csv', header = None, na_values= '?')\n",
        "df_horses.head()"
      ],
      "metadata": {
        "colab": {
          "base_uri": "https://localhost:8080/",
          "height": 233
        },
        "id": "r-F-YjwyFdIU",
        "outputId": "32986b80-aa7c-4b8f-fd54-9634b9eafbe9"
      },
      "execution_count": null,
      "outputs": [
        {
          "output_type": "execute_result",
          "data": {
            "text/plain": [
              "    0   1        2     3      4     5    6    7    8    9   ...    18    19  \\\n",
              "0  2.0   1   530101  38.5   66.0  28.0  3.0  3.0  NaN  2.0  ...  45.0   8.4   \n",
              "1  1.0   1   534817  39.2   88.0  20.0  NaN  NaN  4.0  1.0  ...  50.0  85.0   \n",
              "2  2.0   1   530334  38.3   40.0  24.0  1.0  1.0  3.0  1.0  ...  33.0   6.7   \n",
              "3  1.0   9  5290409  39.1  164.0  84.0  4.0  1.0  6.0  2.0  ...  48.0   7.2   \n",
              "4  2.0   1   530255  37.3  104.0  35.0  NaN  NaN  6.0  2.0  ...  74.0   7.4   \n",
              "\n",
              "    20   21   22  23     24  25  26  27  \n",
              "0  NaN  NaN  2.0   2  11300   0   0   2  \n",
              "1  2.0  2.0  3.0   2   2208   0   0   2  \n",
              "2  NaN  NaN  1.0   2      0   0   0   1  \n",
              "3  3.0  5.3  2.0   1   2208   0   0   1  \n",
              "4  NaN  NaN  2.0   2   4300   0   0   2  \n",
              "\n",
              "[5 rows x 28 columns]"
            ],
            "text/html": [
              "\n",
              "  <div id=\"df-6053ca1d-f826-4fa0-95b7-a62ff0c99124\">\n",
              "    <div class=\"colab-df-container\">\n",
              "      <div>\n",
              "<style scoped>\n",
              "    .dataframe tbody tr th:only-of-type {\n",
              "        vertical-align: middle;\n",
              "    }\n",
              "\n",
              "    .dataframe tbody tr th {\n",
              "        vertical-align: top;\n",
              "    }\n",
              "\n",
              "    .dataframe thead th {\n",
              "        text-align: right;\n",
              "    }\n",
              "</style>\n",
              "<table border=\"1\" class=\"dataframe\">\n",
              "  <thead>\n",
              "    <tr style=\"text-align: right;\">\n",
              "      <th></th>\n",
              "      <th>0</th>\n",
              "      <th>1</th>\n",
              "      <th>2</th>\n",
              "      <th>3</th>\n",
              "      <th>4</th>\n",
              "      <th>5</th>\n",
              "      <th>6</th>\n",
              "      <th>7</th>\n",
              "      <th>8</th>\n",
              "      <th>9</th>\n",
              "      <th>...</th>\n",
              "      <th>18</th>\n",
              "      <th>19</th>\n",
              "      <th>20</th>\n",
              "      <th>21</th>\n",
              "      <th>22</th>\n",
              "      <th>23</th>\n",
              "      <th>24</th>\n",
              "      <th>25</th>\n",
              "      <th>26</th>\n",
              "      <th>27</th>\n",
              "    </tr>\n",
              "  </thead>\n",
              "  <tbody>\n",
              "    <tr>\n",
              "      <th>0</th>\n",
              "      <td>2.0</td>\n",
              "      <td>1</td>\n",
              "      <td>530101</td>\n",
              "      <td>38.5</td>\n",
              "      <td>66.0</td>\n",
              "      <td>28.0</td>\n",
              "      <td>3.0</td>\n",
              "      <td>3.0</td>\n",
              "      <td>NaN</td>\n",
              "      <td>2.0</td>\n",
              "      <td>...</td>\n",
              "      <td>45.0</td>\n",
              "      <td>8.4</td>\n",
              "      <td>NaN</td>\n",
              "      <td>NaN</td>\n",
              "      <td>2.0</td>\n",
              "      <td>2</td>\n",
              "      <td>11300</td>\n",
              "      <td>0</td>\n",
              "      <td>0</td>\n",
              "      <td>2</td>\n",
              "    </tr>\n",
              "    <tr>\n",
              "      <th>1</th>\n",
              "      <td>1.0</td>\n",
              "      <td>1</td>\n",
              "      <td>534817</td>\n",
              "      <td>39.2</td>\n",
              "      <td>88.0</td>\n",
              "      <td>20.0</td>\n",
              "      <td>NaN</td>\n",
              "      <td>NaN</td>\n",
              "      <td>4.0</td>\n",
              "      <td>1.0</td>\n",
              "      <td>...</td>\n",
              "      <td>50.0</td>\n",
              "      <td>85.0</td>\n",
              "      <td>2.0</td>\n",
              "      <td>2.0</td>\n",
              "      <td>3.0</td>\n",
              "      <td>2</td>\n",
              "      <td>2208</td>\n",
              "      <td>0</td>\n",
              "      <td>0</td>\n",
              "      <td>2</td>\n",
              "    </tr>\n",
              "    <tr>\n",
              "      <th>2</th>\n",
              "      <td>2.0</td>\n",
              "      <td>1</td>\n",
              "      <td>530334</td>\n",
              "      <td>38.3</td>\n",
              "      <td>40.0</td>\n",
              "      <td>24.0</td>\n",
              "      <td>1.0</td>\n",
              "      <td>1.0</td>\n",
              "      <td>3.0</td>\n",
              "      <td>1.0</td>\n",
              "      <td>...</td>\n",
              "      <td>33.0</td>\n",
              "      <td>6.7</td>\n",
              "      <td>NaN</td>\n",
              "      <td>NaN</td>\n",
              "      <td>1.0</td>\n",
              "      <td>2</td>\n",
              "      <td>0</td>\n",
              "      <td>0</td>\n",
              "      <td>0</td>\n",
              "      <td>1</td>\n",
              "    </tr>\n",
              "    <tr>\n",
              "      <th>3</th>\n",
              "      <td>1.0</td>\n",
              "      <td>9</td>\n",
              "      <td>5290409</td>\n",
              "      <td>39.1</td>\n",
              "      <td>164.0</td>\n",
              "      <td>84.0</td>\n",
              "      <td>4.0</td>\n",
              "      <td>1.0</td>\n",
              "      <td>6.0</td>\n",
              "      <td>2.0</td>\n",
              "      <td>...</td>\n",
              "      <td>48.0</td>\n",
              "      <td>7.2</td>\n",
              "      <td>3.0</td>\n",
              "      <td>5.3</td>\n",
              "      <td>2.0</td>\n",
              "      <td>1</td>\n",
              "      <td>2208</td>\n",
              "      <td>0</td>\n",
              "      <td>0</td>\n",
              "      <td>1</td>\n",
              "    </tr>\n",
              "    <tr>\n",
              "      <th>4</th>\n",
              "      <td>2.0</td>\n",
              "      <td>1</td>\n",
              "      <td>530255</td>\n",
              "      <td>37.3</td>\n",
              "      <td>104.0</td>\n",
              "      <td>35.0</td>\n",
              "      <td>NaN</td>\n",
              "      <td>NaN</td>\n",
              "      <td>6.0</td>\n",
              "      <td>2.0</td>\n",
              "      <td>...</td>\n",
              "      <td>74.0</td>\n",
              "      <td>7.4</td>\n",
              "      <td>NaN</td>\n",
              "      <td>NaN</td>\n",
              "      <td>2.0</td>\n",
              "      <td>2</td>\n",
              "      <td>4300</td>\n",
              "      <td>0</td>\n",
              "      <td>0</td>\n",
              "      <td>2</td>\n",
              "    </tr>\n",
              "  </tbody>\n",
              "</table>\n",
              "<p>5 rows × 28 columns</p>\n",
              "</div>\n",
              "      <button class=\"colab-df-convert\" onclick=\"convertToInteractive('df-6053ca1d-f826-4fa0-95b7-a62ff0c99124')\"\n",
              "              title=\"Convert this dataframe to an interactive table.\"\n",
              "              style=\"display:none;\">\n",
              "        \n",
              "  <svg xmlns=\"http://www.w3.org/2000/svg\" height=\"24px\"viewBox=\"0 0 24 24\"\n",
              "       width=\"24px\">\n",
              "    <path d=\"M0 0h24v24H0V0z\" fill=\"none\"/>\n",
              "    <path d=\"M18.56 5.44l.94 2.06.94-2.06 2.06-.94-2.06-.94-.94-2.06-.94 2.06-2.06.94zm-11 1L8.5 8.5l.94-2.06 2.06-.94-2.06-.94L8.5 2.5l-.94 2.06-2.06.94zm10 10l.94 2.06.94-2.06 2.06-.94-2.06-.94-.94-2.06-.94 2.06-2.06.94z\"/><path d=\"M17.41 7.96l-1.37-1.37c-.4-.4-.92-.59-1.43-.59-.52 0-1.04.2-1.43.59L10.3 9.45l-7.72 7.72c-.78.78-.78 2.05 0 2.83L4 21.41c.39.39.9.59 1.41.59.51 0 1.02-.2 1.41-.59l7.78-7.78 2.81-2.81c.8-.78.8-2.07 0-2.86zM5.41 20L4 18.59l7.72-7.72 1.47 1.35L5.41 20z\"/>\n",
              "  </svg>\n",
              "      </button>\n",
              "      \n",
              "  <style>\n",
              "    .colab-df-container {\n",
              "      display:flex;\n",
              "      flex-wrap:wrap;\n",
              "      gap: 12px;\n",
              "    }\n",
              "\n",
              "    .colab-df-convert {\n",
              "      background-color: #E8F0FE;\n",
              "      border: none;\n",
              "      border-radius: 50%;\n",
              "      cursor: pointer;\n",
              "      display: none;\n",
              "      fill: #1967D2;\n",
              "      height: 32px;\n",
              "      padding: 0 0 0 0;\n",
              "      width: 32px;\n",
              "    }\n",
              "\n",
              "    .colab-df-convert:hover {\n",
              "      background-color: #E2EBFA;\n",
              "      box-shadow: 0px 1px 2px rgba(60, 64, 67, 0.3), 0px 1px 3px 1px rgba(60, 64, 67, 0.15);\n",
              "      fill: #174EA6;\n",
              "    }\n",
              "\n",
              "    [theme=dark] .colab-df-convert {\n",
              "      background-color: #3B4455;\n",
              "      fill: #D2E3FC;\n",
              "    }\n",
              "\n",
              "    [theme=dark] .colab-df-convert:hover {\n",
              "      background-color: #434B5C;\n",
              "      box-shadow: 0px 1px 3px 1px rgba(0, 0, 0, 0.15);\n",
              "      filter: drop-shadow(0px 1px 2px rgba(0, 0, 0, 0.3));\n",
              "      fill: #FFFFFF;\n",
              "    }\n",
              "  </style>\n",
              "\n",
              "      <script>\n",
              "        const buttonEl =\n",
              "          document.querySelector('#df-6053ca1d-f826-4fa0-95b7-a62ff0c99124 button.colab-df-convert');\n",
              "        buttonEl.style.display =\n",
              "          google.colab.kernel.accessAllowed ? 'block' : 'none';\n",
              "\n",
              "        async function convertToInteractive(key) {\n",
              "          const element = document.querySelector('#df-6053ca1d-f826-4fa0-95b7-a62ff0c99124');\n",
              "          const dataTable =\n",
              "            await google.colab.kernel.invokeFunction('convertToInteractive',\n",
              "                                                     [key], {});\n",
              "          if (!dataTable) return;\n",
              "\n",
              "          const docLinkHtml = 'Like what you see? Visit the ' +\n",
              "            '<a target=\"_blank\" href=https://colab.research.google.com/notebooks/data_table.ipynb>data table notebook</a>'\n",
              "            + ' to learn more about interactive tables.';\n",
              "          element.innerHTML = '';\n",
              "          dataTable['output_type'] = 'display_data';\n",
              "          await google.colab.output.renderOutput(dataTable, element);\n",
              "          const docLink = document.createElement('div');\n",
              "          docLink.innerHTML = docLinkHtml;\n",
              "          element.appendChild(docLink);\n",
              "        }\n",
              "      </script>\n",
              "    </div>\n",
              "  </div>\n",
              "  "
            ]
          },
          "metadata": {},
          "execution_count": 2
        }
      ]
    },
    {
      "cell_type": "code",
      "source": [
        "df_horses = df_horses.rename({0: 'surgery',1: 'age', 3: 'rectal_temperature', \n",
        "                              4: 'pulse', 5: 'respiratory_rate', 6: 'temperature_of_extremities', \n",
        "                              10: 'pain', 22:'outcome'}, \n",
        "                             axis=1)  \n",
        "df_horses.head()"
      ],
      "metadata": {
        "colab": {
          "base_uri": "https://localhost:8080/",
          "height": 233
        },
        "id": "V9Besk83IbQG",
        "outputId": "d681219d-22df-4251-ca46-186daa1f7ed2"
      },
      "execution_count": null,
      "outputs": [
        {
          "output_type": "execute_result",
          "data": {
            "text/plain": [
              "   surgery  age        2  rectal_temperature  pulse  respiratory_rate  \\\n",
              "0      2.0    1   530101                38.5   66.0              28.0   \n",
              "1      1.0    1   534817                39.2   88.0              20.0   \n",
              "2      2.0    1   530334                38.3   40.0              24.0   \n",
              "3      1.0    9  5290409                39.1  164.0              84.0   \n",
              "4      2.0    1   530255                37.3  104.0              35.0   \n",
              "\n",
              "   temperature_of_extremities    7    8    9  ...    18    19   20   21  \\\n",
              "0                         3.0  3.0  NaN  2.0  ...  45.0   8.4  NaN  NaN   \n",
              "1                         NaN  NaN  4.0  1.0  ...  50.0  85.0  2.0  2.0   \n",
              "2                         1.0  1.0  3.0  1.0  ...  33.0   6.7  NaN  NaN   \n",
              "3                         4.0  1.0  6.0  2.0  ...  48.0   7.2  3.0  5.3   \n",
              "4                         NaN  NaN  6.0  2.0  ...  74.0   7.4  NaN  NaN   \n",
              "\n",
              "   outcome  23     24  25  26  27  \n",
              "0      2.0   2  11300   0   0   2  \n",
              "1      3.0   2   2208   0   0   2  \n",
              "2      1.0   2      0   0   0   1  \n",
              "3      2.0   1   2208   0   0   1  \n",
              "4      2.0   2   4300   0   0   2  \n",
              "\n",
              "[5 rows x 28 columns]"
            ],
            "text/html": [
              "\n",
              "  <div id=\"df-1aa7f9fc-3301-4c51-b7bf-fb564f55258e\">\n",
              "    <div class=\"colab-df-container\">\n",
              "      <div>\n",
              "<style scoped>\n",
              "    .dataframe tbody tr th:only-of-type {\n",
              "        vertical-align: middle;\n",
              "    }\n",
              "\n",
              "    .dataframe tbody tr th {\n",
              "        vertical-align: top;\n",
              "    }\n",
              "\n",
              "    .dataframe thead th {\n",
              "        text-align: right;\n",
              "    }\n",
              "</style>\n",
              "<table border=\"1\" class=\"dataframe\">\n",
              "  <thead>\n",
              "    <tr style=\"text-align: right;\">\n",
              "      <th></th>\n",
              "      <th>surgery</th>\n",
              "      <th>age</th>\n",
              "      <th>2</th>\n",
              "      <th>rectal_temperature</th>\n",
              "      <th>pulse</th>\n",
              "      <th>respiratory_rate</th>\n",
              "      <th>temperature_of_extremities</th>\n",
              "      <th>7</th>\n",
              "      <th>8</th>\n",
              "      <th>9</th>\n",
              "      <th>...</th>\n",
              "      <th>18</th>\n",
              "      <th>19</th>\n",
              "      <th>20</th>\n",
              "      <th>21</th>\n",
              "      <th>outcome</th>\n",
              "      <th>23</th>\n",
              "      <th>24</th>\n",
              "      <th>25</th>\n",
              "      <th>26</th>\n",
              "      <th>27</th>\n",
              "    </tr>\n",
              "  </thead>\n",
              "  <tbody>\n",
              "    <tr>\n",
              "      <th>0</th>\n",
              "      <td>2.0</td>\n",
              "      <td>1</td>\n",
              "      <td>530101</td>\n",
              "      <td>38.5</td>\n",
              "      <td>66.0</td>\n",
              "      <td>28.0</td>\n",
              "      <td>3.0</td>\n",
              "      <td>3.0</td>\n",
              "      <td>NaN</td>\n",
              "      <td>2.0</td>\n",
              "      <td>...</td>\n",
              "      <td>45.0</td>\n",
              "      <td>8.4</td>\n",
              "      <td>NaN</td>\n",
              "      <td>NaN</td>\n",
              "      <td>2.0</td>\n",
              "      <td>2</td>\n",
              "      <td>11300</td>\n",
              "      <td>0</td>\n",
              "      <td>0</td>\n",
              "      <td>2</td>\n",
              "    </tr>\n",
              "    <tr>\n",
              "      <th>1</th>\n",
              "      <td>1.0</td>\n",
              "      <td>1</td>\n",
              "      <td>534817</td>\n",
              "      <td>39.2</td>\n",
              "      <td>88.0</td>\n",
              "      <td>20.0</td>\n",
              "      <td>NaN</td>\n",
              "      <td>NaN</td>\n",
              "      <td>4.0</td>\n",
              "      <td>1.0</td>\n",
              "      <td>...</td>\n",
              "      <td>50.0</td>\n",
              "      <td>85.0</td>\n",
              "      <td>2.0</td>\n",
              "      <td>2.0</td>\n",
              "      <td>3.0</td>\n",
              "      <td>2</td>\n",
              "      <td>2208</td>\n",
              "      <td>0</td>\n",
              "      <td>0</td>\n",
              "      <td>2</td>\n",
              "    </tr>\n",
              "    <tr>\n",
              "      <th>2</th>\n",
              "      <td>2.0</td>\n",
              "      <td>1</td>\n",
              "      <td>530334</td>\n",
              "      <td>38.3</td>\n",
              "      <td>40.0</td>\n",
              "      <td>24.0</td>\n",
              "      <td>1.0</td>\n",
              "      <td>1.0</td>\n",
              "      <td>3.0</td>\n",
              "      <td>1.0</td>\n",
              "      <td>...</td>\n",
              "      <td>33.0</td>\n",
              "      <td>6.7</td>\n",
              "      <td>NaN</td>\n",
              "      <td>NaN</td>\n",
              "      <td>1.0</td>\n",
              "      <td>2</td>\n",
              "      <td>0</td>\n",
              "      <td>0</td>\n",
              "      <td>0</td>\n",
              "      <td>1</td>\n",
              "    </tr>\n",
              "    <tr>\n",
              "      <th>3</th>\n",
              "      <td>1.0</td>\n",
              "      <td>9</td>\n",
              "      <td>5290409</td>\n",
              "      <td>39.1</td>\n",
              "      <td>164.0</td>\n",
              "      <td>84.0</td>\n",
              "      <td>4.0</td>\n",
              "      <td>1.0</td>\n",
              "      <td>6.0</td>\n",
              "      <td>2.0</td>\n",
              "      <td>...</td>\n",
              "      <td>48.0</td>\n",
              "      <td>7.2</td>\n",
              "      <td>3.0</td>\n",
              "      <td>5.3</td>\n",
              "      <td>2.0</td>\n",
              "      <td>1</td>\n",
              "      <td>2208</td>\n",
              "      <td>0</td>\n",
              "      <td>0</td>\n",
              "      <td>1</td>\n",
              "    </tr>\n",
              "    <tr>\n",
              "      <th>4</th>\n",
              "      <td>2.0</td>\n",
              "      <td>1</td>\n",
              "      <td>530255</td>\n",
              "      <td>37.3</td>\n",
              "      <td>104.0</td>\n",
              "      <td>35.0</td>\n",
              "      <td>NaN</td>\n",
              "      <td>NaN</td>\n",
              "      <td>6.0</td>\n",
              "      <td>2.0</td>\n",
              "      <td>...</td>\n",
              "      <td>74.0</td>\n",
              "      <td>7.4</td>\n",
              "      <td>NaN</td>\n",
              "      <td>NaN</td>\n",
              "      <td>2.0</td>\n",
              "      <td>2</td>\n",
              "      <td>4300</td>\n",
              "      <td>0</td>\n",
              "      <td>0</td>\n",
              "      <td>2</td>\n",
              "    </tr>\n",
              "  </tbody>\n",
              "</table>\n",
              "<p>5 rows × 28 columns</p>\n",
              "</div>\n",
              "      <button class=\"colab-df-convert\" onclick=\"convertToInteractive('df-1aa7f9fc-3301-4c51-b7bf-fb564f55258e')\"\n",
              "              title=\"Convert this dataframe to an interactive table.\"\n",
              "              style=\"display:none;\">\n",
              "        \n",
              "  <svg xmlns=\"http://www.w3.org/2000/svg\" height=\"24px\"viewBox=\"0 0 24 24\"\n",
              "       width=\"24px\">\n",
              "    <path d=\"M0 0h24v24H0V0z\" fill=\"none\"/>\n",
              "    <path d=\"M18.56 5.44l.94 2.06.94-2.06 2.06-.94-2.06-.94-.94-2.06-.94 2.06-2.06.94zm-11 1L8.5 8.5l.94-2.06 2.06-.94-2.06-.94L8.5 2.5l-.94 2.06-2.06.94zm10 10l.94 2.06.94-2.06 2.06-.94-2.06-.94-.94-2.06-.94 2.06-2.06.94z\"/><path d=\"M17.41 7.96l-1.37-1.37c-.4-.4-.92-.59-1.43-.59-.52 0-1.04.2-1.43.59L10.3 9.45l-7.72 7.72c-.78.78-.78 2.05 0 2.83L4 21.41c.39.39.9.59 1.41.59.51 0 1.02-.2 1.41-.59l7.78-7.78 2.81-2.81c.8-.78.8-2.07 0-2.86zM5.41 20L4 18.59l7.72-7.72 1.47 1.35L5.41 20z\"/>\n",
              "  </svg>\n",
              "      </button>\n",
              "      \n",
              "  <style>\n",
              "    .colab-df-container {\n",
              "      display:flex;\n",
              "      flex-wrap:wrap;\n",
              "      gap: 12px;\n",
              "    }\n",
              "\n",
              "    .colab-df-convert {\n",
              "      background-color: #E8F0FE;\n",
              "      border: none;\n",
              "      border-radius: 50%;\n",
              "      cursor: pointer;\n",
              "      display: none;\n",
              "      fill: #1967D2;\n",
              "      height: 32px;\n",
              "      padding: 0 0 0 0;\n",
              "      width: 32px;\n",
              "    }\n",
              "\n",
              "    .colab-df-convert:hover {\n",
              "      background-color: #E2EBFA;\n",
              "      box-shadow: 0px 1px 2px rgba(60, 64, 67, 0.3), 0px 1px 3px 1px rgba(60, 64, 67, 0.15);\n",
              "      fill: #174EA6;\n",
              "    }\n",
              "\n",
              "    [theme=dark] .colab-df-convert {\n",
              "      background-color: #3B4455;\n",
              "      fill: #D2E3FC;\n",
              "    }\n",
              "\n",
              "    [theme=dark] .colab-df-convert:hover {\n",
              "      background-color: #434B5C;\n",
              "      box-shadow: 0px 1px 3px 1px rgba(0, 0, 0, 0.15);\n",
              "      filter: drop-shadow(0px 1px 2px rgba(0, 0, 0, 0.3));\n",
              "      fill: #FFFFFF;\n",
              "    }\n",
              "  </style>\n",
              "\n",
              "      <script>\n",
              "        const buttonEl =\n",
              "          document.querySelector('#df-1aa7f9fc-3301-4c51-b7bf-fb564f55258e button.colab-df-convert');\n",
              "        buttonEl.style.display =\n",
              "          google.colab.kernel.accessAllowed ? 'block' : 'none';\n",
              "\n",
              "        async function convertToInteractive(key) {\n",
              "          const element = document.querySelector('#df-1aa7f9fc-3301-4c51-b7bf-fb564f55258e');\n",
              "          const dataTable =\n",
              "            await google.colab.kernel.invokeFunction('convertToInteractive',\n",
              "                                                     [key], {});\n",
              "          if (!dataTable) return;\n",
              "\n",
              "          const docLinkHtml = 'Like what you see? Visit the ' +\n",
              "            '<a target=\"_blank\" href=https://colab.research.google.com/notebooks/data_table.ipynb>data table notebook</a>'\n",
              "            + ' to learn more about interactive tables.';\n",
              "          element.innerHTML = '';\n",
              "          dataTable['output_type'] = 'display_data';\n",
              "          await google.colab.output.renderOutput(dataTable, element);\n",
              "          const docLink = document.createElement('div');\n",
              "          docLink.innerHTML = docLinkHtml;\n",
              "          element.appendChild(docLink);\n",
              "        }\n",
              "      </script>\n",
              "    </div>\n",
              "  </div>\n",
              "  "
            ]
          },
          "metadata": {},
          "execution_count": 3
        }
      ]
    },
    {
      "cell_type": "code",
      "source": [
        "df_horses = df_horses[['surgery', 'age', 'rectal_temperature', 'pulse', 'respiratory_rate', 'temperature_of_extremities', 'pain', 'outcome']]\n",
        "df_horses.head()"
      ],
      "metadata": {
        "colab": {
          "base_uri": "https://localhost:8080/",
          "height": 204
        },
        "id": "plOCxKNIKaaX",
        "outputId": "4425e00d-9e38-4fb6-ead8-325056d3982f"
      },
      "execution_count": null,
      "outputs": [
        {
          "output_type": "execute_result",
          "data": {
            "text/plain": [
              "   surgery  age  rectal_temperature  pulse  respiratory_rate  \\\n",
              "0      2.0    1                38.5   66.0              28.0   \n",
              "1      1.0    1                39.2   88.0              20.0   \n",
              "2      2.0    1                38.3   40.0              24.0   \n",
              "3      1.0    9                39.1  164.0              84.0   \n",
              "4      2.0    1                37.3  104.0              35.0   \n",
              "\n",
              "   temperature_of_extremities  pain  outcome  \n",
              "0                         3.0   5.0      2.0  \n",
              "1                         NaN   3.0      3.0  \n",
              "2                         1.0   3.0      1.0  \n",
              "3                         4.0   2.0      2.0  \n",
              "4                         NaN   NaN      2.0  "
            ],
            "text/html": [
              "\n",
              "  <div id=\"df-ca2f849a-ba70-499e-b474-72eba09a7829\">\n",
              "    <div class=\"colab-df-container\">\n",
              "      <div>\n",
              "<style scoped>\n",
              "    .dataframe tbody tr th:only-of-type {\n",
              "        vertical-align: middle;\n",
              "    }\n",
              "\n",
              "    .dataframe tbody tr th {\n",
              "        vertical-align: top;\n",
              "    }\n",
              "\n",
              "    .dataframe thead th {\n",
              "        text-align: right;\n",
              "    }\n",
              "</style>\n",
              "<table border=\"1\" class=\"dataframe\">\n",
              "  <thead>\n",
              "    <tr style=\"text-align: right;\">\n",
              "      <th></th>\n",
              "      <th>surgery</th>\n",
              "      <th>age</th>\n",
              "      <th>rectal_temperature</th>\n",
              "      <th>pulse</th>\n",
              "      <th>respiratory_rate</th>\n",
              "      <th>temperature_of_extremities</th>\n",
              "      <th>pain</th>\n",
              "      <th>outcome</th>\n",
              "    </tr>\n",
              "  </thead>\n",
              "  <tbody>\n",
              "    <tr>\n",
              "      <th>0</th>\n",
              "      <td>2.0</td>\n",
              "      <td>1</td>\n",
              "      <td>38.5</td>\n",
              "      <td>66.0</td>\n",
              "      <td>28.0</td>\n",
              "      <td>3.0</td>\n",
              "      <td>5.0</td>\n",
              "      <td>2.0</td>\n",
              "    </tr>\n",
              "    <tr>\n",
              "      <th>1</th>\n",
              "      <td>1.0</td>\n",
              "      <td>1</td>\n",
              "      <td>39.2</td>\n",
              "      <td>88.0</td>\n",
              "      <td>20.0</td>\n",
              "      <td>NaN</td>\n",
              "      <td>3.0</td>\n",
              "      <td>3.0</td>\n",
              "    </tr>\n",
              "    <tr>\n",
              "      <th>2</th>\n",
              "      <td>2.0</td>\n",
              "      <td>1</td>\n",
              "      <td>38.3</td>\n",
              "      <td>40.0</td>\n",
              "      <td>24.0</td>\n",
              "      <td>1.0</td>\n",
              "      <td>3.0</td>\n",
              "      <td>1.0</td>\n",
              "    </tr>\n",
              "    <tr>\n",
              "      <th>3</th>\n",
              "      <td>1.0</td>\n",
              "      <td>9</td>\n",
              "      <td>39.1</td>\n",
              "      <td>164.0</td>\n",
              "      <td>84.0</td>\n",
              "      <td>4.0</td>\n",
              "      <td>2.0</td>\n",
              "      <td>2.0</td>\n",
              "    </tr>\n",
              "    <tr>\n",
              "      <th>4</th>\n",
              "      <td>2.0</td>\n",
              "      <td>1</td>\n",
              "      <td>37.3</td>\n",
              "      <td>104.0</td>\n",
              "      <td>35.0</td>\n",
              "      <td>NaN</td>\n",
              "      <td>NaN</td>\n",
              "      <td>2.0</td>\n",
              "    </tr>\n",
              "  </tbody>\n",
              "</table>\n",
              "</div>\n",
              "      <button class=\"colab-df-convert\" onclick=\"convertToInteractive('df-ca2f849a-ba70-499e-b474-72eba09a7829')\"\n",
              "              title=\"Convert this dataframe to an interactive table.\"\n",
              "              style=\"display:none;\">\n",
              "        \n",
              "  <svg xmlns=\"http://www.w3.org/2000/svg\" height=\"24px\"viewBox=\"0 0 24 24\"\n",
              "       width=\"24px\">\n",
              "    <path d=\"M0 0h24v24H0V0z\" fill=\"none\"/>\n",
              "    <path d=\"M18.56 5.44l.94 2.06.94-2.06 2.06-.94-2.06-.94-.94-2.06-.94 2.06-2.06.94zm-11 1L8.5 8.5l.94-2.06 2.06-.94-2.06-.94L8.5 2.5l-.94 2.06-2.06.94zm10 10l.94 2.06.94-2.06 2.06-.94-2.06-.94-.94-2.06-.94 2.06-2.06.94z\"/><path d=\"M17.41 7.96l-1.37-1.37c-.4-.4-.92-.59-1.43-.59-.52 0-1.04.2-1.43.59L10.3 9.45l-7.72 7.72c-.78.78-.78 2.05 0 2.83L4 21.41c.39.39.9.59 1.41.59.51 0 1.02-.2 1.41-.59l7.78-7.78 2.81-2.81c.8-.78.8-2.07 0-2.86zM5.41 20L4 18.59l7.72-7.72 1.47 1.35L5.41 20z\"/>\n",
              "  </svg>\n",
              "      </button>\n",
              "      \n",
              "  <style>\n",
              "    .colab-df-container {\n",
              "      display:flex;\n",
              "      flex-wrap:wrap;\n",
              "      gap: 12px;\n",
              "    }\n",
              "\n",
              "    .colab-df-convert {\n",
              "      background-color: #E8F0FE;\n",
              "      border: none;\n",
              "      border-radius: 50%;\n",
              "      cursor: pointer;\n",
              "      display: none;\n",
              "      fill: #1967D2;\n",
              "      height: 32px;\n",
              "      padding: 0 0 0 0;\n",
              "      width: 32px;\n",
              "    }\n",
              "\n",
              "    .colab-df-convert:hover {\n",
              "      background-color: #E2EBFA;\n",
              "      box-shadow: 0px 1px 2px rgba(60, 64, 67, 0.3), 0px 1px 3px 1px rgba(60, 64, 67, 0.15);\n",
              "      fill: #174EA6;\n",
              "    }\n",
              "\n",
              "    [theme=dark] .colab-df-convert {\n",
              "      background-color: #3B4455;\n",
              "      fill: #D2E3FC;\n",
              "    }\n",
              "\n",
              "    [theme=dark] .colab-df-convert:hover {\n",
              "      background-color: #434B5C;\n",
              "      box-shadow: 0px 1px 3px 1px rgba(0, 0, 0, 0.15);\n",
              "      filter: drop-shadow(0px 1px 2px rgba(0, 0, 0, 0.3));\n",
              "      fill: #FFFFFF;\n",
              "    }\n",
              "  </style>\n",
              "\n",
              "      <script>\n",
              "        const buttonEl =\n",
              "          document.querySelector('#df-ca2f849a-ba70-499e-b474-72eba09a7829 button.colab-df-convert');\n",
              "        buttonEl.style.display =\n",
              "          google.colab.kernel.accessAllowed ? 'block' : 'none';\n",
              "\n",
              "        async function convertToInteractive(key) {\n",
              "          const element = document.querySelector('#df-ca2f849a-ba70-499e-b474-72eba09a7829');\n",
              "          const dataTable =\n",
              "            await google.colab.kernel.invokeFunction('convertToInteractive',\n",
              "                                                     [key], {});\n",
              "          if (!dataTable) return;\n",
              "\n",
              "          const docLinkHtml = 'Like what you see? Visit the ' +\n",
              "            '<a target=\"_blank\" href=https://colab.research.google.com/notebooks/data_table.ipynb>data table notebook</a>'\n",
              "            + ' to learn more about interactive tables.';\n",
              "          element.innerHTML = '';\n",
              "          dataTable['output_type'] = 'display_data';\n",
              "          await google.colab.output.renderOutput(dataTable, element);\n",
              "          const docLink = document.createElement('div');\n",
              "          docLink.innerHTML = docLinkHtml;\n",
              "          element.appendChild(docLink);\n",
              "        }\n",
              "      </script>\n",
              "    </div>\n",
              "  </div>\n",
              "  "
            ]
          },
          "metadata": {},
          "execution_count": 4
        }
      ]
    },
    {
      "cell_type": "markdown",
      "source": [
        "**Задание 2. Первичное изучение данных**"
      ],
      "metadata": {
        "id": "2tSsxHaldZXG"
      }
    },
    {
      "cell_type": "markdown",
      "source": [
        "Проанализировать значения по столбцам, рассчитать базовые статистики, найти выбросы."
      ],
      "metadata": {
        "id": "9wCzCUDfddAo"
      }
    },
    {
      "cell_type": "code",
      "source": [
        "df_horses.info()"
      ],
      "metadata": {
        "colab": {
          "base_uri": "https://localhost:8080/"
        },
        "id": "68USZOTGPbV9",
        "outputId": "c227230a-2d63-4ea0-d23f-50e2da6a9f81"
      },
      "execution_count": null,
      "outputs": [
        {
          "output_type": "stream",
          "name": "stdout",
          "text": [
            "<class 'pandas.core.frame.DataFrame'>\n",
            "RangeIndex: 300 entries, 0 to 299\n",
            "Data columns (total 8 columns):\n",
            " #   Column                      Non-Null Count  Dtype  \n",
            "---  ------                      --------------  -----  \n",
            " 0   surgery                     299 non-null    float64\n",
            " 1   age                         300 non-null    int64  \n",
            " 2   rectal_temperature          240 non-null    float64\n",
            " 3   pulse                       276 non-null    float64\n",
            " 4   respiratory_rate            242 non-null    float64\n",
            " 5   temperature_of_extremities  244 non-null    float64\n",
            " 6   pain                        245 non-null    float64\n",
            " 7   outcome                     299 non-null    float64\n",
            "dtypes: float64(7), int64(1)\n",
            "memory usage: 18.9 KB\n"
          ]
        }
      ]
    },
    {
      "cell_type": "code",
      "source": [
        "df_horses.describe()"
      ],
      "metadata": {
        "colab": {
          "base_uri": "https://localhost:8080/",
          "height": 297
        },
        "id": "-HsS1QaKmWE0",
        "outputId": "7770b9a3-ddbb-4980-8785-71a6959c4456"
      },
      "execution_count": null,
      "outputs": [
        {
          "output_type": "execute_result",
          "data": {
            "text/plain": [
              "          surgery         age  rectal_temperature       pulse  \\\n",
              "count  299.000000  300.000000          240.000000  276.000000   \n",
              "mean     1.397993    1.640000           38.167917   71.913043   \n",
              "std      0.490305    2.173972            0.732289   28.630557   \n",
              "min      1.000000    1.000000           35.400000   30.000000   \n",
              "25%      1.000000    1.000000           37.800000   48.000000   \n",
              "50%      1.000000    1.000000           38.200000   64.000000   \n",
              "75%      2.000000    1.000000           38.500000   88.000000   \n",
              "max      2.000000    9.000000           40.800000  184.000000   \n",
              "\n",
              "       respiratory_rate  temperature_of_extremities       pain     outcome  \n",
              "count        242.000000                  244.000000  245.00000  299.000000  \n",
              "mean          30.417355                    2.348361    2.95102    1.551839  \n",
              "std           17.642231                    1.045054    1.30794    0.737187  \n",
              "min            8.000000                    1.000000    1.00000    1.000000  \n",
              "25%           18.500000                    1.000000    2.00000    1.000000  \n",
              "50%           24.500000                    3.000000    3.00000    1.000000  \n",
              "75%           36.000000                    3.000000    4.00000    2.000000  \n",
              "max           96.000000                    4.000000    5.00000    3.000000  "
            ],
            "text/html": [
              "\n",
              "  <div id=\"df-cfdd948c-cc10-4a32-95d5-90ee982b224a\">\n",
              "    <div class=\"colab-df-container\">\n",
              "      <div>\n",
              "<style scoped>\n",
              "    .dataframe tbody tr th:only-of-type {\n",
              "        vertical-align: middle;\n",
              "    }\n",
              "\n",
              "    .dataframe tbody tr th {\n",
              "        vertical-align: top;\n",
              "    }\n",
              "\n",
              "    .dataframe thead th {\n",
              "        text-align: right;\n",
              "    }\n",
              "</style>\n",
              "<table border=\"1\" class=\"dataframe\">\n",
              "  <thead>\n",
              "    <tr style=\"text-align: right;\">\n",
              "      <th></th>\n",
              "      <th>surgery</th>\n",
              "      <th>age</th>\n",
              "      <th>rectal_temperature</th>\n",
              "      <th>pulse</th>\n",
              "      <th>respiratory_rate</th>\n",
              "      <th>temperature_of_extremities</th>\n",
              "      <th>pain</th>\n",
              "      <th>outcome</th>\n",
              "    </tr>\n",
              "  </thead>\n",
              "  <tbody>\n",
              "    <tr>\n",
              "      <th>count</th>\n",
              "      <td>299.000000</td>\n",
              "      <td>300.000000</td>\n",
              "      <td>240.000000</td>\n",
              "      <td>276.000000</td>\n",
              "      <td>242.000000</td>\n",
              "      <td>244.000000</td>\n",
              "      <td>245.00000</td>\n",
              "      <td>299.000000</td>\n",
              "    </tr>\n",
              "    <tr>\n",
              "      <th>mean</th>\n",
              "      <td>1.397993</td>\n",
              "      <td>1.640000</td>\n",
              "      <td>38.167917</td>\n",
              "      <td>71.913043</td>\n",
              "      <td>30.417355</td>\n",
              "      <td>2.348361</td>\n",
              "      <td>2.95102</td>\n",
              "      <td>1.551839</td>\n",
              "    </tr>\n",
              "    <tr>\n",
              "      <th>std</th>\n",
              "      <td>0.490305</td>\n",
              "      <td>2.173972</td>\n",
              "      <td>0.732289</td>\n",
              "      <td>28.630557</td>\n",
              "      <td>17.642231</td>\n",
              "      <td>1.045054</td>\n",
              "      <td>1.30794</td>\n",
              "      <td>0.737187</td>\n",
              "    </tr>\n",
              "    <tr>\n",
              "      <th>min</th>\n",
              "      <td>1.000000</td>\n",
              "      <td>1.000000</td>\n",
              "      <td>35.400000</td>\n",
              "      <td>30.000000</td>\n",
              "      <td>8.000000</td>\n",
              "      <td>1.000000</td>\n",
              "      <td>1.00000</td>\n",
              "      <td>1.000000</td>\n",
              "    </tr>\n",
              "    <tr>\n",
              "      <th>25%</th>\n",
              "      <td>1.000000</td>\n",
              "      <td>1.000000</td>\n",
              "      <td>37.800000</td>\n",
              "      <td>48.000000</td>\n",
              "      <td>18.500000</td>\n",
              "      <td>1.000000</td>\n",
              "      <td>2.00000</td>\n",
              "      <td>1.000000</td>\n",
              "    </tr>\n",
              "    <tr>\n",
              "      <th>50%</th>\n",
              "      <td>1.000000</td>\n",
              "      <td>1.000000</td>\n",
              "      <td>38.200000</td>\n",
              "      <td>64.000000</td>\n",
              "      <td>24.500000</td>\n",
              "      <td>3.000000</td>\n",
              "      <td>3.00000</td>\n",
              "      <td>1.000000</td>\n",
              "    </tr>\n",
              "    <tr>\n",
              "      <th>75%</th>\n",
              "      <td>2.000000</td>\n",
              "      <td>1.000000</td>\n",
              "      <td>38.500000</td>\n",
              "      <td>88.000000</td>\n",
              "      <td>36.000000</td>\n",
              "      <td>3.000000</td>\n",
              "      <td>4.00000</td>\n",
              "      <td>2.000000</td>\n",
              "    </tr>\n",
              "    <tr>\n",
              "      <th>max</th>\n",
              "      <td>2.000000</td>\n",
              "      <td>9.000000</td>\n",
              "      <td>40.800000</td>\n",
              "      <td>184.000000</td>\n",
              "      <td>96.000000</td>\n",
              "      <td>4.000000</td>\n",
              "      <td>5.00000</td>\n",
              "      <td>3.000000</td>\n",
              "    </tr>\n",
              "  </tbody>\n",
              "</table>\n",
              "</div>\n",
              "      <button class=\"colab-df-convert\" onclick=\"convertToInteractive('df-cfdd948c-cc10-4a32-95d5-90ee982b224a')\"\n",
              "              title=\"Convert this dataframe to an interactive table.\"\n",
              "              style=\"display:none;\">\n",
              "        \n",
              "  <svg xmlns=\"http://www.w3.org/2000/svg\" height=\"24px\"viewBox=\"0 0 24 24\"\n",
              "       width=\"24px\">\n",
              "    <path d=\"M0 0h24v24H0V0z\" fill=\"none\"/>\n",
              "    <path d=\"M18.56 5.44l.94 2.06.94-2.06 2.06-.94-2.06-.94-.94-2.06-.94 2.06-2.06.94zm-11 1L8.5 8.5l.94-2.06 2.06-.94-2.06-.94L8.5 2.5l-.94 2.06-2.06.94zm10 10l.94 2.06.94-2.06 2.06-.94-2.06-.94-.94-2.06-.94 2.06-2.06.94z\"/><path d=\"M17.41 7.96l-1.37-1.37c-.4-.4-.92-.59-1.43-.59-.52 0-1.04.2-1.43.59L10.3 9.45l-7.72 7.72c-.78.78-.78 2.05 0 2.83L4 21.41c.39.39.9.59 1.41.59.51 0 1.02-.2 1.41-.59l7.78-7.78 2.81-2.81c.8-.78.8-2.07 0-2.86zM5.41 20L4 18.59l7.72-7.72 1.47 1.35L5.41 20z\"/>\n",
              "  </svg>\n",
              "      </button>\n",
              "      \n",
              "  <style>\n",
              "    .colab-df-container {\n",
              "      display:flex;\n",
              "      flex-wrap:wrap;\n",
              "      gap: 12px;\n",
              "    }\n",
              "\n",
              "    .colab-df-convert {\n",
              "      background-color: #E8F0FE;\n",
              "      border: none;\n",
              "      border-radius: 50%;\n",
              "      cursor: pointer;\n",
              "      display: none;\n",
              "      fill: #1967D2;\n",
              "      height: 32px;\n",
              "      padding: 0 0 0 0;\n",
              "      width: 32px;\n",
              "    }\n",
              "\n",
              "    .colab-df-convert:hover {\n",
              "      background-color: #E2EBFA;\n",
              "      box-shadow: 0px 1px 2px rgba(60, 64, 67, 0.3), 0px 1px 3px 1px rgba(60, 64, 67, 0.15);\n",
              "      fill: #174EA6;\n",
              "    }\n",
              "\n",
              "    [theme=dark] .colab-df-convert {\n",
              "      background-color: #3B4455;\n",
              "      fill: #D2E3FC;\n",
              "    }\n",
              "\n",
              "    [theme=dark] .colab-df-convert:hover {\n",
              "      background-color: #434B5C;\n",
              "      box-shadow: 0px 1px 3px 1px rgba(0, 0, 0, 0.15);\n",
              "      filter: drop-shadow(0px 1px 2px rgba(0, 0, 0, 0.3));\n",
              "      fill: #FFFFFF;\n",
              "    }\n",
              "  </style>\n",
              "\n",
              "      <script>\n",
              "        const buttonEl =\n",
              "          document.querySelector('#df-cfdd948c-cc10-4a32-95d5-90ee982b224a button.colab-df-convert');\n",
              "        buttonEl.style.display =\n",
              "          google.colab.kernel.accessAllowed ? 'block' : 'none';\n",
              "\n",
              "        async function convertToInteractive(key) {\n",
              "          const element = document.querySelector('#df-cfdd948c-cc10-4a32-95d5-90ee982b224a');\n",
              "          const dataTable =\n",
              "            await google.colab.kernel.invokeFunction('convertToInteractive',\n",
              "                                                     [key], {});\n",
              "          if (!dataTable) return;\n",
              "\n",
              "          const docLinkHtml = 'Like what you see? Visit the ' +\n",
              "            '<a target=\"_blank\" href=https://colab.research.google.com/notebooks/data_table.ipynb>data table notebook</a>'\n",
              "            + ' to learn more about interactive tables.';\n",
              "          element.innerHTML = '';\n",
              "          dataTable['output_type'] = 'display_data';\n",
              "          await google.colab.output.renderOutput(dataTable, element);\n",
              "          const docLink = document.createElement('div');\n",
              "          docLink.innerHTML = docLinkHtml;\n",
              "          element.appendChild(docLink);\n",
              "        }\n",
              "      </script>\n",
              "    </div>\n",
              "  </div>\n",
              "  "
            ]
          },
          "metadata": {},
          "execution_count": 6
        }
      ]
    },
    {
      "cell_type": "markdown",
      "source": [
        "Напишем функцию для расчета базовых статистик:"
      ],
      "metadata": {
        "id": "Eii1IMpTKA-g"
      }
    },
    {
      "cell_type": "code",
      "source": [
        "def statistics_base(data):\n",
        "    \"\"\" Функция находит с помощью pandas базовые статистики:\n",
        "    - среднее арифметическое\n",
        "    - медиану\n",
        "    - моду\n",
        "    - стандартное отклонение\n",
        "    - дисперсию\n",
        "    \"\"\"\n",
        "    data_mean = data.mean()\n",
        "    data_median = data.median()\n",
        "    data_mode = data.mode()[0]\n",
        "    data_std = data.std()\n",
        "    data_var = data.var()\n",
        "\n",
        "    print(f'среднее: {data_mean}')\n",
        "    print(f'медиана: {data_median}')\n",
        "    print(f'мода: {data_mode}')\n",
        "    print(f'стандартное отклонение: {data_std}')\n",
        "    print(f'дисперсия: {data_var}')\n",
        "    \n",
        "    return"
      ],
      "metadata": {
        "id": "jz5Kd10CKYTQ"
      },
      "execution_count": null,
      "outputs": []
    },
    {
      "cell_type": "markdown",
      "source": [
        "Напишем функцию для поиска выбросов через межквартильный размах:"
      ],
      "metadata": {
        "id": "ghtoyW7CKGcs"
      }
    },
    {
      "cell_type": "code",
      "source": [
        "def find_anomalies_iqr(data):\n",
        "    \"\"\" Функция находит выбросы через межквартильный размах.\n",
        "    \"\"\"\n",
        "    outliers = []\n",
        "    q1 = data.quantile(0.25)\n",
        "    q3 = data.quantile(0.75)\n",
        "    iqr = q3 - q1\n",
        "    lower_bound = q1 - (1.5 * iqr) \n",
        "    upper_bound = q3 + (1.5 * iqr)\n",
        "\n",
        "    for outlier in data:\n",
        "        if outlier > upper_bound or outlier < lower_bound:\n",
        "            outliers.append(outlier)\n",
        "    \n",
        "    print('Выбросы, найденные с помощью межквартильного размаха:')\n",
        "    return outliers"
      ],
      "metadata": {
        "id": "yZjClGv3KZWZ"
      },
      "execution_count": null,
      "outputs": []
    },
    {
      "cell_type": "markdown",
      "source": [
        "Напишем функцию для поиска выбросов через стандартное отклонение:"
      ],
      "metadata": {
        "id": "QQqsCp_XKRb-"
      }
    },
    {
      "cell_type": "code",
      "source": [
        "def find_anomalies_std(data):\n",
        "    \"\"\"Функция находит выбросы с помощью стандартного отклонения. \n",
        "     Если у вас есть какая-либо точка данных, которая более чем \n",
        "     в 3 раза превышает стандартное отклонение, то эти точки, \n",
        "     скорее всего, будут аномальными или выбросами.\n",
        "    \"\"\"\n",
        "    anomalies = []\n",
        "    data_std = data.std()\n",
        "    data_mean = data.mean()\n",
        "    anomaly_cut_off = data_std * 3\n",
        "    \n",
        "    lower_bound  = data_mean - anomaly_cut_off \n",
        "    upper_bound = data_mean + anomaly_cut_off\n",
        "   \n",
        "    for outlier in data:\n",
        "        if outlier > upper_bound or outlier < lower_bound:\n",
        "            anomalies.append(outlier)\n",
        "    print('Выбросы, найденные с помощью стандартного отклонения:')\n",
        "    return anomalies"
      ],
      "metadata": {
        "id": "S4QLYnuFKWBT"
      },
      "execution_count": null,
      "outputs": []
    },
    {
      "cell_type": "markdown",
      "source": [
        "**surgery:**\\\n",
        "          1 = Yes, it had surgery;\\\n",
        "          2 = It was treated without surgery \\\n",
        "\n",
        "**surgery** - качественный бинарный атрибут, свидетельствующий о том делали оперцию лошади или нет. Для бинарного атрибута нет смысла рассчитывать базовые метрики. Посмотрим, как распределены значения в данном атрибуте. (1 NaN)"
      ],
      "metadata": {
        "id": "NYppds04mTLU"
      }
    },
    {
      "cell_type": "code",
      "source": [
        "df_horses['surgery'].value_counts()"
      ],
      "metadata": {
        "colab": {
          "base_uri": "https://localhost:8080/"
        },
        "id": "2F1dTqxzP7ml",
        "outputId": "22b100bd-a226-415a-ca44-ae5fca777bb0"
      },
      "execution_count": null,
      "outputs": [
        {
          "output_type": "execute_result",
          "data": {
            "text/plain": [
              "1.0    180\n",
              "2.0    119\n",
              "Name: surgery, dtype: int64"
            ]
          },
          "metadata": {},
          "execution_count": 10
        }
      ]
    },
    {
      "cell_type": "markdown",
      "source": [
        "**age:** \\\n",
        "          1 = Adult horse;\\\n",
        "          2 = Young (< 6 months)\\\n",
        "**age** - качественный бинариный атрибут. (0 NaN)"
      ],
      "metadata": {
        "id": "sOZbWqqCnEtq"
      }
    },
    {
      "cell_type": "code",
      "source": [
        "df_horses['age'].value_counts()"
      ],
      "metadata": {
        "colab": {
          "base_uri": "https://localhost:8080/"
        },
        "id": "jmFoK342Qfge",
        "outputId": "def01b19-8e4a-4112-8634-83d3ff4484f6"
      },
      "execution_count": null,
      "outputs": [
        {
          "output_type": "execute_result",
          "data": {
            "text/plain": [
              "1    276\n",
              "9     24\n",
              "Name: age, dtype: int64"
            ]
          },
          "metadata": {},
          "execution_count": 11
        }
      ]
    },
    {
      "cell_type": "markdown",
      "source": [
        "В описании данных значение столбца **age** может быть равно либо 1 (взрослая лошадь), либо 2 (молодая лошадь, возраст < 6 месяцев). В данной таблице есть значения 1 или 9. Что именно означает 9 — не понятно. По другим данным так же сложно это выяснить. Можно предположить, что это месяцы, тогда все лошади в данном датасете взрослые, можно предположить, что это ошибочное написание '2', тогда 9 - это молодые лошади. Дополнительных атрибутов, по которым мы смогли бы судить о возрасте, я не нашла. Разве что пульс, который обычно у более молодых особей более частый, чем у взрослых (https://megaobuchalka.ru/2/18407.html). Но довольно часто на пульс влияет и состояние здоровья, и температура тела."
      ],
      "metadata": {
        "id": "LCp8rdO_dlxd"
      }
    },
    {
      "cell_type": "markdown",
      "source": [
        "Найдём среднее значение показателя пульса у лощадей с возрастом '9' и возрастом '1' и сравним."
      ],
      "metadata": {
        "id": "YBYMyfOPjusH"
      }
    },
    {
      "cell_type": "code",
      "source": [
        "df_horses.pulse[df_horses['age'] == 9].mean()"
      ],
      "metadata": {
        "colab": {
          "base_uri": "https://localhost:8080/"
        },
        "id": "9vIZOKntBbvn",
        "outputId": "9afe3f80-8c52-4995-a700-32a81a074519"
      },
      "execution_count": null,
      "outputs": [
        {
          "output_type": "execute_result",
          "data": {
            "text/plain": [
              "123.36363636363636"
            ]
          },
          "metadata": {},
          "execution_count": 12
        }
      ]
    },
    {
      "cell_type": "code",
      "source": [
        "df_horses.pulse[df_horses['age'] == 1].mean()"
      ],
      "metadata": {
        "colab": {
          "base_uri": "https://localhost:8080/"
        },
        "id": "v8J3qUEBiuD5",
        "outputId": "9d70504b-3b7e-4fcb-e06a-ecde301520da"
      },
      "execution_count": null,
      "outputs": [
        {
          "output_type": "execute_result",
          "data": {
            "text/plain": [
              "67.45669291338582"
            ]
          },
          "metadata": {},
          "execution_count": 13
        }
      ]
    },
    {
      "cell_type": "markdown",
      "source": [
        "Если экспертно оценивать эти значения, то разница существенная для пульса, но статистически значимость этих различий я не могу определить (возможно, тут может помочь U-тест Манна - Уитни). И всё же предположим, что 9 - это молодые лошади.\\\n",
        "Для того, чтобы оценить необходимость замены \"непонятных\" данных в столбце с возрастом, хочется иметь представление о задаче, для которой могут понадобиться эти данные. Например, нам надо спрогнозировать, какая учесть может ждать лошадь: жизнь или смерть (с вариантом эвтаназии).\\\n",
        "Для такой задачи показатель возраста может быть очень существенным, и в реальной жизни необходимо было бы уточнить, что это за таинственная 9-ка у тех, кто собирал данные. "
      ],
      "metadata": {
        "id": "RLWCwfL8kCZL"
      }
    },
    {
      "cell_type": "markdown",
      "source": [
        "Поскольку мы предположили, что возраст связан с пульсом, и 9 - это молодые лошади, то заменим все 9-ки на 2."
      ],
      "metadata": {
        "id": "NRKiCdehlxpc"
      }
    },
    {
      "cell_type": "code",
      "source": [
        "df_horses.loc[(df_horses.age == 9), 'age'] = 2\n",
        "\n",
        "df_horses.age[df_horses['age'] == 2].count() #проверяю количество изменённых значений"
      ],
      "metadata": {
        "colab": {
          "base_uri": "https://localhost:8080/"
        },
        "id": "B_iy2Xpvl8Ui",
        "outputId": "0f2e8769-d8f4-4e05-c074-942b61498250"
      },
      "execution_count": null,
      "outputs": [
        {
          "output_type": "execute_result",
          "data": {
            "text/plain": [
              "24"
            ]
          },
          "metadata": {},
          "execution_count": 14
        }
      ]
    },
    {
      "cell_type": "markdown",
      "source": [
        "**rectal_temperature:**\\\n",
        "          - linear\\\n",
        "          - in degrees celsius\\\n",
        "          - An elevated temp may occur due to infection\\\n",
        "          - temperature may be reduced when the animal is in late shock\\\n",
        "          - normal temp is 37.8\\\n",
        "          - this parameter will usually change as the problem progresses\\\n",
        "               eg. may start out normal, then become elevated because of\n",
        "                   the lesion, passing back through the normal range as the\n",
        "                   horse goes into shock\\\n",
        "**rectal_temperature** - количественный атрибут (60 NaN)."
      ],
      "metadata": {
        "id": "X4GVSuZFrNOb"
      }
    },
    {
      "cell_type": "markdown",
      "source": [
        "Проверим, нет ли каких-нибудь ошибочных данных."
      ],
      "metadata": {
        "id": "DeXrW43ZCSML"
      }
    },
    {
      "cell_type": "code",
      "source": [
        "df_horses['rectal_temperature'].value_counts()"
      ],
      "metadata": {
        "colab": {
          "base_uri": "https://localhost:8080/"
        },
        "id": "Az1ZEqeXCaGj",
        "outputId": "60691981-fea2-41cd-db08-0d1cb72ae123"
      },
      "execution_count": null,
      "outputs": [
        {
          "output_type": "execute_result",
          "data": {
            "text/plain": [
              "38.0    26\n",
              "38.5    19\n",
              "38.3    18\n",
              "37.8    17\n",
              "38.2    16\n",
              "38.1    12\n",
              "37.5    12\n",
              "38.6    12\n",
              "38.4    11\n",
              "37.9     7\n",
              "37.2     7\n",
              "37.6     7\n",
              "37.7     7\n",
              "38.7     7\n",
              "37.3     6\n",
              "38.8     6\n",
              "39.2     5\n",
              "39.5     4\n",
              "39.3     4\n",
              "38.9     4\n",
              "39.0     4\n",
              "39.4     3\n",
              "37.1     3\n",
              "37.4     3\n",
              "40.3     2\n",
              "37.0     2\n",
              "39.1     2\n",
              "36.5     2\n",
              "36.9     1\n",
              "40.8     1\n",
              "36.6     1\n",
              "36.1     1\n",
              "35.4     1\n",
              "36.0     1\n",
              "36.8     1\n",
              "39.6     1\n",
              "39.9     1\n",
              "36.4     1\n",
              "39.7     1\n",
              "40.0     1\n",
              "Name: rectal_temperature, dtype: int64"
            ]
          },
          "metadata": {},
          "execution_count": 15
        }
      ]
    },
    {
      "cell_type": "markdown",
      "source": [
        "Все встречающиеся значения выглядят соотвествующими показателю температуры."
      ],
      "metadata": {
        "id": "93R1c5IOChXm"
      }
    },
    {
      "cell_type": "markdown",
      "source": [
        "Рассчитаем базовые метрики:"
      ],
      "metadata": {
        "id": "-Q9-xCZLThmh"
      }
    },
    {
      "cell_type": "code",
      "source": [
        "statistics_base(df_horses['rectal_temperature'])"
      ],
      "metadata": {
        "colab": {
          "base_uri": "https://localhost:8080/"
        },
        "id": "GHjoYG3Grjss",
        "outputId": "86b0c3ba-ddf9-4ae4-cd2b-1120401ad12c"
      },
      "execution_count": null,
      "outputs": [
        {
          "output_type": "stream",
          "name": "stdout",
          "text": [
            "среднее: 38.16791666666667\n",
            "медиана: 38.2\n",
            "мода: 38.0\n",
            "стандартное отклонение: 0.7322886641121578\n",
            "дисперсия: 0.5362466875871686\n"
          ]
        }
      ]
    },
    {
      "cell_type": "markdown",
      "source": [
        "Предположим, что распределение данных по этому атрибуту нормальное и определим выбросы через межквартильный размах."
      ],
      "metadata": {
        "id": "XSEpa2tm451j"
      }
    },
    {
      "cell_type": "code",
      "source": [
        "find_anomalies_iqr(df_horses['rectal_temperature'])"
      ],
      "metadata": {
        "colab": {
          "base_uri": "https://localhost:8080/"
        },
        "id": "fb_4yHtO4_F2",
        "outputId": "b27994a3-f5ef-49a3-9358-2b36ee391dcf"
      },
      "execution_count": null,
      "outputs": [
        {
          "output_type": "stream",
          "name": "stdout",
          "text": [
            "Выбросы, найденные с помощью межквартильного размаха:\n"
          ]
        },
        {
          "output_type": "execute_result",
          "data": {
            "text/plain": [
              "[39.9,\n",
              " 35.4,\n",
              " 40.3,\n",
              " 39.7,\n",
              " 36.4,\n",
              " 40.3,\n",
              " 39.6,\n",
              " 36.5,\n",
              " 36.0,\n",
              " 36.1,\n",
              " 36.6,\n",
              " 40.8,\n",
              " 40.0,\n",
              " 36.5]"
            ]
          },
          "metadata": {},
          "execution_count": 17
        }
      ]
    },
    {
      "cell_type": "markdown",
      "source": [
        "Определим выбросы через стандартное отклонение:"
      ],
      "metadata": {
        "id": "r97wOkbCQncu"
      }
    },
    {
      "cell_type": "code",
      "source": [
        "find_anomalies_std(df_horses['rectal_temperature'])"
      ],
      "metadata": {
        "colab": {
          "base_uri": "https://localhost:8080/"
        },
        "id": "VCxld-1nQr9K",
        "outputId": "597dcaa8-2a9b-426f-81f3-1a8cc3220ed0"
      },
      "execution_count": null,
      "outputs": [
        {
          "output_type": "stream",
          "name": "stdout",
          "text": [
            "Выбросы, найденные с помощью стандартного отклонения:\n"
          ]
        },
        {
          "output_type": "execute_result",
          "data": {
            "text/plain": [
              "[35.4, 40.8]"
            ]
          },
          "metadata": {},
          "execution_count": 18
        }
      ]
    },
    {
      "cell_type": "markdown",
      "source": [
        "Если оценивать эти показатели выбросов с помощью зравого смысла (что, скорее всего, ошибочно в статистике), то их следует принимать во внимание в расчетах. Это естественные выбросы."
      ],
      "metadata": {
        "id": "S78pUvJxBrTE"
      }
    },
    {
      "cell_type": "markdown",
      "source": [
        "**pulse:**\\\n",
        "          - linear\\\n",
        "          - the heart rate in beats per minute\\\n",
        "          - is a reflection of the heart condition: 30 -40 is normal for adults\\\n",
        "          - rare to have a lower than normal rate although athletic horses\n",
        "            may have a rate of 20-25\\\n",
        "          - animals with painful lesions or suffering from circulatory shock\n",
        "            may have an elevated heart rate\\\n",
        "**pulse** - количественный атрибут(24 NaN)."
      ],
      "metadata": {
        "id": "Pvyte7N2sexY"
      }
    },
    {
      "cell_type": "markdown",
      "source": [
        "Посмотрим, какие значения встречаются по данному атрибуту."
      ],
      "metadata": {
        "id": "lfhxkRQBCs2d"
      }
    },
    {
      "cell_type": "code",
      "source": [
        "df_horses['pulse'].value_counts()"
      ],
      "metadata": {
        "colab": {
          "base_uri": "https://localhost:8080/"
        },
        "id": "MaI0qR3TCyD5",
        "outputId": "81c492aa-9330-4b9a-a55d-73d5659ca417"
      },
      "execution_count": null,
      "outputs": [
        {
          "output_type": "execute_result",
          "data": {
            "text/plain": [
              "48.0     28\n",
              "60.0     25\n",
              "40.0     18\n",
              "52.0     12\n",
              "88.0     12\n",
              "44.0     11\n",
              "100.0    11\n",
              "72.0     11\n",
              "120.0    10\n",
              "42.0     10\n",
              "64.0      8\n",
              "96.0      8\n",
              "84.0      8\n",
              "80.0      8\n",
              "54.0      7\n",
              "56.0      7\n",
              "50.0      6\n",
              "66.0      6\n",
              "104.0     5\n",
              "68.0      5\n",
              "92.0      4\n",
              "70.0      4\n",
              "76.0      4\n",
              "108.0     3\n",
              "86.0      3\n",
              "78.0      3\n",
              "90.0      3\n",
              "36.0      3\n",
              "112.0     3\n",
              "114.0     2\n",
              "45.0      2\n",
              "140.0     2\n",
              "124.0     2\n",
              "150.0     2\n",
              "130.0     2\n",
              "30.0      2\n",
              "132.0     1\n",
              "129.0     1\n",
              "184.0     1\n",
              "75.0      1\n",
              "65.0      1\n",
              "164.0     1\n",
              "136.0     1\n",
              "49.0      1\n",
              "98.0      1\n",
              "38.0      1\n",
              "160.0     1\n",
              "46.0      1\n",
              "128.0     1\n",
              "146.0     1\n",
              "110.0     1\n",
              "82.0      1\n",
              "Name: pulse, dtype: int64"
            ]
          },
          "metadata": {},
          "execution_count": 19
        }
      ]
    },
    {
      "cell_type": "markdown",
      "source": [
        "На первый взгляд, все данные соответствуют показателю пульса."
      ],
      "metadata": {
        "id": "odPFXEAuDGwZ"
      }
    },
    {
      "cell_type": "markdown",
      "source": [
        "Рассчитаем базовые метрики:"
      ],
      "metadata": {
        "id": "562MR47BTtfU"
      }
    },
    {
      "cell_type": "code",
      "source": [
        "statistics_base(df_horses['pulse'])"
      ],
      "metadata": {
        "colab": {
          "base_uri": "https://localhost:8080/"
        },
        "id": "jEI26Dnpsonc",
        "outputId": "bb943f9e-757a-4d43-bcc3-e543671c3c4c"
      },
      "execution_count": null,
      "outputs": [
        {
          "output_type": "stream",
          "name": "stdout",
          "text": [
            "среднее: 71.91304347826087\n",
            "медиана: 64.0\n",
            "мода: 48.0\n",
            "стандартное отклонение: 28.630556660735\n",
            "дисперсия: 819.7087747035573\n"
          ]
        }
      ]
    },
    {
      "cell_type": "markdown",
      "source": [
        "Выбросы:"
      ],
      "metadata": {
        "id": "j8ekZSnB76hh"
      }
    },
    {
      "cell_type": "code",
      "source": [
        "find_anomalies_iqr(df_horses['pulse'])"
      ],
      "metadata": {
        "colab": {
          "base_uri": "https://localhost:8080/"
        },
        "id": "HmuMAkZURGFB",
        "outputId": "fdb8b702-cd93-4a06-d46e-b629bbf3f7b5"
      },
      "execution_count": null,
      "outputs": [
        {
          "output_type": "stream",
          "name": "stdout",
          "text": [
            "Выбросы, найденные с помощью межквартильного размаха:\n"
          ]
        },
        {
          "output_type": "execute_result",
          "data": {
            "text/plain": [
              "[164.0, 150.0, 160.0, 184.0, 150.0]"
            ]
          },
          "metadata": {},
          "execution_count": 21
        }
      ]
    },
    {
      "cell_type": "code",
      "source": [
        "find_anomalies_std(df_horses['pulse'])"
      ],
      "metadata": {
        "colab": {
          "base_uri": "https://localhost:8080/"
        },
        "id": "q5Oqjp9VFT9_",
        "outputId": "ea34925c-5d17-460c-a725-d391d435eb87"
      },
      "execution_count": null,
      "outputs": [
        {
          "output_type": "stream",
          "name": "stdout",
          "text": [
            "Выбросы, найденные с помощью стандартного отклонения:\n"
          ]
        },
        {
          "output_type": "execute_result",
          "data": {
            "text/plain": [
              "[164.0, 160.0, 184.0]"
            ]
          },
          "metadata": {},
          "execution_count": 22
        }
      ]
    },
    {
      "cell_type": "markdown",
      "source": [
        "Согласно здравому смыслу, эти показатели выбросов могут быть скорее свидетельством особого состояния здоровья лошади, чем ошибки, поэтому следует их оставить как есть. Это естественные выбросы"
      ],
      "metadata": {
        "id": "37C4ZxwYSIdz"
      }
    },
    {
      "cell_type": "markdown",
      "source": [
        "**respiratory_rate:**\\\n",
        "          - linear\\\n",
        "          - normal rate is 8 to 10\\\n",
        "          - usefulness is doubtful due to the great fluctuations\\\n",
        "**respiratory_rate** - количественный атрибут (58 NaN)."
      ],
      "metadata": {
        "id": "bS8Occg3smjB"
      }
    },
    {
      "cell_type": "markdown",
      "source": [
        "Посмотрим, какие данные встречаются:"
      ],
      "metadata": {
        "id": "32rnDIkCVd-6"
      }
    },
    {
      "cell_type": "code",
      "source": [
        "df_horses['respiratory_rate'].value_counts()"
      ],
      "metadata": {
        "colab": {
          "base_uri": "https://localhost:8080/"
        },
        "id": "SfpcIYKlVjQf",
        "outputId": "c1ba0b68-cbf2-4882-f295-5193f42eb55d"
      },
      "execution_count": null,
      "outputs": [
        {
          "output_type": "execute_result",
          "data": {
            "text/plain": [
              "20.0    28\n",
              "24.0    27\n",
              "16.0    22\n",
              "12.0    19\n",
              "30.0    19\n",
              "40.0    17\n",
              "36.0    16\n",
              "28.0    13\n",
              "32.0    11\n",
              "18.0     8\n",
              "48.0     6\n",
              "60.0     4\n",
              "14.0     4\n",
              "42.0     3\n",
              "68.0     3\n",
              "10.0     3\n",
              "44.0     3\n",
              "35.0     3\n",
              "80.0     3\n",
              "9.0      2\n",
              "51.0     2\n",
              "90.0     2\n",
              "70.0     2\n",
              "22.0     2\n",
              "96.0     2\n",
              "21.0     2\n",
              "84.0     2\n",
              "50.0     2\n",
              "15.0     1\n",
              "72.0     1\n",
              "66.0     1\n",
              "34.0     1\n",
              "52.0     1\n",
              "8.0      1\n",
              "23.0     1\n",
              "58.0     1\n",
              "13.0     1\n",
              "26.0     1\n",
              "88.0     1\n",
              "25.0     1\n",
              "Name: respiratory_rate, dtype: int64"
            ]
          },
          "metadata": {},
          "execution_count": 23
        }
      ]
    },
    {
      "cell_type": "markdown",
      "source": [
        "Рассчитаем базовые метрики:"
      ],
      "metadata": {
        "id": "Bni13R1BTviY"
      }
    },
    {
      "cell_type": "code",
      "source": [
        "statistics_base(df_horses['respiratory_rate'])"
      ],
      "metadata": {
        "colab": {
          "base_uri": "https://localhost:8080/"
        },
        "id": "s-flmXSXQ8ds",
        "outputId": "bc9a373a-48cc-4f8b-94ef-fc7107ed6edb"
      },
      "execution_count": null,
      "outputs": [
        {
          "output_type": "stream",
          "name": "stdout",
          "text": [
            "среднее: 30.417355371900825\n",
            "медиана: 24.5\n",
            "мода: 20.0\n",
            "стандартное отклонение: 17.64223138513467\n",
            "дисперсия: 311.2483282466308\n"
          ]
        }
      ]
    },
    {
      "cell_type": "markdown",
      "source": [
        "Выбросы:"
      ],
      "metadata": {
        "id": "zo9dscyY733c"
      }
    },
    {
      "cell_type": "code",
      "source": [
        "find_anomalies_iqr(df_horses['respiratory_rate'])"
      ],
      "metadata": {
        "colab": {
          "base_uri": "https://localhost:8080/"
        },
        "id": "40QrRGCd5k4E",
        "outputId": "25d61b89-af60-4212-f58f-9de5ed689266"
      },
      "execution_count": null,
      "outputs": [
        {
          "output_type": "stream",
          "name": "stdout",
          "text": [
            "Выбросы, найденные с помощью межквартильного размаха:\n"
          ]
        },
        {
          "output_type": "execute_result",
          "data": {
            "text/plain": [
              "[84.0,\n",
              " 96.0,\n",
              " 72.0,\n",
              " 80.0,\n",
              " 80.0,\n",
              " 68.0,\n",
              " 96.0,\n",
              " 66.0,\n",
              " 68.0,\n",
              " 90.0,\n",
              " 80.0,\n",
              " 70.0,\n",
              " 88.0,\n",
              " 84.0,\n",
              " 68.0,\n",
              " 90.0,\n",
              " 70.0]"
            ]
          },
          "metadata": {},
          "execution_count": 25
        }
      ]
    },
    {
      "cell_type": "code",
      "source": [
        "find_anomalies_std(df_horses['respiratory_rate'])"
      ],
      "metadata": {
        "colab": {
          "base_uri": "https://localhost:8080/"
        },
        "id": "aZXLxho9Lyoj",
        "outputId": "b5d431b2-0cef-4c5e-cd3d-e3db7a1e7e7c"
      },
      "execution_count": null,
      "outputs": [
        {
          "output_type": "stream",
          "name": "stdout",
          "text": [
            "Выбросы, найденные с помощью стандартного отклонения:\n"
          ]
        },
        {
          "output_type": "execute_result",
          "data": {
            "text/plain": [
              "[84.0, 96.0, 96.0, 90.0, 88.0, 84.0, 90.0]"
            ]
          },
          "metadata": {},
          "execution_count": 26
        }
      ]
    },
    {
      "cell_type": "markdown",
      "source": [
        "Это естественные выбросы. Учитывая, что в описании датасета указано, что норма находится в диапаоне 8-10 по этому атрибуту, не очень понятно, что делать с этими выбросами в дальнейшем и со всем атрибутом в целом. Возможно, от этого атрибута придётся отказаться в зависимости от задачи."
      ],
      "metadata": {
        "id": "NB6n9aOkSxjj"
      }
    },
    {
      "cell_type": "markdown",
      "source": [
        "**temperature_of_extremities:**\\\n",
        "          - a subjective indication of peripheral circulation\\\n",
        "          - possible values:\\\n",
        "               1 = Normal\\\n",
        "               2 = Warm\\\n",
        "               3 = Cool\\\n",
        "               4 = Cold\\\n",
        "          - cool to cold extremities indicate possible shock\\\n",
        "          - hot extremities should correlate with an elevated rectal temp\\\n",
        "**temperature_of_extremities** - качественный порядковый атрибут (56 NaN)."
      ],
      "metadata": {
        "id": "O_5PN8LdtK3E"
      }
    },
    {
      "cell_type": "code",
      "source": [
        "df_horses['temperature_of_extremities'].value_counts()"
      ],
      "metadata": {
        "colab": {
          "base_uri": "https://localhost:8080/"
        },
        "id": "G69alnXxRrPf",
        "outputId": "83844c6b-7618-4275-8e82-0e65b6847cd1"
      },
      "execution_count": null,
      "outputs": [
        {
          "output_type": "execute_result",
          "data": {
            "text/plain": [
              "3.0    109\n",
              "1.0     78\n",
              "2.0     30\n",
              "4.0     27\n",
              "Name: temperature_of_extremities, dtype: int64"
            ]
          },
          "metadata": {},
          "execution_count": 27
        }
      ]
    },
    {
      "cell_type": "markdown",
      "source": [
        "**pain:**\\\n",
        "          - possible values:\\\n",
        "               1 = alert, no pain\\\n",
        "               2 = depressed\\\n",
        "               3 = intermittent mild pain\\\n",
        "               4 = intermittent severe pain\\\n",
        "               5 = continuous severe pain\\\n",
        "          - should NOT be treated as a ordered or discrete variable!\\\n",
        "          - In general, the more painful, the more likely it is to require\n",
        "            surgery\\\n",
        "          - prior treatment of pain may mask the pain level to some extent\\\n",
        "**pain** - качественный номинальный атрибут (55 NaN)."
      ],
      "metadata": {
        "id": "5Zbly56atZGa"
      }
    },
    {
      "cell_type": "code",
      "source": [
        "df_horses['pain'].value_counts()"
      ],
      "metadata": {
        "colab": {
          "base_uri": "https://localhost:8080/"
        },
        "id": "12VBozExR1sp",
        "outputId": "5493db20-d9e0-4ed8-c2bf-81275fc572e8"
      },
      "execution_count": null,
      "outputs": [
        {
          "output_type": "execute_result",
          "data": {
            "text/plain": [
              "3.0    67\n",
              "2.0    59\n",
              "5.0    42\n",
              "4.0    39\n",
              "1.0    38\n",
              "Name: pain, dtype: int64"
            ]
          },
          "metadata": {},
          "execution_count": 28
        }
      ]
    },
    {
      "cell_type": "markdown",
      "source": [
        "\n",
        "**outcome:**\\\n",
        "          - what eventually happened to the horse?\\\n",
        "          - possible values:\\\n",
        "               1 = lived\\\n",
        "               2 = died\\\n",
        "               3 = was euthanized\\\n",
        "**outcome** - качественный атрибут (1 NaN)"
      ],
      "metadata": {
        "id": "1vaE6hLnt00_"
      }
    },
    {
      "cell_type": "code",
      "source": [
        "df_horses['outcome'].value_counts()"
      ],
      "metadata": {
        "colab": {
          "base_uri": "https://localhost:8080/"
        },
        "id": "BQ68IUoGR5qM",
        "outputId": "daa644d2-20c7-4741-b244-d927dfb8c4e9"
      },
      "execution_count": null,
      "outputs": [
        {
          "output_type": "execute_result",
          "data": {
            "text/plain": [
              "1.0    178\n",
              "2.0     77\n",
              "3.0     44\n",
              "Name: outcome, dtype: int64"
            ]
          },
          "metadata": {},
          "execution_count": 29
        }
      ]
    },
    {
      "cell_type": "markdown",
      "source": [
        "**Задание 3. Работа с пропусками**"
      ],
      "metadata": {
        "id": "InjvFm5fujYq"
      }
    },
    {
      "cell_type": "markdown",
      "source": [
        "Рассчитать количество пропусков для всех выбранных столбцов. Принять и обосновать решение о методе заполнения пропусков по каждому столбцу на основе рассчитанных статистик и возможной взаимосвязи значений в них. Сформировать датафрейм, в котором пропуски будут отсутствовать."
      ],
      "metadata": {
        "id": "YAnXli-suoj4"
      }
    },
    {
      "cell_type": "markdown",
      "source": [
        "В случае с медицинскими показателями наиболее правильным представляется решение просто удалить все строки с пропусками, потому что не очевидны механизмы формирования пропусков, и природа данных слишком индивидуальна. В учебных целях редположим, что в нашем случае это MCAR."
      ],
      "metadata": {
        "id": "V__mNJGRtg_j"
      }
    },
    {
      "cell_type": "markdown",
      "source": [
        "Проанализируем пропуски по каждому атрибуту:"
      ],
      "metadata": {
        "id": "O4B20zMr1U2o"
      }
    },
    {
      "cell_type": "code",
      "source": [
        "df_horses.isna().sum()"
      ],
      "metadata": {
        "colab": {
          "base_uri": "https://localhost:8080/"
        },
        "id": "5nFq2EdduROt",
        "outputId": "b40f3337-f38c-4649-f9a0-e4438a63d22e"
      },
      "execution_count": null,
      "outputs": [
        {
          "output_type": "execute_result",
          "data": {
            "text/plain": [
              "surgery                        1\n",
              "age                            0\n",
              "rectal_temperature            60\n",
              "pulse                         24\n",
              "respiratory_rate              58\n",
              "temperature_of_extremities    56\n",
              "pain                          55\n",
              "outcome                        1\n",
              "dtype: int64"
            ]
          },
          "metadata": {},
          "execution_count": 32
        }
      ]
    },
    {
      "cell_type": "markdown",
      "source": [
        "В описании датасета указано, что столбец respiratory_rate не информативен в силу большого разброса и там много пропусков. Можно удалить весь этот столбец."
      ],
      "metadata": {
        "id": "yifqGeUpyg0q"
      }
    },
    {
      "cell_type": "code",
      "source": [
        "df_horses = df_horses.drop(['respiratory_rate'], axis=1)\n",
        "df_horses.info()"
      ],
      "metadata": {
        "colab": {
          "base_uri": "https://localhost:8080/"
        },
        "id": "QCYA67I1y9AL",
        "outputId": "507dad20-5940-484e-eeff-56ea8945003c"
      },
      "execution_count": null,
      "outputs": [
        {
          "output_type": "stream",
          "name": "stdout",
          "text": [
            "<class 'pandas.core.frame.DataFrame'>\n",
            "RangeIndex: 300 entries, 0 to 299\n",
            "Data columns (total 7 columns):\n",
            " #   Column                      Non-Null Count  Dtype  \n",
            "---  ------                      --------------  -----  \n",
            " 0   surgery                     299 non-null    float64\n",
            " 1   age                         300 non-null    int64  \n",
            " 2   rectal_temperature          240 non-null    float64\n",
            " 3   pulse                       276 non-null    float64\n",
            " 4   temperature_of_extremities  244 non-null    float64\n",
            " 5   pain                        245 non-null    float64\n",
            " 6   outcome                     299 non-null    float64\n",
            "dtypes: float64(6), int64(1)\n",
            "memory usage: 16.5 KB\n"
          ]
        }
      ]
    },
    {
      "cell_type": "markdown",
      "source": [
        "В строках, где 3 из 7 атрибутов с пропусками - малоинформативны. Оставим строки, в которых как минимум 5/7 атрибутов заполнены"
      ],
      "metadata": {
        "id": "yPomDzxD0j1n"
      }
    },
    {
      "cell_type": "code",
      "source": [
        "df_horses_dropna = df_horses.dropna(thresh=5)\n",
        "df_horses_dropna"
      ],
      "metadata": {
        "colab": {
          "base_uri": "https://localhost:8080/",
          "height": 419
        },
        "id": "KnFvmNMf0eSo",
        "outputId": "ec99df50-36fd-4b01-8ee8-bbe6620e6033"
      },
      "execution_count": null,
      "outputs": [
        {
          "output_type": "execute_result",
          "data": {
            "text/plain": [
              "     surgery  age  rectal_temperature  pulse  temperature_of_extremities  \\\n",
              "0        2.0    1                38.5   66.0                         3.0   \n",
              "1        1.0    1                39.2   88.0                         NaN   \n",
              "2        2.0    1                38.3   40.0                         1.0   \n",
              "3        1.0    2                39.1  164.0                         4.0   \n",
              "4        2.0    1                37.3  104.0                         NaN   \n",
              "..       ...  ...                 ...    ...                         ...   \n",
              "295      1.0    1                 NaN  120.0                         4.0   \n",
              "296      2.0    1                37.2   72.0                         3.0   \n",
              "297      1.0    1                37.5   72.0                         4.0   \n",
              "298      1.0    1                36.5  100.0                         3.0   \n",
              "299      1.0    1                37.2   40.0                         NaN   \n",
              "\n",
              "     pain  outcome  \n",
              "0     5.0      2.0  \n",
              "1     3.0      3.0  \n",
              "2     3.0      1.0  \n",
              "3     2.0      2.0  \n",
              "4     NaN      2.0  \n",
              "..    ...      ...  \n",
              "295   2.0      3.0  \n",
              "296   4.0      3.0  \n",
              "297   4.0      2.0  \n",
              "298   3.0      1.0  \n",
              "299   NaN      3.0  \n",
              "\n",
              "[288 rows x 7 columns]"
            ],
            "text/html": [
              "\n",
              "  <div id=\"df-a91acc1f-5212-4e25-aaeb-314687d1ef0f\">\n",
              "    <div class=\"colab-df-container\">\n",
              "      <div>\n",
              "<style scoped>\n",
              "    .dataframe tbody tr th:only-of-type {\n",
              "        vertical-align: middle;\n",
              "    }\n",
              "\n",
              "    .dataframe tbody tr th {\n",
              "        vertical-align: top;\n",
              "    }\n",
              "\n",
              "    .dataframe thead th {\n",
              "        text-align: right;\n",
              "    }\n",
              "</style>\n",
              "<table border=\"1\" class=\"dataframe\">\n",
              "  <thead>\n",
              "    <tr style=\"text-align: right;\">\n",
              "      <th></th>\n",
              "      <th>surgery</th>\n",
              "      <th>age</th>\n",
              "      <th>rectal_temperature</th>\n",
              "      <th>pulse</th>\n",
              "      <th>temperature_of_extremities</th>\n",
              "      <th>pain</th>\n",
              "      <th>outcome</th>\n",
              "    </tr>\n",
              "  </thead>\n",
              "  <tbody>\n",
              "    <tr>\n",
              "      <th>0</th>\n",
              "      <td>2.0</td>\n",
              "      <td>1</td>\n",
              "      <td>38.5</td>\n",
              "      <td>66.0</td>\n",
              "      <td>3.0</td>\n",
              "      <td>5.0</td>\n",
              "      <td>2.0</td>\n",
              "    </tr>\n",
              "    <tr>\n",
              "      <th>1</th>\n",
              "      <td>1.0</td>\n",
              "      <td>1</td>\n",
              "      <td>39.2</td>\n",
              "      <td>88.0</td>\n",
              "      <td>NaN</td>\n",
              "      <td>3.0</td>\n",
              "      <td>3.0</td>\n",
              "    </tr>\n",
              "    <tr>\n",
              "      <th>2</th>\n",
              "      <td>2.0</td>\n",
              "      <td>1</td>\n",
              "      <td>38.3</td>\n",
              "      <td>40.0</td>\n",
              "      <td>1.0</td>\n",
              "      <td>3.0</td>\n",
              "      <td>1.0</td>\n",
              "    </tr>\n",
              "    <tr>\n",
              "      <th>3</th>\n",
              "      <td>1.0</td>\n",
              "      <td>2</td>\n",
              "      <td>39.1</td>\n",
              "      <td>164.0</td>\n",
              "      <td>4.0</td>\n",
              "      <td>2.0</td>\n",
              "      <td>2.0</td>\n",
              "    </tr>\n",
              "    <tr>\n",
              "      <th>4</th>\n",
              "      <td>2.0</td>\n",
              "      <td>1</td>\n",
              "      <td>37.3</td>\n",
              "      <td>104.0</td>\n",
              "      <td>NaN</td>\n",
              "      <td>NaN</td>\n",
              "      <td>2.0</td>\n",
              "    </tr>\n",
              "    <tr>\n",
              "      <th>...</th>\n",
              "      <td>...</td>\n",
              "      <td>...</td>\n",
              "      <td>...</td>\n",
              "      <td>...</td>\n",
              "      <td>...</td>\n",
              "      <td>...</td>\n",
              "      <td>...</td>\n",
              "    </tr>\n",
              "    <tr>\n",
              "      <th>295</th>\n",
              "      <td>1.0</td>\n",
              "      <td>1</td>\n",
              "      <td>NaN</td>\n",
              "      <td>120.0</td>\n",
              "      <td>4.0</td>\n",
              "      <td>2.0</td>\n",
              "      <td>3.0</td>\n",
              "    </tr>\n",
              "    <tr>\n",
              "      <th>296</th>\n",
              "      <td>2.0</td>\n",
              "      <td>1</td>\n",
              "      <td>37.2</td>\n",
              "      <td>72.0</td>\n",
              "      <td>3.0</td>\n",
              "      <td>4.0</td>\n",
              "      <td>3.0</td>\n",
              "    </tr>\n",
              "    <tr>\n",
              "      <th>297</th>\n",
              "      <td>1.0</td>\n",
              "      <td>1</td>\n",
              "      <td>37.5</td>\n",
              "      <td>72.0</td>\n",
              "      <td>4.0</td>\n",
              "      <td>4.0</td>\n",
              "      <td>2.0</td>\n",
              "    </tr>\n",
              "    <tr>\n",
              "      <th>298</th>\n",
              "      <td>1.0</td>\n",
              "      <td>1</td>\n",
              "      <td>36.5</td>\n",
              "      <td>100.0</td>\n",
              "      <td>3.0</td>\n",
              "      <td>3.0</td>\n",
              "      <td>1.0</td>\n",
              "    </tr>\n",
              "    <tr>\n",
              "      <th>299</th>\n",
              "      <td>1.0</td>\n",
              "      <td>1</td>\n",
              "      <td>37.2</td>\n",
              "      <td>40.0</td>\n",
              "      <td>NaN</td>\n",
              "      <td>NaN</td>\n",
              "      <td>3.0</td>\n",
              "    </tr>\n",
              "  </tbody>\n",
              "</table>\n",
              "<p>288 rows × 7 columns</p>\n",
              "</div>\n",
              "      <button class=\"colab-df-convert\" onclick=\"convertToInteractive('df-a91acc1f-5212-4e25-aaeb-314687d1ef0f')\"\n",
              "              title=\"Convert this dataframe to an interactive table.\"\n",
              "              style=\"display:none;\">\n",
              "        \n",
              "  <svg xmlns=\"http://www.w3.org/2000/svg\" height=\"24px\"viewBox=\"0 0 24 24\"\n",
              "       width=\"24px\">\n",
              "    <path d=\"M0 0h24v24H0V0z\" fill=\"none\"/>\n",
              "    <path d=\"M18.56 5.44l.94 2.06.94-2.06 2.06-.94-2.06-.94-.94-2.06-.94 2.06-2.06.94zm-11 1L8.5 8.5l.94-2.06 2.06-.94-2.06-.94L8.5 2.5l-.94 2.06-2.06.94zm10 10l.94 2.06.94-2.06 2.06-.94-2.06-.94-.94-2.06-.94 2.06-2.06.94z\"/><path d=\"M17.41 7.96l-1.37-1.37c-.4-.4-.92-.59-1.43-.59-.52 0-1.04.2-1.43.59L10.3 9.45l-7.72 7.72c-.78.78-.78 2.05 0 2.83L4 21.41c.39.39.9.59 1.41.59.51 0 1.02-.2 1.41-.59l7.78-7.78 2.81-2.81c.8-.78.8-2.07 0-2.86zM5.41 20L4 18.59l7.72-7.72 1.47 1.35L5.41 20z\"/>\n",
              "  </svg>\n",
              "      </button>\n",
              "      \n",
              "  <style>\n",
              "    .colab-df-container {\n",
              "      display:flex;\n",
              "      flex-wrap:wrap;\n",
              "      gap: 12px;\n",
              "    }\n",
              "\n",
              "    .colab-df-convert {\n",
              "      background-color: #E8F0FE;\n",
              "      border: none;\n",
              "      border-radius: 50%;\n",
              "      cursor: pointer;\n",
              "      display: none;\n",
              "      fill: #1967D2;\n",
              "      height: 32px;\n",
              "      padding: 0 0 0 0;\n",
              "      width: 32px;\n",
              "    }\n",
              "\n",
              "    .colab-df-convert:hover {\n",
              "      background-color: #E2EBFA;\n",
              "      box-shadow: 0px 1px 2px rgba(60, 64, 67, 0.3), 0px 1px 3px 1px rgba(60, 64, 67, 0.15);\n",
              "      fill: #174EA6;\n",
              "    }\n",
              "\n",
              "    [theme=dark] .colab-df-convert {\n",
              "      background-color: #3B4455;\n",
              "      fill: #D2E3FC;\n",
              "    }\n",
              "\n",
              "    [theme=dark] .colab-df-convert:hover {\n",
              "      background-color: #434B5C;\n",
              "      box-shadow: 0px 1px 3px 1px rgba(0, 0, 0, 0.15);\n",
              "      filter: drop-shadow(0px 1px 2px rgba(0, 0, 0, 0.3));\n",
              "      fill: #FFFFFF;\n",
              "    }\n",
              "  </style>\n",
              "\n",
              "      <script>\n",
              "        const buttonEl =\n",
              "          document.querySelector('#df-a91acc1f-5212-4e25-aaeb-314687d1ef0f button.colab-df-convert');\n",
              "        buttonEl.style.display =\n",
              "          google.colab.kernel.accessAllowed ? 'block' : 'none';\n",
              "\n",
              "        async function convertToInteractive(key) {\n",
              "          const element = document.querySelector('#df-a91acc1f-5212-4e25-aaeb-314687d1ef0f');\n",
              "          const dataTable =\n",
              "            await google.colab.kernel.invokeFunction('convertToInteractive',\n",
              "                                                     [key], {});\n",
              "          if (!dataTable) return;\n",
              "\n",
              "          const docLinkHtml = 'Like what you see? Visit the ' +\n",
              "            '<a target=\"_blank\" href=https://colab.research.google.com/notebooks/data_table.ipynb>data table notebook</a>'\n",
              "            + ' to learn more about interactive tables.';\n",
              "          element.innerHTML = '';\n",
              "          dataTable['output_type'] = 'display_data';\n",
              "          await google.colab.output.renderOutput(dataTable, element);\n",
              "          const docLink = document.createElement('div');\n",
              "          docLink.innerHTML = docLinkHtml;\n",
              "          element.appendChild(docLink);\n",
              "        }\n",
              "      </script>\n",
              "    </div>\n",
              "  </div>\n",
              "  "
            ]
          },
          "metadata": {},
          "execution_count": 34
        }
      ]
    },
    {
      "cell_type": "markdown",
      "source": [
        "Посмотрим, как изменились показатели пропусков"
      ],
      "metadata": {
        "id": "22v8DHcvZbLu"
      }
    },
    {
      "cell_type": "code",
      "source": [
        "df_horses_dropna.isna().sum()"
      ],
      "metadata": {
        "colab": {
          "base_uri": "https://localhost:8080/"
        },
        "id": "AryU8jtHZeRX",
        "outputId": "0ec48250-edd3-45b5-e755-dfbbefbab3a0"
      },
      "execution_count": null,
      "outputs": [
        {
          "output_type": "execute_result",
          "data": {
            "text/plain": [
              "surgery                        1\n",
              "age                            0\n",
              "rectal_temperature            48\n",
              "pulse                         15\n",
              "temperature_of_extremities    44\n",
              "pain                          44\n",
              "outcome                        1\n",
              "dtype: int64"
            ]
          },
          "metadata": {},
          "execution_count": 35
        }
      ]
    },
    {
      "cell_type": "markdown",
      "source": [
        "Поскольку атрибут age не содержит пропусков, мы можем на основе этого атрибута заполнить пропуски в атрибуте pulse (основываясь на том, что тем старше лошадь, тем ниже пульс). Выбираем медиану, потому что есть выбросы."
      ],
      "metadata": {
        "id": "Mua42klddvyq"
      }
    },
    {
      "cell_type": "code",
      "source": [
        "print(df_horses_dropna.groupby('age')['pulse'].median())\n",
        "fill_na = df_horses_dropna\n",
        "fill_na['pulse'] = fill_na['pulse'].fillna(fill_na.groupby('age')['pulse'].transform('median'))"
      ],
      "metadata": {
        "colab": {
          "base_uri": "https://localhost:8080/"
        },
        "id": "LhcYlK0Yf2R4",
        "outputId": "2bc8a4e8-7db4-4841-cdc1-d17080d09e97"
      },
      "execution_count": null,
      "outputs": [
        {
          "output_type": "stream",
          "name": "stdout",
          "text": [
            "age\n",
            "1     60.0\n",
            "2    124.0\n",
            "Name: pulse, dtype: float64\n"
          ]
        },
        {
          "output_type": "stream",
          "name": "stderr",
          "text": [
            "/usr/local/lib/python3.7/dist-packages/ipykernel_launcher.py:3: SettingWithCopyWarning: \n",
            "A value is trying to be set on a copy of a slice from a DataFrame.\n",
            "Try using .loc[row_indexer,col_indexer] = value instead\n",
            "\n",
            "See the caveats in the documentation: https://pandas.pydata.org/pandas-docs/stable/user_guide/indexing.html#returning-a-view-versus-a-copy\n",
            "  This is separate from the ipykernel package so we can avoid doing imports until\n"
          ]
        }
      ]
    },
    {
      "cell_type": "code",
      "source": [
        "fill_na.info()"
      ],
      "metadata": {
        "colab": {
          "base_uri": "https://localhost:8080/"
        },
        "id": "NteiXT-3gYLb",
        "outputId": "647dfc08-760e-483e-c0c8-5a0555754c50"
      },
      "execution_count": null,
      "outputs": [
        {
          "output_type": "stream",
          "name": "stdout",
          "text": [
            "<class 'pandas.core.frame.DataFrame'>\n",
            "Int64Index: 288 entries, 0 to 299\n",
            "Data columns (total 7 columns):\n",
            " #   Column                      Non-Null Count  Dtype  \n",
            "---  ------                      --------------  -----  \n",
            " 0   surgery                     287 non-null    float64\n",
            " 1   age                         288 non-null    int64  \n",
            " 2   rectal_temperature          240 non-null    float64\n",
            " 3   pulse                       288 non-null    float64\n",
            " 4   temperature_of_extremities  244 non-null    float64\n",
            " 5   pain                        244 non-null    float64\n",
            " 6   outcome                     287 non-null    float64\n",
            "dtypes: float64(6), int64(1)\n",
            "memory usage: 18.0 KB\n"
          ]
        }
      ]
    },
    {
      "cell_type": "code",
      "source": [
        "fill_na"
      ],
      "metadata": {
        "colab": {
          "base_uri": "https://localhost:8080/",
          "height": 419
        },
        "id": "ZkNpj1mZgYBO",
        "outputId": "40558f67-8ef6-4f6d-b8fc-ca963525fe5c"
      },
      "execution_count": null,
      "outputs": [
        {
          "output_type": "execute_result",
          "data": {
            "text/plain": [
              "     surgery  age  rectal_temperature  pulse  temperature_of_extremities  \\\n",
              "0        2.0    1                38.5   66.0                         3.0   \n",
              "1        1.0    1                39.2   88.0                         NaN   \n",
              "2        2.0    1                38.3   40.0                         1.0   \n",
              "3        1.0    2                39.1  164.0                         4.0   \n",
              "4        2.0    1                37.3  104.0                         NaN   \n",
              "..       ...  ...                 ...    ...                         ...   \n",
              "295      1.0    1                 NaN  120.0                         4.0   \n",
              "296      2.0    1                37.2   72.0                         3.0   \n",
              "297      1.0    1                37.5   72.0                         4.0   \n",
              "298      1.0    1                36.5  100.0                         3.0   \n",
              "299      1.0    1                37.2   40.0                         NaN   \n",
              "\n",
              "     pain  outcome  \n",
              "0     5.0      2.0  \n",
              "1     3.0      3.0  \n",
              "2     3.0      1.0  \n",
              "3     2.0      2.0  \n",
              "4     NaN      2.0  \n",
              "..    ...      ...  \n",
              "295   2.0      3.0  \n",
              "296   4.0      3.0  \n",
              "297   4.0      2.0  \n",
              "298   3.0      1.0  \n",
              "299   NaN      3.0  \n",
              "\n",
              "[288 rows x 7 columns]"
            ],
            "text/html": [
              "\n",
              "  <div id=\"df-a247be24-5c7c-4fe4-903f-45919238359f\">\n",
              "    <div class=\"colab-df-container\">\n",
              "      <div>\n",
              "<style scoped>\n",
              "    .dataframe tbody tr th:only-of-type {\n",
              "        vertical-align: middle;\n",
              "    }\n",
              "\n",
              "    .dataframe tbody tr th {\n",
              "        vertical-align: top;\n",
              "    }\n",
              "\n",
              "    .dataframe thead th {\n",
              "        text-align: right;\n",
              "    }\n",
              "</style>\n",
              "<table border=\"1\" class=\"dataframe\">\n",
              "  <thead>\n",
              "    <tr style=\"text-align: right;\">\n",
              "      <th></th>\n",
              "      <th>surgery</th>\n",
              "      <th>age</th>\n",
              "      <th>rectal_temperature</th>\n",
              "      <th>pulse</th>\n",
              "      <th>temperature_of_extremities</th>\n",
              "      <th>pain</th>\n",
              "      <th>outcome</th>\n",
              "    </tr>\n",
              "  </thead>\n",
              "  <tbody>\n",
              "    <tr>\n",
              "      <th>0</th>\n",
              "      <td>2.0</td>\n",
              "      <td>1</td>\n",
              "      <td>38.5</td>\n",
              "      <td>66.0</td>\n",
              "      <td>3.0</td>\n",
              "      <td>5.0</td>\n",
              "      <td>2.0</td>\n",
              "    </tr>\n",
              "    <tr>\n",
              "      <th>1</th>\n",
              "      <td>1.0</td>\n",
              "      <td>1</td>\n",
              "      <td>39.2</td>\n",
              "      <td>88.0</td>\n",
              "      <td>NaN</td>\n",
              "      <td>3.0</td>\n",
              "      <td>3.0</td>\n",
              "    </tr>\n",
              "    <tr>\n",
              "      <th>2</th>\n",
              "      <td>2.0</td>\n",
              "      <td>1</td>\n",
              "      <td>38.3</td>\n",
              "      <td>40.0</td>\n",
              "      <td>1.0</td>\n",
              "      <td>3.0</td>\n",
              "      <td>1.0</td>\n",
              "    </tr>\n",
              "    <tr>\n",
              "      <th>3</th>\n",
              "      <td>1.0</td>\n",
              "      <td>2</td>\n",
              "      <td>39.1</td>\n",
              "      <td>164.0</td>\n",
              "      <td>4.0</td>\n",
              "      <td>2.0</td>\n",
              "      <td>2.0</td>\n",
              "    </tr>\n",
              "    <tr>\n",
              "      <th>4</th>\n",
              "      <td>2.0</td>\n",
              "      <td>1</td>\n",
              "      <td>37.3</td>\n",
              "      <td>104.0</td>\n",
              "      <td>NaN</td>\n",
              "      <td>NaN</td>\n",
              "      <td>2.0</td>\n",
              "    </tr>\n",
              "    <tr>\n",
              "      <th>...</th>\n",
              "      <td>...</td>\n",
              "      <td>...</td>\n",
              "      <td>...</td>\n",
              "      <td>...</td>\n",
              "      <td>...</td>\n",
              "      <td>...</td>\n",
              "      <td>...</td>\n",
              "    </tr>\n",
              "    <tr>\n",
              "      <th>295</th>\n",
              "      <td>1.0</td>\n",
              "      <td>1</td>\n",
              "      <td>NaN</td>\n",
              "      <td>120.0</td>\n",
              "      <td>4.0</td>\n",
              "      <td>2.0</td>\n",
              "      <td>3.0</td>\n",
              "    </tr>\n",
              "    <tr>\n",
              "      <th>296</th>\n",
              "      <td>2.0</td>\n",
              "      <td>1</td>\n",
              "      <td>37.2</td>\n",
              "      <td>72.0</td>\n",
              "      <td>3.0</td>\n",
              "      <td>4.0</td>\n",
              "      <td>3.0</td>\n",
              "    </tr>\n",
              "    <tr>\n",
              "      <th>297</th>\n",
              "      <td>1.0</td>\n",
              "      <td>1</td>\n",
              "      <td>37.5</td>\n",
              "      <td>72.0</td>\n",
              "      <td>4.0</td>\n",
              "      <td>4.0</td>\n",
              "      <td>2.0</td>\n",
              "    </tr>\n",
              "    <tr>\n",
              "      <th>298</th>\n",
              "      <td>1.0</td>\n",
              "      <td>1</td>\n",
              "      <td>36.5</td>\n",
              "      <td>100.0</td>\n",
              "      <td>3.0</td>\n",
              "      <td>3.0</td>\n",
              "      <td>1.0</td>\n",
              "    </tr>\n",
              "    <tr>\n",
              "      <th>299</th>\n",
              "      <td>1.0</td>\n",
              "      <td>1</td>\n",
              "      <td>37.2</td>\n",
              "      <td>40.0</td>\n",
              "      <td>NaN</td>\n",
              "      <td>NaN</td>\n",
              "      <td>3.0</td>\n",
              "    </tr>\n",
              "  </tbody>\n",
              "</table>\n",
              "<p>288 rows × 7 columns</p>\n",
              "</div>\n",
              "      <button class=\"colab-df-convert\" onclick=\"convertToInteractive('df-a247be24-5c7c-4fe4-903f-45919238359f')\"\n",
              "              title=\"Convert this dataframe to an interactive table.\"\n",
              "              style=\"display:none;\">\n",
              "        \n",
              "  <svg xmlns=\"http://www.w3.org/2000/svg\" height=\"24px\"viewBox=\"0 0 24 24\"\n",
              "       width=\"24px\">\n",
              "    <path d=\"M0 0h24v24H0V0z\" fill=\"none\"/>\n",
              "    <path d=\"M18.56 5.44l.94 2.06.94-2.06 2.06-.94-2.06-.94-.94-2.06-.94 2.06-2.06.94zm-11 1L8.5 8.5l.94-2.06 2.06-.94-2.06-.94L8.5 2.5l-.94 2.06-2.06.94zm10 10l.94 2.06.94-2.06 2.06-.94-2.06-.94-.94-2.06-.94 2.06-2.06.94z\"/><path d=\"M17.41 7.96l-1.37-1.37c-.4-.4-.92-.59-1.43-.59-.52 0-1.04.2-1.43.59L10.3 9.45l-7.72 7.72c-.78.78-.78 2.05 0 2.83L4 21.41c.39.39.9.59 1.41.59.51 0 1.02-.2 1.41-.59l7.78-7.78 2.81-2.81c.8-.78.8-2.07 0-2.86zM5.41 20L4 18.59l7.72-7.72 1.47 1.35L5.41 20z\"/>\n",
              "  </svg>\n",
              "      </button>\n",
              "      \n",
              "  <style>\n",
              "    .colab-df-container {\n",
              "      display:flex;\n",
              "      flex-wrap:wrap;\n",
              "      gap: 12px;\n",
              "    }\n",
              "\n",
              "    .colab-df-convert {\n",
              "      background-color: #E8F0FE;\n",
              "      border: none;\n",
              "      border-radius: 50%;\n",
              "      cursor: pointer;\n",
              "      display: none;\n",
              "      fill: #1967D2;\n",
              "      height: 32px;\n",
              "      padding: 0 0 0 0;\n",
              "      width: 32px;\n",
              "    }\n",
              "\n",
              "    .colab-df-convert:hover {\n",
              "      background-color: #E2EBFA;\n",
              "      box-shadow: 0px 1px 2px rgba(60, 64, 67, 0.3), 0px 1px 3px 1px rgba(60, 64, 67, 0.15);\n",
              "      fill: #174EA6;\n",
              "    }\n",
              "\n",
              "    [theme=dark] .colab-df-convert {\n",
              "      background-color: #3B4455;\n",
              "      fill: #D2E3FC;\n",
              "    }\n",
              "\n",
              "    [theme=dark] .colab-df-convert:hover {\n",
              "      background-color: #434B5C;\n",
              "      box-shadow: 0px 1px 3px 1px rgba(0, 0, 0, 0.15);\n",
              "      filter: drop-shadow(0px 1px 2px rgba(0, 0, 0, 0.3));\n",
              "      fill: #FFFFFF;\n",
              "    }\n",
              "  </style>\n",
              "\n",
              "      <script>\n",
              "        const buttonEl =\n",
              "          document.querySelector('#df-a247be24-5c7c-4fe4-903f-45919238359f button.colab-df-convert');\n",
              "        buttonEl.style.display =\n",
              "          google.colab.kernel.accessAllowed ? 'block' : 'none';\n",
              "\n",
              "        async function convertToInteractive(key) {\n",
              "          const element = document.querySelector('#df-a247be24-5c7c-4fe4-903f-45919238359f');\n",
              "          const dataTable =\n",
              "            await google.colab.kernel.invokeFunction('convertToInteractive',\n",
              "                                                     [key], {});\n",
              "          if (!dataTable) return;\n",
              "\n",
              "          const docLinkHtml = 'Like what you see? Visit the ' +\n",
              "            '<a target=\"_blank\" href=https://colab.research.google.com/notebooks/data_table.ipynb>data table notebook</a>'\n",
              "            + ' to learn more about interactive tables.';\n",
              "          element.innerHTML = '';\n",
              "          dataTable['output_type'] = 'display_data';\n",
              "          await google.colab.output.renderOutput(dataTable, element);\n",
              "          const docLink = document.createElement('div');\n",
              "          docLink.innerHTML = docLinkHtml;\n",
              "          element.appendChild(docLink);\n",
              "        }\n",
              "      </script>\n",
              "    </div>\n",
              "  </div>\n",
              "  "
            ]
          },
          "metadata": {},
          "execution_count": 38
        }
      ]
    },
    {
      "cell_type": "markdown",
      "source": [
        "Согласно описанию датасета, показатели temperature_of_extremities выше, если повышены показатели rectal_temperature. Вопрос в том, что является повышенными показателями rectal_temperature. Предположим, что это те данные, которые находятся выше 3 квартили."
      ],
      "metadata": {
        "id": "Ge7kMtQDg978"
      }
    },
    {
      "cell_type": "code",
      "source": [
        "q3 = fill_na['rectal_temperature'].quantile(0.75)\n",
        "q3"
      ],
      "metadata": {
        "colab": {
          "base_uri": "https://localhost:8080/"
        },
        "id": "lg7bbHIbngvW",
        "outputId": "d2c91959-25a7-4cbb-c242-152866e9a461"
      },
      "execution_count": null,
      "outputs": [
        {
          "output_type": "execute_result",
          "data": {
            "text/plain": [
              "38.5"
            ]
          },
          "metadata": {},
          "execution_count": 39
        }
      ]
    },
    {
      "cell_type": "markdown",
      "source": [
        "Везде, где temperature_of_extremities высокая (2), проставим высокие значения rectal_temperature."
      ],
      "metadata": {
        "id": "hvUAriOmsU-p"
      }
    },
    {
      "cell_type": "markdown",
      "source": [
        "Найдем медиану по высоким показателям rectal_temperature:"
      ],
      "metadata": {
        "id": "E90OnZmKtHjq"
      }
    },
    {
      "cell_type": "code",
      "source": [
        "fill_na['rectal_temperature'][fill_na['rectal_temperature'] > 38.5].median()"
      ],
      "metadata": {
        "colab": {
          "base_uri": "https://localhost:8080/"
        },
        "id": "3A2r4ndPtFXb",
        "outputId": "9f920bd1-4872-4cd9-f30a-59c7c3b2914f"
      },
      "execution_count": null,
      "outputs": [
        {
          "output_type": "execute_result",
          "data": {
            "text/plain": [
              "38.95"
            ]
          },
          "metadata": {},
          "execution_count": 40
        }
      ]
    },
    {
      "cell_type": "markdown",
      "source": [
        "Проставим это значение везде, где temperature_of_extremities = 2"
      ],
      "metadata": {
        "id": "b7jF0YcDtg67"
      }
    },
    {
      "cell_type": "code",
      "source": [
        "fill_na['rectal_temperature'][fill_na['temperature_of_extremities'] == 2] = fill_na['rectal_temperature'].fillna(38.5)\n",
        "fill_na.isna().sum()"
      ],
      "metadata": {
        "colab": {
          "base_uri": "https://localhost:8080/"
        },
        "id": "t3brzUT9vCJa",
        "outputId": "027e43f5-12a0-4b9d-96bd-7c924ca90a27"
      },
      "execution_count": null,
      "outputs": [
        {
          "output_type": "stream",
          "name": "stderr",
          "text": [
            "/usr/local/lib/python3.7/dist-packages/ipykernel_launcher.py:1: SettingWithCopyWarning: \n",
            "A value is trying to be set on a copy of a slice from a DataFrame\n",
            "\n",
            "See the caveats in the documentation: https://pandas.pydata.org/pandas-docs/stable/user_guide/indexing.html#returning-a-view-versus-a-copy\n",
            "  \"\"\"Entry point for launching an IPython kernel.\n",
            "/usr/local/lib/python3.7/dist-packages/pandas/core/generic.py:8870: SettingWithCopyWarning: \n",
            "A value is trying to be set on a copy of a slice from a DataFrame\n",
            "\n",
            "See the caveats in the documentation: https://pandas.pydata.org/pandas-docs/stable/user_guide/indexing.html#returning-a-view-versus-a-copy\n",
            "  return self._update_inplace(result)\n"
          ]
        },
        {
          "output_type": "execute_result",
          "data": {
            "text/plain": [
              "surgery                        1\n",
              "age                            0\n",
              "rectal_temperature            44\n",
              "pulse                          0\n",
              "temperature_of_extremities    44\n",
              "pain                          44\n",
              "outcome                        1\n",
              "dtype: int64"
            ]
          },
          "metadata": {},
          "execution_count": 41
        }
      ]
    },
    {
      "cell_type": "markdown",
      "source": [
        "И наоборот, везде, где rectal_temperature высокая, проставим temperature_of_extremities = 2:"
      ],
      "metadata": {
        "id": "2JX-ketEvaIf"
      }
    },
    {
      "cell_type": "code",
      "source": [
        "fill_na['temperature_of_extremities'][fill_na['rectal_temperature'] > 38.5] = fill_na['temperature_of_extremities'].fillna(2)\n",
        "fill_na.isna().sum()"
      ],
      "metadata": {
        "colab": {
          "base_uri": "https://localhost:8080/"
        },
        "id": "Ppaq0ioBonae",
        "outputId": "52bb66ba-5f6c-4ebb-ed5b-6079eab2ed23"
      },
      "execution_count": null,
      "outputs": [
        {
          "output_type": "stream",
          "name": "stderr",
          "text": [
            "/usr/local/lib/python3.7/dist-packages/ipykernel_launcher.py:1: SettingWithCopyWarning: \n",
            "A value is trying to be set on a copy of a slice from a DataFrame\n",
            "\n",
            "See the caveats in the documentation: https://pandas.pydata.org/pandas-docs/stable/user_guide/indexing.html#returning-a-view-versus-a-copy\n",
            "  \"\"\"Entry point for launching an IPython kernel.\n"
          ]
        },
        {
          "output_type": "execute_result",
          "data": {
            "text/plain": [
              "surgery                        1\n",
              "age                            0\n",
              "rectal_temperature            44\n",
              "pulse                          0\n",
              "temperature_of_extremities    35\n",
              "pain                          44\n",
              "outcome                        1\n",
              "dtype: int64"
            ]
          },
          "metadata": {},
          "execution_count": 42
        }
      ]
    },
    {
      "cell_type": "markdown",
      "source": [
        "Атрибут pain является качественным номинальным показателем боли (довольно интересно, как её можно оценить у животного). Можно поробовать выделить отдельную категорию с пропусками: 0 - боль не определена."
      ],
      "metadata": {
        "id": "CKeLCb0cwe5s"
      }
    },
    {
      "cell_type": "markdown",
      "source": [
        "Заменим все пропуски в атрибуте pain на 0:"
      ],
      "metadata": {
        "id": "GhMYebjAxYPg"
      }
    },
    {
      "cell_type": "code",
      "source": [
        "fill_na['pain'] = fill_na['pain'].fillna(0)\n",
        "fill_na.isna().sum()"
      ],
      "metadata": {
        "colab": {
          "base_uri": "https://localhost:8080/"
        },
        "id": "e7Vl3Ru0xevQ",
        "outputId": "74090e0c-088e-4c8f-9f59-c3dbbccb656b"
      },
      "execution_count": null,
      "outputs": [
        {
          "output_type": "stream",
          "name": "stderr",
          "text": [
            "/usr/local/lib/python3.7/dist-packages/ipykernel_launcher.py:1: SettingWithCopyWarning: \n",
            "A value is trying to be set on a copy of a slice from a DataFrame.\n",
            "Try using .loc[row_indexer,col_indexer] = value instead\n",
            "\n",
            "See the caveats in the documentation: https://pandas.pydata.org/pandas-docs/stable/user_guide/indexing.html#returning-a-view-versus-a-copy\n",
            "  \"\"\"Entry point for launching an IPython kernel.\n"
          ]
        },
        {
          "output_type": "execute_result",
          "data": {
            "text/plain": [
              "surgery                        1\n",
              "age                            0\n",
              "rectal_temperature            44\n",
              "pulse                          0\n",
              "temperature_of_extremities    35\n",
              "pain                           0\n",
              "outcome                        1\n",
              "dtype: int64"
            ]
          },
          "metadata": {},
          "execution_count": 43
        }
      ]
    },
    {
      "cell_type": "markdown",
      "source": [
        "Остальные строки с пропущенными значениями просто удалим, поскольку мне сложно придумать еще основания для заполнения их какими-либо значениями. Возможно, можо было бы посмотреть на статистически значимые взяимосвязи между атрибутами, и на основе этого заполнить недостающие значения."
      ],
      "metadata": {
        "id": "JQYCV7Ev0VmL"
      }
    },
    {
      "cell_type": "code",
      "source": [
        "final_df_horses = fill_na.dropna()\n",
        "final_df_horses.isna().sum()"
      ],
      "metadata": {
        "colab": {
          "base_uri": "https://localhost:8080/"
        },
        "id": "IsNuipFE1rHi",
        "outputId": "cb4901e0-60b0-43e7-e771-7bb6f88e089f"
      },
      "execution_count": null,
      "outputs": [
        {
          "output_type": "execute_result",
          "data": {
            "text/plain": [
              "surgery                       0\n",
              "age                           0\n",
              "rectal_temperature            0\n",
              "pulse                         0\n",
              "temperature_of_extremities    0\n",
              "pain                          0\n",
              "outcome                       0\n",
              "dtype: int64"
            ]
          },
          "metadata": {},
          "execution_count": 44
        }
      ]
    },
    {
      "cell_type": "code",
      "source": [
        "final_df_horses"
      ],
      "metadata": {
        "colab": {
          "base_uri": "https://localhost:8080/",
          "height": 419
        },
        "id": "JscPbeeX2jbq",
        "outputId": "f0acef7e-9eef-4fa0-c4f8-c68958ad5186"
      },
      "execution_count": null,
      "outputs": [
        {
          "output_type": "execute_result",
          "data": {
            "text/plain": [
              "     surgery  age  rectal_temperature  pulse  temperature_of_extremities  \\\n",
              "0        2.0    1                38.5   66.0                         3.0   \n",
              "1        1.0    1                39.2   88.0                         2.0   \n",
              "2        2.0    1                38.3   40.0                         1.0   \n",
              "3        1.0    2                39.1  164.0                         4.0   \n",
              "5        2.0    1                38.5   60.0                         2.0   \n",
              "..       ...  ...                 ...    ...                         ...   \n",
              "292      1.0    1                37.0   66.0                         1.0   \n",
              "294      2.0    1                38.5   40.0                         1.0   \n",
              "296      2.0    1                37.2   72.0                         3.0   \n",
              "297      1.0    1                37.5   72.0                         4.0   \n",
              "298      1.0    1                36.5  100.0                         3.0   \n",
              "\n",
              "     pain  outcome  \n",
              "0     5.0      2.0  \n",
              "1     3.0      3.0  \n",
              "2     3.0      1.0  \n",
              "3     2.0      2.0  \n",
              "5     2.0      1.0  \n",
              "..    ...      ...  \n",
              "292   4.0      2.0  \n",
              "294   2.0      1.0  \n",
              "296   4.0      3.0  \n",
              "297   4.0      2.0  \n",
              "298   3.0      1.0  \n",
              "\n",
              "[210 rows x 7 columns]"
            ],
            "text/html": [
              "\n",
              "  <div id=\"df-02a45a8a-add9-426c-af3c-d2dd5dedaeff\">\n",
              "    <div class=\"colab-df-container\">\n",
              "      <div>\n",
              "<style scoped>\n",
              "    .dataframe tbody tr th:only-of-type {\n",
              "        vertical-align: middle;\n",
              "    }\n",
              "\n",
              "    .dataframe tbody tr th {\n",
              "        vertical-align: top;\n",
              "    }\n",
              "\n",
              "    .dataframe thead th {\n",
              "        text-align: right;\n",
              "    }\n",
              "</style>\n",
              "<table border=\"1\" class=\"dataframe\">\n",
              "  <thead>\n",
              "    <tr style=\"text-align: right;\">\n",
              "      <th></th>\n",
              "      <th>surgery</th>\n",
              "      <th>age</th>\n",
              "      <th>rectal_temperature</th>\n",
              "      <th>pulse</th>\n",
              "      <th>temperature_of_extremities</th>\n",
              "      <th>pain</th>\n",
              "      <th>outcome</th>\n",
              "    </tr>\n",
              "  </thead>\n",
              "  <tbody>\n",
              "    <tr>\n",
              "      <th>0</th>\n",
              "      <td>2.0</td>\n",
              "      <td>1</td>\n",
              "      <td>38.5</td>\n",
              "      <td>66.0</td>\n",
              "      <td>3.0</td>\n",
              "      <td>5.0</td>\n",
              "      <td>2.0</td>\n",
              "    </tr>\n",
              "    <tr>\n",
              "      <th>1</th>\n",
              "      <td>1.0</td>\n",
              "      <td>1</td>\n",
              "      <td>39.2</td>\n",
              "      <td>88.0</td>\n",
              "      <td>2.0</td>\n",
              "      <td>3.0</td>\n",
              "      <td>3.0</td>\n",
              "    </tr>\n",
              "    <tr>\n",
              "      <th>2</th>\n",
              "      <td>2.0</td>\n",
              "      <td>1</td>\n",
              "      <td>38.3</td>\n",
              "      <td>40.0</td>\n",
              "      <td>1.0</td>\n",
              "      <td>3.0</td>\n",
              "      <td>1.0</td>\n",
              "    </tr>\n",
              "    <tr>\n",
              "      <th>3</th>\n",
              "      <td>1.0</td>\n",
              "      <td>2</td>\n",
              "      <td>39.1</td>\n",
              "      <td>164.0</td>\n",
              "      <td>4.0</td>\n",
              "      <td>2.0</td>\n",
              "      <td>2.0</td>\n",
              "    </tr>\n",
              "    <tr>\n",
              "      <th>5</th>\n",
              "      <td>2.0</td>\n",
              "      <td>1</td>\n",
              "      <td>38.5</td>\n",
              "      <td>60.0</td>\n",
              "      <td>2.0</td>\n",
              "      <td>2.0</td>\n",
              "      <td>1.0</td>\n",
              "    </tr>\n",
              "    <tr>\n",
              "      <th>...</th>\n",
              "      <td>...</td>\n",
              "      <td>...</td>\n",
              "      <td>...</td>\n",
              "      <td>...</td>\n",
              "      <td>...</td>\n",
              "      <td>...</td>\n",
              "      <td>...</td>\n",
              "    </tr>\n",
              "    <tr>\n",
              "      <th>292</th>\n",
              "      <td>1.0</td>\n",
              "      <td>1</td>\n",
              "      <td>37.0</td>\n",
              "      <td>66.0</td>\n",
              "      <td>1.0</td>\n",
              "      <td>4.0</td>\n",
              "      <td>2.0</td>\n",
              "    </tr>\n",
              "    <tr>\n",
              "      <th>294</th>\n",
              "      <td>2.0</td>\n",
              "      <td>1</td>\n",
              "      <td>38.5</td>\n",
              "      <td>40.0</td>\n",
              "      <td>1.0</td>\n",
              "      <td>2.0</td>\n",
              "      <td>1.0</td>\n",
              "    </tr>\n",
              "    <tr>\n",
              "      <th>296</th>\n",
              "      <td>2.0</td>\n",
              "      <td>1</td>\n",
              "      <td>37.2</td>\n",
              "      <td>72.0</td>\n",
              "      <td>3.0</td>\n",
              "      <td>4.0</td>\n",
              "      <td>3.0</td>\n",
              "    </tr>\n",
              "    <tr>\n",
              "      <th>297</th>\n",
              "      <td>1.0</td>\n",
              "      <td>1</td>\n",
              "      <td>37.5</td>\n",
              "      <td>72.0</td>\n",
              "      <td>4.0</td>\n",
              "      <td>4.0</td>\n",
              "      <td>2.0</td>\n",
              "    </tr>\n",
              "    <tr>\n",
              "      <th>298</th>\n",
              "      <td>1.0</td>\n",
              "      <td>1</td>\n",
              "      <td>36.5</td>\n",
              "      <td>100.0</td>\n",
              "      <td>3.0</td>\n",
              "      <td>3.0</td>\n",
              "      <td>1.0</td>\n",
              "    </tr>\n",
              "  </tbody>\n",
              "</table>\n",
              "<p>210 rows × 7 columns</p>\n",
              "</div>\n",
              "      <button class=\"colab-df-convert\" onclick=\"convertToInteractive('df-02a45a8a-add9-426c-af3c-d2dd5dedaeff')\"\n",
              "              title=\"Convert this dataframe to an interactive table.\"\n",
              "              style=\"display:none;\">\n",
              "        \n",
              "  <svg xmlns=\"http://www.w3.org/2000/svg\" height=\"24px\"viewBox=\"0 0 24 24\"\n",
              "       width=\"24px\">\n",
              "    <path d=\"M0 0h24v24H0V0z\" fill=\"none\"/>\n",
              "    <path d=\"M18.56 5.44l.94 2.06.94-2.06 2.06-.94-2.06-.94-.94-2.06-.94 2.06-2.06.94zm-11 1L8.5 8.5l.94-2.06 2.06-.94-2.06-.94L8.5 2.5l-.94 2.06-2.06.94zm10 10l.94 2.06.94-2.06 2.06-.94-2.06-.94-.94-2.06-.94 2.06-2.06.94z\"/><path d=\"M17.41 7.96l-1.37-1.37c-.4-.4-.92-.59-1.43-.59-.52 0-1.04.2-1.43.59L10.3 9.45l-7.72 7.72c-.78.78-.78 2.05 0 2.83L4 21.41c.39.39.9.59 1.41.59.51 0 1.02-.2 1.41-.59l7.78-7.78 2.81-2.81c.8-.78.8-2.07 0-2.86zM5.41 20L4 18.59l7.72-7.72 1.47 1.35L5.41 20z\"/>\n",
              "  </svg>\n",
              "      </button>\n",
              "      \n",
              "  <style>\n",
              "    .colab-df-container {\n",
              "      display:flex;\n",
              "      flex-wrap:wrap;\n",
              "      gap: 12px;\n",
              "    }\n",
              "\n",
              "    .colab-df-convert {\n",
              "      background-color: #E8F0FE;\n",
              "      border: none;\n",
              "      border-radius: 50%;\n",
              "      cursor: pointer;\n",
              "      display: none;\n",
              "      fill: #1967D2;\n",
              "      height: 32px;\n",
              "      padding: 0 0 0 0;\n",
              "      width: 32px;\n",
              "    }\n",
              "\n",
              "    .colab-df-convert:hover {\n",
              "      background-color: #E2EBFA;\n",
              "      box-shadow: 0px 1px 2px rgba(60, 64, 67, 0.3), 0px 1px 3px 1px rgba(60, 64, 67, 0.15);\n",
              "      fill: #174EA6;\n",
              "    }\n",
              "\n",
              "    [theme=dark] .colab-df-convert {\n",
              "      background-color: #3B4455;\n",
              "      fill: #D2E3FC;\n",
              "    }\n",
              "\n",
              "    [theme=dark] .colab-df-convert:hover {\n",
              "      background-color: #434B5C;\n",
              "      box-shadow: 0px 1px 3px 1px rgba(0, 0, 0, 0.15);\n",
              "      filter: drop-shadow(0px 1px 2px rgba(0, 0, 0, 0.3));\n",
              "      fill: #FFFFFF;\n",
              "    }\n",
              "  </style>\n",
              "\n",
              "      <script>\n",
              "        const buttonEl =\n",
              "          document.querySelector('#df-02a45a8a-add9-426c-af3c-d2dd5dedaeff button.colab-df-convert');\n",
              "        buttonEl.style.display =\n",
              "          google.colab.kernel.accessAllowed ? 'block' : 'none';\n",
              "\n",
              "        async function convertToInteractive(key) {\n",
              "          const element = document.querySelector('#df-02a45a8a-add9-426c-af3c-d2dd5dedaeff');\n",
              "          const dataTable =\n",
              "            await google.colab.kernel.invokeFunction('convertToInteractive',\n",
              "                                                     [key], {});\n",
              "          if (!dataTable) return;\n",
              "\n",
              "          const docLinkHtml = 'Like what you see? Visit the ' +\n",
              "            '<a target=\"_blank\" href=https://colab.research.google.com/notebooks/data_table.ipynb>data table notebook</a>'\n",
              "            + ' to learn more about interactive tables.';\n",
              "          element.innerHTML = '';\n",
              "          dataTable['output_type'] = 'display_data';\n",
              "          await google.colab.output.renderOutput(dataTable, element);\n",
              "          const docLink = document.createElement('div');\n",
              "          docLink.innerHTML = docLinkHtml;\n",
              "          element.appendChild(docLink);\n",
              "        }\n",
              "      </script>\n",
              "    </div>\n",
              "  </div>\n",
              "  "
            ]
          },
          "metadata": {},
          "execution_count": 45
        }
      ]
    },
    {
      "cell_type": "markdown",
      "source": [
        "Мы потеряли почти 40% данных."
      ],
      "metadata": {
        "id": "VI5N37DX_KbU"
      }
    },
    {
      "cell_type": "markdown",
      "source": [
        "Сравним, как поменялись базовые метрики:"
      ],
      "metadata": {
        "id": "h7lnFMEQ184L"
      }
    },
    {
      "cell_type": "code",
      "source": [
        "print('rectal_temperature до замены и удаления пропусков:')\n",
        "statistics_base(df_horses['rectal_temperature'])"
      ],
      "metadata": {
        "colab": {
          "base_uri": "https://localhost:8080/"
        },
        "id": "2ikLXUci2o2s",
        "outputId": "f963afa3-a3d2-4763-ba04-9e4700fca107"
      },
      "execution_count": null,
      "outputs": [
        {
          "output_type": "stream",
          "name": "stdout",
          "text": [
            "rectal_temperature до замены и удаления пропусков:\n",
            "среднее: 38.16791666666667\n",
            "медиана: 38.2\n",
            "мода: 38.0\n",
            "стандартное отклонение: 0.7322886641121578\n",
            "дисперсия: 0.5362466875871686\n"
          ]
        }
      ]
    },
    {
      "cell_type": "code",
      "source": [
        "print('rectal_temperature после замены и удаления пропусков:')\n",
        "statistics_base(final_df_horses['rectal_temperature'])"
      ],
      "metadata": {
        "colab": {
          "base_uri": "https://localhost:8080/"
        },
        "id": "eWE3Jv8P3H94",
        "outputId": "b69ea9ab-9ce6-42a2-d630-d293bae92813"
      },
      "execution_count": null,
      "outputs": [
        {
          "output_type": "stream",
          "name": "stdout",
          "text": [
            "rectal_temperature после замены и удаления пропусков:\n",
            "среднее: 38.23476190476191\n",
            "медиана: 38.2\n",
            "мода: 38.0\n",
            "стандартное отклонение: 0.7345741796007175\n",
            "дисперсия: 0.5395992253360672\n"
          ]
        }
      ]
    },
    {
      "cell_type": "markdown",
      "source": [
        "Почти ничего не поменялось."
      ],
      "metadata": {
        "id": "liRIPnT53Sfx"
      }
    },
    {
      "cell_type": "code",
      "source": [
        "print('pulse до замены и удаления пропусков:')\n",
        "statistics_base(df_horses['pulse'])"
      ],
      "metadata": {
        "colab": {
          "base_uri": "https://localhost:8080/"
        },
        "id": "jCzJFMll3aUr",
        "outputId": "1792deee-467c-401e-a21b-bc70adb2d652"
      },
      "execution_count": null,
      "outputs": [
        {
          "output_type": "stream",
          "name": "stdout",
          "text": [
            "pulse до замены и удаления пропусков:\n",
            "среднее: 71.91304347826087\n",
            "медиана: 64.0\n",
            "мода: 48.0\n",
            "стандартное отклонение: 28.630556660735\n",
            "дисперсия: 819.7087747035573\n"
          ]
        }
      ]
    },
    {
      "cell_type": "code",
      "source": [
        "print('pulse после замены и удаления пропусков:')\n",
        "statistics_base(final_df_horses['pulse'])"
      ],
      "metadata": {
        "colab": {
          "base_uri": "https://localhost:8080/"
        },
        "id": "3HmRtQ0w3h6d",
        "outputId": "e435c44c-2b95-466d-a84e-fc1df3d0115f"
      },
      "execution_count": null,
      "outputs": [
        {
          "output_type": "stream",
          "name": "stdout",
          "text": [
            "pulse после замены и удаления пропусков:\n",
            "среднее: 70.94761904761904\n",
            "медиана: 60.0\n",
            "мода: 60.0\n",
            "стандартное отклонение: 28.582661439652504\n",
            "дисперсия: 816.9685349737981\n"
          ]
        }
      ]
    },
    {
      "cell_type": "markdown",
      "source": [
        "Сильно изменились показатели моды, медианы и дисперсии. Если мы будем строить модель логистической регрессии, то изменение показателя дисперсии будет искажать картину."
      ],
      "metadata": {
        "id": "peCQVxte3qSB"
      }
    },
    {
      "cell_type": "code",
      "source": [
        "df_horses['surgery'].value_counts()"
      ],
      "metadata": {
        "colab": {
          "base_uri": "https://localhost:8080/"
        },
        "id": "kHs4izfa40C8",
        "outputId": "9a8122a5-a7f9-4fec-cf43-4fd111dad4ac"
      },
      "execution_count": null,
      "outputs": [
        {
          "output_type": "execute_result",
          "data": {
            "text/plain": [
              "1.0    171\n",
              "2.0    116\n",
              "Name: surgery, dtype: int64"
            ]
          },
          "metadata": {},
          "execution_count": 121
        }
      ]
    },
    {
      "cell_type": "code",
      "source": [
        "final_df_horses['surgery'].value_counts()"
      ],
      "metadata": {
        "colab": {
          "base_uri": "https://localhost:8080/"
        },
        "id": "x-EuMhU645ZH",
        "outputId": "0faeef78-89fc-4184-c3af-13c207f0f5d7"
      },
      "execution_count": null,
      "outputs": [
        {
          "output_type": "execute_result",
          "data": {
            "text/plain": [
              "1.0    102\n",
              "2.0     83\n",
              "Name: surgery, dtype: int64"
            ]
          },
          "metadata": {},
          "execution_count": 122
        }
      ]
    },
    {
      "cell_type": "markdown",
      "source": [
        "Пропорция приблизительно та же."
      ],
      "metadata": {
        "id": "QPDme50M-5Qw"
      }
    },
    {
      "cell_type": "code",
      "source": [
        "df_horses['age'].value_counts()"
      ],
      "metadata": {
        "colab": {
          "base_uri": "https://localhost:8080/"
        },
        "id": "ah-646Ny5MQt",
        "outputId": "dd30d93e-15a2-4820-d1f9-0d19b0d68a20"
      },
      "execution_count": null,
      "outputs": [
        {
          "output_type": "execute_result",
          "data": {
            "text/plain": [
              "1    266\n",
              "2     22\n",
              "Name: age, dtype: int64"
            ]
          },
          "metadata": {},
          "execution_count": 123
        }
      ]
    },
    {
      "cell_type": "code",
      "source": [
        "final_df_horses['age'].value_counts()"
      ],
      "metadata": {
        "colab": {
          "base_uri": "https://localhost:8080/"
        },
        "id": "f2DZPk9b5ojE",
        "outputId": "23997319-6b34-4285-fc41-0d2440418a99"
      },
      "execution_count": null,
      "outputs": [
        {
          "output_type": "execute_result",
          "data": {
            "text/plain": [
              "1    170\n",
              "2     15\n",
              "Name: age, dtype: int64"
            ]
          },
          "metadata": {},
          "execution_count": 124
        }
      ]
    },
    {
      "cell_type": "markdown",
      "source": [
        "Пропоция приблизительно та же."
      ],
      "metadata": {
        "id": "J0gkI_Px-HPG"
      }
    },
    {
      "cell_type": "code",
      "source": [
        "df_horses['temperature_of_extremities'].value_counts()"
      ],
      "metadata": {
        "colab": {
          "base_uri": "https://localhost:8080/"
        },
        "id": "YH21lkaF6CfS",
        "outputId": "2b35bd65-b80a-4d01-e9cf-7e34efc75e0d"
      },
      "execution_count": null,
      "outputs": [
        {
          "output_type": "execute_result",
          "data": {
            "text/plain": [
              "3.0    109\n",
              "1.0     78\n",
              "2.0     30\n",
              "4.0     27\n",
              "Name: temperature_of_extremities, dtype: int64"
            ]
          },
          "metadata": {},
          "execution_count": 127
        }
      ]
    },
    {
      "cell_type": "code",
      "source": [
        "final_df_horses['temperature_of_extremities'].value_counts()"
      ],
      "metadata": {
        "colab": {
          "base_uri": "https://localhost:8080/"
        },
        "id": "F7cg6t246L_9",
        "outputId": "7858cfa8-c59f-4698-dcd2-816e9afd4758"
      },
      "execution_count": null,
      "outputs": [
        {
          "output_type": "execute_result",
          "data": {
            "text/plain": [
              "3.0    73\n",
              "1.0    68\n",
              "2.0    28\n",
              "4.0    16\n",
              "Name: temperature_of_extremities, dtype: int64"
            ]
          },
          "metadata": {},
          "execution_count": 128
        }
      ]
    },
    {
      "cell_type": "markdown",
      "source": [
        "Порядок значений остался тот же. Пропорция немного изменилась."
      ],
      "metadata": {
        "id": "gsJWP6e2ACpc"
      }
    },
    {
      "cell_type": "code",
      "source": [
        "df_horses['pain'].value_counts()"
      ],
      "metadata": {
        "colab": {
          "base_uri": "https://localhost:8080/"
        },
        "id": "aOxORghS6Rzv",
        "outputId": "2e1439e5-4659-4939-a3a9-9e9723e5fd33"
      },
      "execution_count": null,
      "outputs": [
        {
          "output_type": "execute_result",
          "data": {
            "text/plain": [
              "3.0    67\n",
              "2.0    59\n",
              "5.0    42\n",
              "4.0    38\n",
              "1.0    38\n",
              "Name: pain, dtype: int64"
            ]
          },
          "metadata": {},
          "execution_count": 129
        }
      ]
    },
    {
      "cell_type": "code",
      "source": [
        "final_df_horses['pain'].value_counts()"
      ],
      "metadata": {
        "colab": {
          "base_uri": "https://localhost:8080/"
        },
        "id": "p0fBwnJa6XRP",
        "outputId": "75a75722-dfb9-4662-9af7-7a56276caebf"
      },
      "execution_count": null,
      "outputs": [
        {
          "output_type": "execute_result",
          "data": {
            "text/plain": [
              "3.0    57\n",
              "2.0    45\n",
              "1.0    35\n",
              "4.0    26\n",
              "5.0    22\n",
              "Name: pain, dtype: int64"
            ]
          },
          "metadata": {},
          "execution_count": 130
        }
      ]
    },
    {
      "cell_type": "markdown",
      "source": [
        "Распределение показателей изменилось. Так, например, отсутствие боли (1) переместилось на третье место. Любопытно, что категория, которая была создана с целью заполнить пропуски '0 - боль не определена', исчезла после того, как мы удалили все пропуски."
      ],
      "metadata": {
        "id": "PmFYFo_r69BK"
      }
    },
    {
      "cell_type": "code",
      "source": [
        "df_horses['outcome'].value_counts()"
      ],
      "metadata": {
        "colab": {
          "base_uri": "https://localhost:8080/"
        },
        "id": "sU9w8oLo7Sum",
        "outputId": "e895a38e-b164-4765-ef1f-bc8002f40b88"
      },
      "execution_count": null,
      "outputs": [
        {
          "output_type": "execute_result",
          "data": {
            "text/plain": [
              "1.0    171\n",
              "2.0     74\n",
              "3.0     42\n",
              "Name: outcome, dtype: int64"
            ]
          },
          "metadata": {},
          "execution_count": 131
        }
      ]
    },
    {
      "cell_type": "code",
      "source": [
        "final_df_horses['outcome'].value_counts()"
      ],
      "metadata": {
        "colab": {
          "base_uri": "https://localhost:8080/"
        },
        "id": "3hLLZSJ87Y1o",
        "outputId": "9ff6ed02-8a8a-44dc-e589-de19bc2a6b0e"
      },
      "execution_count": null,
      "outputs": [
        {
          "output_type": "execute_result",
          "data": {
            "text/plain": [
              "1.0    117\n",
              "2.0     44\n",
              "3.0     24\n",
              "Name: outcome, dtype: int64"
            ]
          },
          "metadata": {},
          "execution_count": 132
        }
      ]
    },
    {
      "cell_type": "markdown",
      "source": [
        "Распределение данных атрибута не сильно поменялось."
      ],
      "metadata": {
        "id": "xytkaY3R8gfe"
      }
    }
  ]
}