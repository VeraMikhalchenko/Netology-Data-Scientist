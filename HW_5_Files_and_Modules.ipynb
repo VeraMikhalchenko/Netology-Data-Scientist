{
  "nbformat": 4,
  "nbformat_minor": 0,
  "metadata": {
    "colab": {
      "provenance": [],
      "authorship_tag": "ABX9TyNwcl0t7ui74pxk8ZuEggKK",
      "include_colab_link": true
    },
    "kernelspec": {
      "name": "python3",
      "display_name": "Python 3"
    },
    "language_info": {
      "name": "python"
    }
  },
  "cells": [
    {
      "cell_type": "markdown",
      "metadata": {
        "id": "view-in-github",
        "colab_type": "text"
      },
      "source": [
        "<a href=\"https://colab.research.google.com/github/VeraMikhalchenko/Study/blob/main/HW_5_Files_and_Modules.ipynb\" target=\"_parent\"><img src=\"https://colab.research.google.com/assets/colab-badge.svg\" alt=\"Open In Colab\"/></a>"
      ]
    },
    {
      "cell_type": "markdown",
      "source": [
        "**Домашнее задание к лекции \"Работа с файловой системой и модули\"**"
      ],
      "metadata": {
        "id": "39EB3RoAjuAt"
      }
    },
    {
      "cell_type": "markdown",
      "source": [
        "Учтите условия на данные:\n",
        "содержимое purchase_log.txt помещается в оперативную память компьютера\n",
        "содержимое visit_log.csv - нет; используйте только построчную обработку этого файла"
      ],
      "metadata": {
        "id": "ODsudcE76yBe"
      }
    },
    {
      "cell_type": "markdown",
      "source": [
        "**Задание 1**"
      ],
      "metadata": {
        "id": "a08iBPOsjvqA"
      }
    },
    {
      "cell_type": "markdown",
      "source": [
        "Переведите содержимое файла purchase_log.txt в словарь purchases вида:\n",
        "{‘1840e0b9d4’: ‘Продукты’, …}"
      ],
      "metadata": {
        "id": "J-q9kgigjz1T"
      }
    },
    {
      "cell_type": "code",
      "execution_count": 2,
      "metadata": {
        "id": "t9-LwfhJxMNf"
      },
      "outputs": [],
      "source": [
        "import json\n",
        "purchases = {}\n",
        "\n",
        "with open ('purchase_log.txt', 'r') as f_purchases:\n",
        "        # избавляюсь от строки с заголовками     \n",
        "        next(f_purchases)\n",
        "        \n",
        "        i = 0\n",
        "        for line in f_purchases:\n",
        "                i += 1\n",
        "                key, value = json.loads(line).values()\n",
        "                purchases[key] = value\n"
      ]
    },
    {
      "cell_type": "markdown",
      "source": [
        "**Задание 2**"
      ],
      "metadata": {
        "id": "1vERJRdf6Nvi"
      }
    },
    {
      "cell_type": "markdown",
      "source": [
        "Для каждого user_id в файле visit_log.csv определите третий столбец с категорией покупки (если покупка была, сам файл visit_log.csv изменять не надо). Запишите в файл funnel.csv визиты из файла visit_log.csv, в которых были покупки с указанием категории."
      ],
      "metadata": {
        "id": "s7r-jdd26P3b"
      }
    },
    {
      "cell_type": "code",
      "source": [
        "with open ('visit_log.csv', 'r') as f_visit:\n",
        "        with open ('funnel.csv', 'w') as f_funnel:\n",
        "                i = 0\n",
        "                for line in f_visit:\n",
        "                        i += 1\n",
        "                        line_list = line.strip().split(',')\n",
        "                        # создаю условие проверки на наличие покупок у пользователя:\n",
        "                        if line_list[0] in purchases:\n",
        "                                # создаю переменные по каждому столбцу для записи в таблицу:\n",
        "                                user_id = line_list[0]\n",
        "                                ads = line_list[1]\n",
        "                                category = purchases[line_list[0]]\n",
        "                                # создаю строчку для записи в таблицу:\n",
        "                                line_funnel = user_id, ads, category\n",
        "                                # записываю данные в таблицу построчно:                       \n",
        "                                f_funnel.write(','.join(line_funnel) + '\\n')                                                                                 \n",
        "\n",
        "# Проверка:\n",
        "with open ('funnel.csv', 'r') as f_fun:\n",
        "        i = 0                             \n",
        "        for line_f in f_fun:\n",
        "                print(line_f)\n",
        "                i +=1\n",
        "                if i > 6:\n",
        "                        break\n",
        "                                      "
      ],
      "metadata": {
        "id": "FjKeHrgg6US_",
        "colab": {
          "base_uri": "https://localhost:8080/"
        },
        "outputId": "90f4f1fc-cacf-4a52-b73c-e15e061b6c1b"
      },
      "execution_count": 3,
      "outputs": [
        {
          "output_type": "stream",
          "name": "stdout",
          "text": [
            "1840e0b9d4,other,Продукты\n",
            "\n",
            "4e4f90fcfb,context,Электроника\n",
            "\n",
            "afea8d72fc,other,Электроника\n",
            "\n",
            "2824221f38,email,Продукты\n",
            "\n",
            "373a6055fe,other,Бытовая техника\n",
            "\n",
            "9b2ab046f3,other,Электроника\n",
            "\n",
            "9f39d307c3,context,Электроника\n",
            "\n"
          ]
        }
      ]
    }
  ]
}