{
  "nbformat": 4,
  "nbformat_minor": 0,
  "metadata": {
    "colab": {
      "provenance": []
    },
    "kernelspec": {
      "name": "python3",
      "display_name": "Python 3"
    }
  },
  "cells": [
    {
      "cell_type": "markdown",
      "metadata": {
        "id": "mc57t-wnPvuT"
      },
      "source": [
        "## Установка PySpark"
      ]
    },
    {
      "cell_type": "code",
      "metadata": {
        "id": "Kl3IFfzNE45B",
        "colab": {
          "base_uri": "https://localhost:8080/"
        },
        "outputId": "85ea1aa1-979a-46e7-860b-6bb620c8e748"
      },
      "source": [
        "!apt-get update"
      ],
      "execution_count": null,
      "outputs": [
        {
          "output_type": "stream",
          "name": "stdout",
          "text": [
            "Get:1 https://cloud.r-project.org/bin/linux/ubuntu bionic-cran40/ InRelease [3,626 B]\n",
            "Hit:2 http://archive.ubuntu.com/ubuntu bionic InRelease\n",
            "Get:3 http://security.ubuntu.com/ubuntu bionic-security InRelease [88.7 kB]\n",
            "Ign:4 https://developer.download.nvidia.com/compute/machine-learning/repos/ubuntu1804/x86_64  InRelease\n",
            "Hit:5 https://developer.download.nvidia.com/compute/cuda/repos/ubuntu1804/x86_64  InRelease\n",
            "Hit:6 https://developer.download.nvidia.com/compute/machine-learning/repos/ubuntu1804/x86_64  Release\n",
            "Hit:7 http://ppa.launchpad.net/c2d4u.team/c2d4u4.0+/ubuntu bionic InRelease\n",
            "Get:8 http://archive.ubuntu.com/ubuntu bionic-updates InRelease [88.7 kB]\n",
            "Hit:9 http://ppa.launchpad.net/cran/libgit2/ubuntu bionic InRelease\n",
            "Get:11 http://archive.ubuntu.com/ubuntu bionic-backports InRelease [74.6 kB]\n",
            "Hit:12 http://ppa.launchpad.net/deadsnakes/ppa/ubuntu bionic InRelease\n",
            "Get:13 http://security.ubuntu.com/ubuntu bionic-security/restricted amd64 Packages [1,121 kB]\n",
            "Hit:14 http://ppa.launchpad.net/graphics-drivers/ppa/ubuntu bionic InRelease\n",
            "Get:15 http://archive.ubuntu.com/ubuntu bionic-updates/main amd64 Packages [3,390 kB]\n",
            "Get:16 http://security.ubuntu.com/ubuntu bionic-security/universe amd64 Packages [1,540 kB]\n",
            "Get:17 http://security.ubuntu.com/ubuntu bionic-security/main amd64 Packages [2,959 kB]\n",
            "Get:18 http://archive.ubuntu.com/ubuntu bionic-updates/restricted amd64 Packages [1,162 kB]\n",
            "Fetched 10.4 MB in 4s (2,530 kB/s)\n",
            "Reading package lists... Done\n"
          ]
        }
      ]
    },
    {
      "cell_type": "code",
      "metadata": {
        "id": "ayDTf4zuBWpE"
      },
      "source": [
        "!apt-get install openjdk-8-jdk-headless -qq > /dev/null"
      ],
      "execution_count": null,
      "outputs": []
    },
    {
      "cell_type": "code",
      "metadata": {
        "id": "NMASjKe1BZTH"
      },
      "source": [
        "!wget -q https://downloads.apache.org/spark/spark-3.2.2/spark-3.2.2-bin-hadoop2.7.tgz"
      ],
      "execution_count": null,
      "outputs": []
    },
    {
      "cell_type": "code",
      "metadata": {
        "id": "3a45uXduBesm"
      },
      "source": [
        "!tar -xvf spark-3.2.2-bin-hadoop2.7.tgz"
      ],
      "execution_count": null,
      "outputs": []
    },
    {
      "cell_type": "code",
      "metadata": {
        "id": "u5l80lXABhkh"
      },
      "source": [
        "!pip install -q findspark"
      ],
      "execution_count": null,
      "outputs": []
    },
    {
      "cell_type": "code",
      "metadata": {
        "id": "OzLOKCzbBk2O"
      },
      "source": [
        "import os\n",
        "os.environ[\"JAVA_HOME\"] = \"/usr/lib/jvm/java-8-openjdk-amd64\"\n",
        "os.environ[\"SPARK_HOME\"] = \"/content/spark-3.2.2-bin-hadoop2.7\""
      ],
      "execution_count": null,
      "outputs": []
    },
    {
      "cell_type": "code",
      "metadata": {
        "id": "1pSrW3TfBnX1"
      },
      "source": [
        "import findspark\n",
        "findspark.init()\n",
        "from pyspark.sql import SparkSession\n",
        "\n",
        "spark = SparkSession.builder.master(\"local[*]\").getOrCreate()"
      ],
      "execution_count": null,
      "outputs": []
    },
    {
      "cell_type": "markdown",
      "metadata": {
        "id": "ET5O_hjXP1mQ"
      },
      "source": [
        "## Загрузите данные при помощи spark.read.csv из приложенного файла"
      ]
    },
    {
      "cell_type": "code",
      "metadata": {
        "id": "dU4NSXjdBrYL"
      },
      "source": [
        "df = spark.read.csv('iris.CSV', inferSchema=True, header=True)"
      ],
      "execution_count": null,
      "outputs": []
    },
    {
      "cell_type": "code",
      "metadata": {
        "id": "hWYpVRxpByHH",
        "colab": {
          "base_uri": "https://localhost:8080/"
        },
        "outputId": "79ff7d01-5ecf-4551-9b5f-1d43d34e6b18"
      },
      "source": [
        "df.show (5)"
      ],
      "execution_count": null,
      "outputs": [
        {
          "output_type": "stream",
          "name": "stdout",
          "text": [
            "+------------+-----------+------------+-----------+-------+-----------+\n",
            "|sepal_length|sepal_width|petal_length|petal_width|variety|variety_num|\n",
            "+------------+-----------+------------+-----------+-------+-----------+\n",
            "|         5.1|        3.5|         1.4|        0.2| Setosa|          0|\n",
            "|         4.9|        3.0|         1.4|        0.2| Setosa|          0|\n",
            "|         4.7|        3.2|         1.3|        0.2| Setosa|          0|\n",
            "|         4.6|        3.1|         1.5|        0.2| Setosa|          0|\n",
            "|         5.0|        3.6|         1.4|        0.2| Setosa|          0|\n",
            "+------------+-----------+------------+-----------+-------+-----------+\n",
            "only showing top 5 rows\n",
            "\n"
          ]
        }
      ]
    },
    {
      "cell_type": "markdown",
      "metadata": {
        "id": "0d-mTjYiQAuF"
      },
      "source": [
        "## Воспользуйтесь командами groupBy, max, min и avg, чтобы вывести максимальное минимальное и среднее значние каждого из аттрибутов цветка ('sepal_length','sepal_width','petal_length','petal_width')"
      ]
    },
    {
      "cell_type": "code",
      "metadata": {
        "id": "zblq8_2LB1lR"
      },
      "source": [
        "df_var_max = df.groupBy('variety').max('sepal_length','sepal_width','petal_length','petal_width')"
      ],
      "execution_count": null,
      "outputs": []
    },
    {
      "cell_type": "code",
      "metadata": {
        "id": "sBZrsSh_B4ZE",
        "colab": {
          "base_uri": "https://localhost:8080/"
        },
        "outputId": "7b94ec85-369a-46b4-c1a8-ff257be428d1"
      },
      "source": [
        "df_var_max.show ()"
      ],
      "execution_count": null,
      "outputs": [
        {
          "output_type": "stream",
          "name": "stdout",
          "text": [
            "+----------+-----------------+----------------+-----------------+----------------+\n",
            "|   variety|max(sepal_length)|max(sepal_width)|max(petal_length)|max(petal_width)|\n",
            "+----------+-----------------+----------------+-----------------+----------------+\n",
            "| Virginica|              7.9|             3.8|              6.9|             2.5|\n",
            "|    Setosa|              5.8|             4.4|              1.9|             0.6|\n",
            "|Versicolor|              7.0|             3.4|              5.1|             1.8|\n",
            "+----------+-----------------+----------------+-----------------+----------------+\n",
            "\n"
          ]
        }
      ]
    },
    {
      "cell_type": "code",
      "metadata": {
        "id": "FRfR-vBjB8ku"
      },
      "source": [
        "df_var_min = df.groupBy('variety').min('sepal_length','sepal_width','petal_length','petal_width')"
      ],
      "execution_count": null,
      "outputs": []
    },
    {
      "cell_type": "code",
      "source": [
        "df_var_min.show ()"
      ],
      "metadata": {
        "colab": {
          "base_uri": "https://localhost:8080/"
        },
        "id": "Q8dWGKT8onmV",
        "outputId": "80401e97-d44f-49bb-e40b-ecac2c3a7667"
      },
      "execution_count": null,
      "outputs": [
        {
          "output_type": "stream",
          "name": "stdout",
          "text": [
            "+----------+-----------------+----------------+-----------------+----------------+\n",
            "|   variety|min(sepal_length)|min(sepal_width)|min(petal_length)|min(petal_width)|\n",
            "+----------+-----------------+----------------+-----------------+----------------+\n",
            "| Virginica|              4.9|             2.2|              4.5|             1.4|\n",
            "|    Setosa|              4.3|             2.3|              1.0|             0.1|\n",
            "|Versicolor|              4.9|             2.0|              3.0|             1.0|\n",
            "+----------+-----------------+----------------+-----------------+----------------+\n",
            "\n"
          ]
        }
      ]
    },
    {
      "cell_type": "code",
      "source": [
        "df_var_avg = df.groupBy('variety').avg('sepal_length','sepal_width','petal_length','petal_width')"
      ],
      "metadata": {
        "id": "PuLgc-ssoxmO"
      },
      "execution_count": null,
      "outputs": []
    },
    {
      "cell_type": "code",
      "source": [
        "df_var_avg.show ()"
      ],
      "metadata": {
        "colab": {
          "base_uri": "https://localhost:8080/"
        },
        "id": "r9QDfxX1oxIT",
        "outputId": "7659c829-cdd8-400f-93b9-8c8b72494ff1"
      },
      "execution_count": null,
      "outputs": [
        {
          "output_type": "stream",
          "name": "stdout",
          "text": [
            "+----------+-----------------+------------------+------------------+------------------+\n",
            "|   variety|avg(sepal_length)|  avg(sepal_width)| avg(petal_length)|  avg(petal_width)|\n",
            "+----------+-----------------+------------------+------------------+------------------+\n",
            "| Virginica|6.587999999999998|2.9739999999999998|             5.552|             2.026|\n",
            "|    Setosa|5.005999999999999| 3.428000000000001|1.4620000000000002|0.2459999999999999|\n",
            "|Versicolor|            5.936|2.7700000000000005|              4.26|1.3259999999999998|\n",
            "+----------+-----------------+------------------+------------------+------------------+\n",
            "\n"
          ]
        }
      ]
    },
    {
      "cell_type": "code",
      "metadata": {
        "id": "hFHLu0GeB9G6"
      },
      "source": [
        "import matplotlib.pyplot as plt"
      ],
      "execution_count": null,
      "outputs": []
    },
    {
      "cell_type": "code",
      "metadata": {
        "id": "dz2jOZxCB9W6",
        "colab": {
          "base_uri": "https://localhost:8080/",
          "height": 285
        },
        "outputId": "51290067-9679-4c03-83b8-bf640c2436b0"
      },
      "source": [
        "plt.scatter(df[['sepal_length']].collect(), df[['sepal_width']].collect(), c=df[['variety_num']].collect())"
      ],
      "execution_count": null,
      "outputs": [
        {
          "output_type": "execute_result",
          "data": {
            "text/plain": [
              "<matplotlib.collections.PathCollection at 0x7feed5543310>"
            ]
          },
          "metadata": {},
          "execution_count": 17
        },
        {
          "output_type": "display_data",
          "data": {
            "text/plain": [
              "<Figure size 432x288 with 1 Axes>"
            ],
            "image/png": "[encoded data removed]"
          },
          "metadata": {
            "needs_background": "light"
          }
        }
      ]
    },
    {
      "cell_type": "markdown",
      "metadata": {
        "id": "OlNbmAsWQUVy"
      },
      "source": [
        "## Выведите по аналогии график petal_length и petal_width, так же раскрашенный по типам цветков"
      ]
    },
    {
      "cell_type": "code",
      "metadata": {
        "id": "effgfL_xGw42",
        "colab": {
          "base_uri": "https://localhost:8080/",
          "height": 282
        },
        "outputId": "da8d60c3-b013-47d5-abe6-3c973347f91f"
      },
      "source": [
        "plt.scatter(df[['petal_length']].collect(), df[['petal_width']].collect(), c=df[['variety_num']].collect())"
      ],
      "execution_count": null,
      "outputs": [
        {
          "output_type": "execute_result",
          "data": {
            "text/plain": [
              "<matplotlib.collections.PathCollection at 0x7feed503c410>"
            ]
          },
          "metadata": {},
          "execution_count": 18
        },
        {
          "output_type": "display_data",
          "data": {
            "text/plain": [
              "<Figure size 432x288 with 1 Axes>"
            ],
            "image/png": "[encoded data removed]"
          },
          "metadata": {
            "needs_background": "light"
          }
        }
      ]
    },
    {
      "cell_type": "markdown",
      "metadata": {
        "id": "A590TgXXQnpM"
      },
      "source": [
        "## Посмотрите внимательно на получившийся график и сформируйте правило вида ЕСЛИ ЗНАЧЕНИЕ ПАРАМЕТРА A < ЗНАЧЕНИЕ, ТО IRIS ОТНОСИТСЯ К КЛАССУ SETOSA - ИНАЧЕ К КАКОМУ-ТО ДРУГОМУ (НАЗОВЕМ, ЕГО НАПРИМЕР UNKNOWN)\n",
        "## При помощи команд withColumn, when, otherwise создайте в датафрейме новую колонку с таким предсказанием"
      ]
    },
    {
      "cell_type": "code",
      "source": [
        "df_prediction = df.select ('petal_length', 'variety')"
      ],
      "metadata": {
        "id": "RRH_m5Yrd7LW"
      },
      "execution_count": null,
      "outputs": []
    },
    {
      "cell_type": "code",
      "metadata": {
        "id": "FXmgBm7vRM1p"
      },
      "source": [
        "from pyspark.sql.functions import when"
      ],
      "execution_count": null,
      "outputs": []
    },
    {
      "cell_type": "code",
      "metadata": {
        "id": "EsA4ofvxC00S"
      },
      "source": [
        "df_pred = df_prediction.withColumn('prediction', when(df.petal_length < 2,\"Setosa\")\n",
        "                                 .otherwise(\"Unknown\"))"
      ],
      "execution_count": null,
      "outputs": []
    },
    {
      "cell_type": "markdown",
      "metadata": {
        "id": "M1Pw0NZ0Rjxq"
      },
      "source": [
        "## Проверьте качество своего предсказания\n",
        "Для этого:\n",
        "1. Подсчитайте количество строк, где Вы предсказали класс Setosa и правильный класс был так же Setosa\n",
        "2. Подсчитайте количество строк, где Вы предскзали класс Setosa, а правильный класс был какой-то другой (воспользуйтесь оператором \"не равно\" - !=)"
      ]
    },
    {
      "cell_type": "code",
      "metadata": {
        "id": "BhGr7GoljSBy"
      },
      "source": [
        "from pyspark.sql.functions import filter"
      ],
      "execution_count": null,
      "outputs": []
    },
    {
      "cell_type": "code",
      "source": [
        "df_pred.filter((df_pred['prediction'] == \"Setosa\") & (df_pred['variety'] == \"Setosa\")).count()"
      ],
      "metadata": {
        "colab": {
          "base_uri": "https://localhost:8080/"
        },
        "id": "PXinwgPNpUqa",
        "outputId": "16a1f7d8-33c2-4918-a245-18d143743fe8"
      },
      "execution_count": null,
      "outputs": [
        {
          "output_type": "execute_result",
          "data": {
            "text/plain": [
              "50"
            ]
          },
          "metadata": {},
          "execution_count": 23
        }
      ]
    },
    {
      "cell_type": "code",
      "metadata": {
        "id": "Mf-g88-dIGIi",
        "colab": {
          "base_uri": "https://localhost:8080/"
        },
        "outputId": "555c9664-9a6d-4217-f1e7-5f86d4398697"
      },
      "source": [
        "df_pred.filter((df_pred['prediction'] == \"Setosa\") & (df_pred['variety'] != \"Setosa\")).count()"
      ],
      "execution_count": null,
      "outputs": [
        {
          "output_type": "execute_result",
          "data": {
            "text/plain": [
              "0"
            ]
          },
          "metadata": {},
          "execution_count": 24
        }
      ]
    }
  ]
}